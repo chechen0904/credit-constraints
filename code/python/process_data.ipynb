{
 "cells": [
  {
   "cell_type": "code",
   "execution_count": 180,
   "id": "2068cdbb",
   "metadata": {},
   "outputs": [],
   "source": [
    "import pandas as pd\n",
    "import numpy as np\n",
    "import seaborn as sns"
   ]
  },
  {
   "cell_type": "code",
   "execution_count": 181,
   "id": "83b12cf2",
   "metadata": {},
   "outputs": [],
   "source": [
    "inputdir = \"../../data/derived/\"\n",
    "inputdir_for_iv = \"../../data/raw/\""
   ]
  },
  {
   "cell_type": "code",
   "execution_count": 182,
   "id": "c853cade",
   "metadata": {},
   "outputs": [],
   "source": [
    "#Import the data\n",
    "data17 = pd.read_csv(inputdir + \"chfs2017data.csv\")\n",
    "data15 = pd.read_csv(inputdir + \"chfs2015data.csv\")\n",
    "data13 = pd.read_csv(inputdir + \"chfs2013data.csv\")\n",
    "data11 = pd.read_csv(inputdir + \"chfs2011data.csv\")\n",
    "bank_density_data = pd.read_csv(inputdir_for_iv + \"Bank_density_data.csv\")"
   ]
  },
  {
   "cell_type": "code",
   "execution_count": 183,
   "id": "3b793fa4",
   "metadata": {},
   "outputs": [
    {
     "data": {
      "text/html": [
       "<div>\n",
       "<style scoped>\n",
       "    .dataframe tbody tr th:only-of-type {\n",
       "        vertical-align: middle;\n",
       "    }\n",
       "\n",
       "    .dataframe tbody tr th {\n",
       "        vertical-align: top;\n",
       "    }\n",
       "\n",
       "    .dataframe thead th {\n",
       "        text-align: right;\n",
       "    }\n",
       "</style>\n",
       "<table border=\"1\" class=\"dataframe\">\n",
       "  <thead>\n",
       "    <tr style=\"text-align: right;\">\n",
       "      <th></th>\n",
       "      <th>hhid</th>\n",
       "      <th>hhid_2011</th>\n",
       "      <th>hhid_2013</th>\n",
       "      <th>hhid_2015</th>\n",
       "      <th>hhid_2017</th>\n",
       "      <th>stock_values</th>\n",
       "      <th>pline</th>\n",
       "      <th>hhead</th>\n",
       "      <th>education_level</th>\n",
       "      <th>prov_code</th>\n",
       "      <th>...</th>\n",
       "      <th>married</th>\n",
       "      <th>stock_account</th>\n",
       "      <th>health</th>\n",
       "      <th>unemployment</th>\n",
       "      <th>own_house</th>\n",
       "      <th>happiness</th>\n",
       "      <th>rural_household_registration</th>\n",
       "      <th>credit_constraints</th>\n",
       "      <th>econ_fin_info_concern</th>\n",
       "      <th>risk_preference</th>\n",
       "    </tr>\n",
       "  </thead>\n",
       "  <tbody>\n",
       "    <tr>\n",
       "      <th>0</th>\n",
       "      <td>2017000001</td>\n",
       "      <td>NaN</td>\n",
       "      <td>NaN</td>\n",
       "      <td>NaN</td>\n",
       "      <td>2017000001</td>\n",
       "      <td>NaN</td>\n",
       "      <td>2</td>\n",
       "      <td>1.0</td>\n",
       "      <td>1.0</td>\n",
       "      <td>44</td>\n",
       "      <td>...</td>\n",
       "      <td>1</td>\n",
       "      <td>0.0</td>\n",
       "      <td>3.0</td>\n",
       "      <td>0</td>\n",
       "      <td>1</td>\n",
       "      <td>1.0</td>\n",
       "      <td>1</td>\n",
       "      <td>0</td>\n",
       "      <td>1.0</td>\n",
       "      <td>0.0</td>\n",
       "    </tr>\n",
       "    <tr>\n",
       "      <th>1</th>\n",
       "      <td>2017000001</td>\n",
       "      <td>NaN</td>\n",
       "      <td>NaN</td>\n",
       "      <td>NaN</td>\n",
       "      <td>2017000001</td>\n",
       "      <td>NaN</td>\n",
       "      <td>1</td>\n",
       "      <td>NaN</td>\n",
       "      <td>1.0</td>\n",
       "      <td>44</td>\n",
       "      <td>...</td>\n",
       "      <td>1</td>\n",
       "      <td>0.0</td>\n",
       "      <td>3.0</td>\n",
       "      <td>0</td>\n",
       "      <td>1</td>\n",
       "      <td>1.0</td>\n",
       "      <td>1</td>\n",
       "      <td>0</td>\n",
       "      <td>1.0</td>\n",
       "      <td>0.0</td>\n",
       "    </tr>\n",
       "    <tr>\n",
       "      <th>2</th>\n",
       "      <td>2013013417</td>\n",
       "      <td>NaN</td>\n",
       "      <td>2.013013e+09</td>\n",
       "      <td>2.015018e+09</td>\n",
       "      <td>2017000002</td>\n",
       "      <td>NaN</td>\n",
       "      <td>2</td>\n",
       "      <td>NaN</td>\n",
       "      <td>2.0</td>\n",
       "      <td>35</td>\n",
       "      <td>...</td>\n",
       "      <td>1</td>\n",
       "      <td>0.0</td>\n",
       "      <td>2.0</td>\n",
       "      <td>0</td>\n",
       "      <td>1</td>\n",
       "      <td>0.0</td>\n",
       "      <td>0</td>\n",
       "      <td>0</td>\n",
       "      <td>NaN</td>\n",
       "      <td>NaN</td>\n",
       "    </tr>\n",
       "    <tr>\n",
       "      <th>3</th>\n",
       "      <td>2013013417</td>\n",
       "      <td>NaN</td>\n",
       "      <td>2.013013e+09</td>\n",
       "      <td>2.015018e+09</td>\n",
       "      <td>2017000002</td>\n",
       "      <td>NaN</td>\n",
       "      <td>3</td>\n",
       "      <td>NaN</td>\n",
       "      <td>1.0</td>\n",
       "      <td>35</td>\n",
       "      <td>...</td>\n",
       "      <td>0</td>\n",
       "      <td>0.0</td>\n",
       "      <td>2.0</td>\n",
       "      <td>1</td>\n",
       "      <td>1</td>\n",
       "      <td>0.0</td>\n",
       "      <td>0</td>\n",
       "      <td>0</td>\n",
       "      <td>NaN</td>\n",
       "      <td>NaN</td>\n",
       "    </tr>\n",
       "    <tr>\n",
       "      <th>4</th>\n",
       "      <td>2013013417</td>\n",
       "      <td>NaN</td>\n",
       "      <td>2.013013e+09</td>\n",
       "      <td>2.015018e+09</td>\n",
       "      <td>2017000002</td>\n",
       "      <td>NaN</td>\n",
       "      <td>4</td>\n",
       "      <td>NaN</td>\n",
       "      <td>5.0</td>\n",
       "      <td>35</td>\n",
       "      <td>...</td>\n",
       "      <td>0</td>\n",
       "      <td>0.0</td>\n",
       "      <td>4.0</td>\n",
       "      <td>0</td>\n",
       "      <td>1</td>\n",
       "      <td>0.0</td>\n",
       "      <td>0</td>\n",
       "      <td>0</td>\n",
       "      <td>NaN</td>\n",
       "      <td>NaN</td>\n",
       "    </tr>\n",
       "  </tbody>\n",
       "</table>\n",
       "<p>5 rows × 27 columns</p>\n",
       "</div>"
      ],
      "text/plain": [
       "         hhid  hhid_2011     hhid_2013     hhid_2015   hhid_2017 stock_values  \\\n",
       "0  2017000001        NaN           NaN           NaN  2017000001          NaN   \n",
       "1  2017000001        NaN           NaN           NaN  2017000001          NaN   \n",
       "2  2013013417        NaN  2.013013e+09  2.015018e+09  2017000002          NaN   \n",
       "3  2013013417        NaN  2.013013e+09  2.015018e+09  2017000002          NaN   \n",
       "4  2013013417        NaN  2.013013e+09  2.015018e+09  2017000002          NaN   \n",
       "\n",
       "   pline  hhead  education_level  prov_code  ...  married  stock_account  \\\n",
       "0      2    1.0              1.0         44  ...        1            0.0   \n",
       "1      1    NaN              1.0         44  ...        1            0.0   \n",
       "2      2    NaN              2.0         35  ...        1            0.0   \n",
       "3      3    NaN              1.0         35  ...        0            0.0   \n",
       "4      4    NaN              5.0         35  ...        0            0.0   \n",
       "\n",
       "   health  unemployment  own_house  happiness  rural_household_registration  \\\n",
       "0     3.0             0          1        1.0                             1   \n",
       "1     3.0             0          1        1.0                             1   \n",
       "2     2.0             0          1        0.0                             0   \n",
       "3     2.0             1          1        0.0                             0   \n",
       "4     4.0             0          1        0.0                             0   \n",
       "\n",
       "   credit_constraints  econ_fin_info_concern  risk_preference  \n",
       "0                   0                    1.0              0.0  \n",
       "1                   0                    1.0              0.0  \n",
       "2                   0                    NaN              NaN  \n",
       "3                   0                    NaN              NaN  \n",
       "4                   0                    NaN              NaN  \n",
       "\n",
       "[5 rows x 27 columns]"
      ]
     },
     "execution_count": 183,
     "metadata": {},
     "output_type": "execute_result"
    }
   ],
   "source": [
    "data17.head()"
   ]
  },
  {
   "cell_type": "markdown",
   "id": "949d4240",
   "metadata": {},
   "source": [
    "# Data cleaning"
   ]
  },
  {
   "cell_type": "code",
   "execution_count": 184,
   "id": "659156db",
   "metadata": {},
   "outputs": [
    {
     "data": {
      "text/plain": [
       "<AxesSubplot:>"
      ]
     },
     "execution_count": 184,
     "metadata": {},
     "output_type": "execute_result"
    },
    {
     "data": {
      "image/png": "[encoded data removed]",
      "text/plain": [
       "<Figure size 432x288 with 1 Axes>"
      ]
     },
     "metadata": {
      "needs_background": "light"
     },
     "output_type": "display_data"
    }
   ],
   "source": [
    "#Data visualization for the missing values\n",
    "sns.heatmap(data17.isnull(), yticklabels=False, cbar=False, cmap='BuPu_r')"
   ]
  },
  {
   "cell_type": "code",
   "execution_count": 185,
   "id": "95537a52",
   "metadata": {},
   "outputs": [
    {
     "data": {
      "text/plain": [
       "hhid                                 0\n",
       "hhid_2011                       110864\n",
       "hhid_2013                        70872\n",
       "hhid_2015                        38868\n",
       "hhid_2017                            0\n",
       "stock_values                    120378\n",
       "pline                                0\n",
       "hhead                            87001\n",
       "education_level                  17948\n",
       "prov_code                            0\n",
       "total_income                         0\n",
       "total_consump                        0\n",
       "total_asset                          0\n",
       "total_debt                       18867\n",
       "age                                 47\n",
       "family_member_number                11\n",
       "gender                               8\n",
       "married                              0\n",
       "stock_account                      385\n",
       "health                              88\n",
       "unemployment                         0\n",
       "own_house                            0\n",
       "happiness                         1415\n",
       "rural_household_registration         0\n",
       "credit_constraints                   0\n",
       "econ_fin_info_concern            88124\n",
       "risk_preference                  95371\n",
       "dtype: int64"
      ]
     },
     "execution_count": 185,
     "metadata": {},
     "output_type": "execute_result"
    }
   ],
   "source": [
    "data17.isna().sum()"
   ]
  },
  {
   "cell_type": "code",
   "execution_count": 186,
   "id": "ce57dc2a",
   "metadata": {},
   "outputs": [
    {
     "data": {
      "text/plain": [
       "127012"
      ]
     },
     "execution_count": 186,
     "metadata": {},
     "output_type": "execute_result"
    }
   ],
   "source": [
    "#Row numbers for chfs 2017 data\n",
    "data17.shape[0]"
   ]
  },
  {
   "cell_type": "markdown",
   "id": "08ddf0f7",
   "metadata": {},
   "source": [
    "**Deal with missing values of stock-related variables**"
   ]
  },
  {
   "cell_type": "code",
   "execution_count": 187,
   "id": "65ccad28",
   "metadata": {},
   "outputs": [],
   "source": [
    "data17[\"stock_values\"] = np.where(data17[\"stock_account\"] == 0, 0, data17[\"stock_values\"])"
   ]
  },
  {
   "cell_type": "code",
   "execution_count": 188,
   "id": "ae6e7516",
   "metadata": {},
   "outputs": [],
   "source": [
    "data17[\"stock_values\"] = np.where((data17[\"stock_values\"] == \".d\") | \n",
    "                                  (data17[\"stock_values\"] == \".r\") | \n",
    "                                  (data17[\"stock_values\"] == \".n\") |\n",
    "                                  (data17[\"stock_values\"] == \".e\"), \n",
    "                                  \".\", data17[\"stock_values\"])\n",
    "data17[\"stock_values\"] = np.where(data17[\"stock_values\"] == \".\", -1, data17[\"stock_values\"])\n",
    "#Change the type of dependent variable\n",
    "data17[\"stock_values\"] = data17[\"stock_values\"].astype(float)\n",
    "#Delete missing values\n",
    "data17 = data17.drop(data17[data17['stock_values'] == -1].index)"
   ]
  },
  {
   "cell_type": "code",
   "execution_count": 189,
   "id": "5f217e6c",
   "metadata": {},
   "outputs": [],
   "source": [
    "#Delete unneeded variable\n",
    "del data17[\"stock_account\"]"
   ]
  },
  {
   "cell_type": "code",
   "execution_count": 190,
   "id": "2c66b102",
   "metadata": {},
   "outputs": [],
   "source": [
    "#Since my research question is focused on the household level, I only need one data per household.\n",
    "#That is, the data of the head of the household.\n",
    "data17 = data17.dropna(subset = ['hhead'])\n",
    "del data17['hhead']"
   ]
  },
  {
   "cell_type": "code",
   "execution_count": 191,
   "id": "65ab69a6",
   "metadata": {},
   "outputs": [
    {
     "data": {
      "text/html": [
       "<div>\n",
       "<style scoped>\n",
       "    .dataframe tbody tr th:only-of-type {\n",
       "        vertical-align: middle;\n",
       "    }\n",
       "\n",
       "    .dataframe tbody tr th {\n",
       "        vertical-align: top;\n",
       "    }\n",
       "\n",
       "    .dataframe thead th {\n",
       "        text-align: right;\n",
       "    }\n",
       "</style>\n",
       "<table border=\"1\" class=\"dataframe\">\n",
       "  <thead>\n",
       "    <tr style=\"text-align: right;\">\n",
       "      <th></th>\n",
       "      <th>hhid_2015</th>\n",
       "      <th>econ_fin_info_concern_2015</th>\n",
       "      <th>risk_preference_2015</th>\n",
       "    </tr>\n",
       "  </thead>\n",
       "  <tbody>\n",
       "    <tr>\n",
       "      <th>0</th>\n",
       "      <td>2015000001</td>\n",
       "      <td>1.0</td>\n",
       "      <td>0.0</td>\n",
       "    </tr>\n",
       "    <tr>\n",
       "      <th>1</th>\n",
       "      <td>2015000002</td>\n",
       "      <td>3.0</td>\n",
       "      <td>2.0</td>\n",
       "    </tr>\n",
       "    <tr>\n",
       "      <th>2</th>\n",
       "      <td>2015000003</td>\n",
       "      <td>1.0</td>\n",
       "      <td>0.0</td>\n",
       "    </tr>\n",
       "    <tr>\n",
       "      <th>3</th>\n",
       "      <td>2015000004</td>\n",
       "      <td>3.0</td>\n",
       "      <td>4.0</td>\n",
       "    </tr>\n",
       "    <tr>\n",
       "      <th>4</th>\n",
       "      <td>2015000005</td>\n",
       "      <td>0.0</td>\n",
       "      <td>0.0</td>\n",
       "    </tr>\n",
       "  </tbody>\n",
       "</table>\n",
       "</div>"
      ],
      "text/plain": [
       "    hhid_2015  econ_fin_info_concern_2015  risk_preference_2015\n",
       "0  2015000001                         1.0                   0.0\n",
       "1  2015000002                         3.0                   2.0\n",
       "2  2015000003                         1.0                   0.0\n",
       "3  2015000004                         3.0                   4.0\n",
       "4  2015000005                         0.0                   0.0"
      ]
     },
     "execution_count": 191,
     "metadata": {},
     "output_type": "execute_result"
    }
   ],
   "source": [
    "data15.head()"
   ]
  },
  {
   "cell_type": "code",
   "execution_count": 192,
   "id": "8cd02bd7",
   "metadata": {},
   "outputs": [
    {
     "data": {
      "text/html": [
       "<div>\n",
       "<style scoped>\n",
       "    .dataframe tbody tr th:only-of-type {\n",
       "        vertical-align: middle;\n",
       "    }\n",
       "\n",
       "    .dataframe tbody tr th {\n",
       "        vertical-align: top;\n",
       "    }\n",
       "\n",
       "    .dataframe thead th {\n",
       "        text-align: right;\n",
       "    }\n",
       "</style>\n",
       "<table border=\"1\" class=\"dataframe\">\n",
       "  <thead>\n",
       "    <tr style=\"text-align: right;\">\n",
       "      <th></th>\n",
       "      <th>hhid_2013</th>\n",
       "      <th>econ_fin_info_concern_2013</th>\n",
       "      <th>risk_preference_2013</th>\n",
       "    </tr>\n",
       "  </thead>\n",
       "  <tbody>\n",
       "    <tr>\n",
       "      <th>0</th>\n",
       "      <td>2013000001</td>\n",
       "      <td>1.0</td>\n",
       "      <td>1.0</td>\n",
       "    </tr>\n",
       "    <tr>\n",
       "      <th>1</th>\n",
       "      <td>2013000002</td>\n",
       "      <td>2.0</td>\n",
       "      <td>1.0</td>\n",
       "    </tr>\n",
       "    <tr>\n",
       "      <th>2</th>\n",
       "      <td>2013000003</td>\n",
       "      <td>2.0</td>\n",
       "      <td>0.0</td>\n",
       "    </tr>\n",
       "    <tr>\n",
       "      <th>3</th>\n",
       "      <td>2013000004</td>\n",
       "      <td>3.0</td>\n",
       "      <td>0.0</td>\n",
       "    </tr>\n",
       "    <tr>\n",
       "      <th>4</th>\n",
       "      <td>2013000005</td>\n",
       "      <td>2.0</td>\n",
       "      <td>2.0</td>\n",
       "    </tr>\n",
       "  </tbody>\n",
       "</table>\n",
       "</div>"
      ],
      "text/plain": [
       "    hhid_2013  econ_fin_info_concern_2013  risk_preference_2013\n",
       "0  2013000001                         1.0                   1.0\n",
       "1  2013000002                         2.0                   1.0\n",
       "2  2013000003                         2.0                   0.0\n",
       "3  2013000004                         3.0                   0.0\n",
       "4  2013000005                         2.0                   2.0"
      ]
     },
     "execution_count": 192,
     "metadata": {},
     "output_type": "execute_result"
    }
   ],
   "source": [
    "data13.head()"
   ]
  },
  {
   "cell_type": "code",
   "execution_count": 193,
   "id": "c4fb82cf",
   "metadata": {},
   "outputs": [
    {
     "data": {
      "text/html": [
       "<div>\n",
       "<style scoped>\n",
       "    .dataframe tbody tr th:only-of-type {\n",
       "        vertical-align: middle;\n",
       "    }\n",
       "\n",
       "    .dataframe tbody tr th {\n",
       "        vertical-align: top;\n",
       "    }\n",
       "\n",
       "    .dataframe thead th {\n",
       "        text-align: right;\n",
       "    }\n",
       "</style>\n",
       "<table border=\"1\" class=\"dataframe\">\n",
       "  <thead>\n",
       "    <tr style=\"text-align: right;\">\n",
       "      <th></th>\n",
       "      <th>hhid_2011</th>\n",
       "      <th>risk_preference_2011</th>\n",
       "    </tr>\n",
       "  </thead>\n",
       "  <tbody>\n",
       "    <tr>\n",
       "      <th>0</th>\n",
       "      <td>201100001</td>\n",
       "      <td>0.0</td>\n",
       "    </tr>\n",
       "    <tr>\n",
       "      <th>1</th>\n",
       "      <td>201100002</td>\n",
       "      <td>0.0</td>\n",
       "    </tr>\n",
       "    <tr>\n",
       "      <th>2</th>\n",
       "      <td>201100003</td>\n",
       "      <td>0.0</td>\n",
       "    </tr>\n",
       "    <tr>\n",
       "      <th>3</th>\n",
       "      <td>201100004</td>\n",
       "      <td>0.0</td>\n",
       "    </tr>\n",
       "    <tr>\n",
       "      <th>4</th>\n",
       "      <td>201100005</td>\n",
       "      <td>0.0</td>\n",
       "    </tr>\n",
       "  </tbody>\n",
       "</table>\n",
       "</div>"
      ],
      "text/plain": [
       "   hhid_2011  risk_preference_2011\n",
       "0  201100001                   0.0\n",
       "1  201100002                   0.0\n",
       "2  201100003                   0.0\n",
       "3  201100004                   0.0\n",
       "4  201100005                   0.0"
      ]
     },
     "execution_count": 193,
     "metadata": {},
     "output_type": "execute_result"
    }
   ],
   "source": [
    "data11.head()"
   ]
  },
  {
   "cell_type": "code",
   "execution_count": 194,
   "id": "41c32b7b",
   "metadata": {},
   "outputs": [],
   "source": [
    "data17['hhid_2015'] = np.where(data17[\"hhid_2015\"].isnull() == True, -1, data17[\"hhid_2015\"])\n",
    "data17['hhid_2013'] = np.where(data17[\"hhid_2013\"].isnull() == True, -1, data17[\"hhid_2013\"])\n",
    "data17['hhid_2011'] = np.where(data17[\"hhid_2011\"].isnull() == True, -1, data17[\"hhid_2011\"])\n",
    "data17['hhid_2015'] = data17['hhid_2015'].astype(int)\n",
    "data17['hhid_2013'] = data17['hhid_2013'].astype(int)\n",
    "data17['hhid_2011'] = data17['hhid_2011'].astype(int)"
   ]
  },
  {
   "cell_type": "markdown",
   "id": "4e332173",
   "metadata": {},
   "source": [
    "You can observe a large number of missing values in `econ_fin_info_concern` and `risk_preference` in data17 because only new respondents were interviewed in these two related questions in the 2017 survey. Therefore, I need to merge the previous data and fill in the missing values."
   ]
  },
  {
   "cell_type": "markdown",
   "id": "66f6ba51",
   "metadata": {},
   "source": [
    "In addition, I will merge the data that contains the instrumental variable. The instrumental variable I chose is the density of banks in each province and the formula is the number of banks in each province / area of each province.\n",
    "\n",
    "**IV data sources**\n",
    "\n",
    "China Banking and Insurance Regulatory Commission (Number of banks): https://xkz.cbirc.gov.cn/jr/\n",
    "\n",
    "Wikipedia (Area of each province): https://zh.wikipedia.org/wiki/%E4%B8%AD%E5%8D%8E%E4%BA%BA%E6%B0%91%E5%85%B1%E5%92%8C%E5%9B%BD%E7%9C%81%E7%BA%A7%E8%A1%8C%E6%94%BF%E5%8C%BA%E5%9C%9F%E5%9C%B0%E9%9D%A2%E7%A7%AF%E5%88%97%E8%A1%A8"
   ]
  },
  {
   "cell_type": "code",
   "execution_count": 195,
   "id": "f408ecc5",
   "metadata": {},
   "outputs": [],
   "source": [
    "data1 = pd.merge(data17, data15, on = 'hhid_2015', how = 'outer')\n",
    "data2 = pd.merge(data1, data13, on = 'hhid_2013', how = 'outer')\n",
    "data3 = pd.merge(data2, data11, on = 'hhid_2011', how = 'outer')\n",
    "#Merge the csv file which contains the instrumental variable I needed\n",
    "data = pd.merge(data3, bank_density_data, on = 'prov_code', how = 'outer')\n",
    "#The merge method I used produces a lot of na values, remove them.\n",
    "data = data.dropna(subset = ['hhid'])\n",
    "#The merge method I used also produces a lot of duplicate values, so I need to remove these duplicates.\n",
    "data = data.drop_duplicates(subset = ['hhid'], keep = 'first')"
   ]
  },
  {
   "cell_type": "code",
   "execution_count": 196,
   "id": "76456d61",
   "metadata": {},
   "outputs": [],
   "source": [
    "data['econ_fin_info_concern'] = np.where(data[\"econ_fin_info_concern\"].isnull() == True, \n",
    "                                         data[\"econ_fin_info_concern_2015\"], data[\"econ_fin_info_concern\"])\n",
    "data['econ_fin_info_concern'] = np.where(data[\"econ_fin_info_concern\"].isnull() == True, \n",
    "                                         data[\"econ_fin_info_concern_2013\"], data[\"econ_fin_info_concern\"])"
   ]
  },
  {
   "cell_type": "code",
   "execution_count": 197,
   "id": "5eeb8959",
   "metadata": {},
   "outputs": [],
   "source": [
    "data['risk_preference'] = np.where(data[\"risk_preference\"].isnull() == True, data[\"risk_preference_2015\"], \n",
    "                                   data[\"risk_preference\"])\n",
    "data['risk_preference'] = np.where(data[\"risk_preference\"].isnull() == True, data[\"risk_preference_2013\"], \n",
    "                                   data[\"risk_preference\"])\n",
    "data['risk_preference'] = np.where(data[\"risk_preference\"].isnull() == True, data[\"risk_preference_2011\"], \n",
    "                                   data[\"risk_preference\"])"
   ]
  },
  {
   "cell_type": "code",
   "execution_count": 198,
   "id": "a8f49fb7",
   "metadata": {},
   "outputs": [],
   "source": [
    "#Delete unneeded variables\n",
    "del data[\"hhid_2017\"]\n",
    "del data[\"hhid_2015\"]\n",
    "del data[\"hhid_2013\"]\n",
    "del data[\"hhid_2011\"]\n",
    "del data[\"econ_fin_info_concern_2015\"]\n",
    "del data[\"econ_fin_info_concern_2013\"]\n",
    "del data[\"risk_preference_2015\"]\n",
    "del data[\"risk_preference_2013\"]\n",
    "del data[\"risk_preference_2011\"]\n",
    "del data[\"prov_code\"]\n",
    "del data[\"bank_number\"]\n",
    "del data[\"prov_area\"]"
   ]
  },
  {
   "cell_type": "code",
   "execution_count": 199,
   "id": "9a3d05f2",
   "metadata": {},
   "outputs": [
    {
     "data": {
      "text/plain": [
       "hhid                               0\n",
       "stock_values                    1257\n",
       "pline                              0\n",
       "education_level                   52\n",
       "total_income                       0\n",
       "total_consump                      0\n",
       "total_asset                        0\n",
       "total_debt                      8274\n",
       "age                               10\n",
       "family_member_number               3\n",
       "gender                             1\n",
       "married                            0\n",
       "health                             9\n",
       "unemployment                       0\n",
       "own_house                          0\n",
       "happiness                        454\n",
       "rural_household_registration       0\n",
       "credit_constraints                 0\n",
       "econ_fin_info_concern             44\n",
       "risk_preference                 3677\n",
       "bank_density                       0\n",
       "dtype: int64"
      ]
     },
     "execution_count": 199,
     "metadata": {},
     "output_type": "execute_result"
    }
   ],
   "source": [
    "data.isna().sum()"
   ]
  },
  {
   "cell_type": "code",
   "execution_count": 200,
   "id": "82efb58e",
   "metadata": {},
   "outputs": [
    {
     "data": {
      "text/plain": [
       "<AxesSubplot:>"
      ]
     },
     "execution_count": 200,
     "metadata": {},
     "output_type": "execute_result"
    },
    {
     "data": {
      "image/png": "[encoded data removed]",
      "text/plain": [
       "<Figure size 432x288 with 1 Axes>"
      ]
     },
     "metadata": {
      "needs_background": "light"
     },
     "output_type": "display_data"
    }
   ],
   "source": [
    "#Data visualization for the missing values\n",
    "sns.heatmap(data.isnull(), yticklabels=False, cbar=False, cmap='BuPu_r')"
   ]
  },
  {
   "cell_type": "code",
   "execution_count": 201,
   "id": "2f05ed19",
   "metadata": {},
   "outputs": [],
   "source": [
    "#Delete rows with too many missing values\n",
    "data = data.dropna(subset = ['total_debt'])\n",
    "data = data.dropna(subset = ['risk_preference'])\n",
    "data = data.dropna(subset = ['stock_values'])\n",
    "data = data.dropna(subset = ['happiness'])"
   ]
  },
  {
   "cell_type": "code",
   "execution_count": 202,
   "id": "e8ce093f",
   "metadata": {},
   "outputs": [
    {
     "data": {
      "text/plain": [
       "hhid                             0\n",
       "stock_values                     0\n",
       "pline                            0\n",
       "education_level                 36\n",
       "total_income                     0\n",
       "total_consump                    0\n",
       "total_asset                      0\n",
       "total_debt                       0\n",
       "age                              6\n",
       "family_member_number             3\n",
       "gender                           0\n",
       "married                          0\n",
       "health                           7\n",
       "unemployment                     0\n",
       "own_house                        0\n",
       "happiness                        0\n",
       "rural_household_registration     0\n",
       "credit_constraints               0\n",
       "econ_fin_info_concern           10\n",
       "risk_preference                  0\n",
       "bank_density                     0\n",
       "dtype: int64"
      ]
     },
     "execution_count": 202,
     "metadata": {},
     "output_type": "execute_result"
    }
   ],
   "source": [
    "data.isna().sum()"
   ]
  },
  {
   "cell_type": "code",
   "execution_count": 203,
   "id": "b3955927",
   "metadata": {},
   "outputs": [],
   "source": [
    "#Continue processing the missing values\n",
    "data['education_level'] = data['education_level'].fillna(data['education_level'].median())\n",
    "data['health'] = data['health'].fillna(data['health'].median())\n",
    "data['family_member_number'] = data['family_member_number'].fillna(data['family_member_number'].median())\n",
    "data['age'] = data['age'].fillna(data['age'].mean())\n",
    "data['econ_fin_info_concern'] = data['econ_fin_info_concern'].fillna(data['econ_fin_info_concern'].median())"
   ]
  },
  {
   "cell_type": "markdown",
   "id": "2d51d980",
   "metadata": {},
   "source": [
    "In fact, there is no restriction on the age of the head of the household, but since my research question requires the head of the household to be a person of `full civil capacity`, therefore I have set the age of the household head to be greater than or equal to `16` years old.\n",
    "\n",
    "In addition, the number of data where the head of the household is less than 16 years old is very, very small and therefore deleted these data has little influence."
   ]
  },
  {
   "cell_type": "code",
   "execution_count": 204,
   "id": "c892e705",
   "metadata": {},
   "outputs": [],
   "source": [
    "data = data.drop(data[data['age'] < 16].index)"
   ]
  },
  {
   "cell_type": "code",
   "execution_count": 205,
   "id": "a5c2629d",
   "metadata": {},
   "outputs": [
    {
     "data": {
      "text/plain": [
       "<AxesSubplot:>"
      ]
     },
     "execution_count": 205,
     "metadata": {},
     "output_type": "execute_result"
    },
    {
     "data": {
      "image/png": "[encoded data removed]",
      "text/plain": [
       "<Figure size 432x288 with 1 Axes>"
      ]
     },
     "metadata": {
      "needs_background": "light"
     },
     "output_type": "display_data"
    }
   ],
   "source": [
    "#All missing values have been processed\n",
    "sns.heatmap(data.isnull(), yticklabels=False, cbar=False, cmap='BuPu_r')"
   ]
  },
  {
   "cell_type": "code",
   "execution_count": 206,
   "id": "618262db",
   "metadata": {},
   "outputs": [],
   "source": [
    "#Generate some needed variables\n",
    "data[\"share_of_stock_asset\"] = (data[\"stock_values\"]/data[\"total_asset\"])*100\n",
    "data[\"age2\"] = data[\"age\"]*data[\"age\"]"
   ]
  },
  {
   "cell_type": "code",
   "execution_count": 207,
   "id": "0ca8830b",
   "metadata": {},
   "outputs": [],
   "source": [
    "#Remove unneeded variables\n",
    "del data[\"stock_values\"]"
   ]
  },
  {
   "cell_type": "code",
   "execution_count": 208,
   "id": "a1d4ff6f",
   "metadata": {},
   "outputs": [
    {
     "data": {
      "text/html": [
       "<div>\n",
       "<style scoped>\n",
       "    .dataframe tbody tr th:only-of-type {\n",
       "        vertical-align: middle;\n",
       "    }\n",
       "\n",
       "    .dataframe tbody tr th {\n",
       "        vertical-align: top;\n",
       "    }\n",
       "\n",
       "    .dataframe thead th {\n",
       "        text-align: right;\n",
       "    }\n",
       "</style>\n",
       "<table border=\"1\" class=\"dataframe\">\n",
       "  <thead>\n",
       "    <tr style=\"text-align: right;\">\n",
       "      <th></th>\n",
       "      <th>hhid</th>\n",
       "      <th>pline</th>\n",
       "      <th>education_level</th>\n",
       "      <th>total_income</th>\n",
       "      <th>total_consump</th>\n",
       "      <th>total_asset</th>\n",
       "      <th>total_debt</th>\n",
       "      <th>age</th>\n",
       "      <th>family_member_number</th>\n",
       "      <th>gender</th>\n",
       "      <th>...</th>\n",
       "      <th>unemployment</th>\n",
       "      <th>own_house</th>\n",
       "      <th>happiness</th>\n",
       "      <th>rural_household_registration</th>\n",
       "      <th>credit_constraints</th>\n",
       "      <th>econ_fin_info_concern</th>\n",
       "      <th>risk_preference</th>\n",
       "      <th>bank_density</th>\n",
       "      <th>share_of_stock_asset</th>\n",
       "      <th>age2</th>\n",
       "    </tr>\n",
       "  </thead>\n",
       "  <tbody>\n",
       "    <tr>\n",
       "      <th>count</th>\n",
       "      <td>2.752000e+04</td>\n",
       "      <td>27520.000000</td>\n",
       "      <td>27520.000000</td>\n",
       "      <td>2.752000e+04</td>\n",
       "      <td>2.752000e+04</td>\n",
       "      <td>2.752000e+04</td>\n",
       "      <td>2.752000e+04</td>\n",
       "      <td>27520.000000</td>\n",
       "      <td>27520.000000</td>\n",
       "      <td>27520.000000</td>\n",
       "      <td>...</td>\n",
       "      <td>27520.000000</td>\n",
       "      <td>27520.000000</td>\n",
       "      <td>27520.000000</td>\n",
       "      <td>27520.000000</td>\n",
       "      <td>27520.000000</td>\n",
       "      <td>27520.000000</td>\n",
       "      <td>27520.000000</td>\n",
       "      <td>27520.000000</td>\n",
       "      <td>27519.000000</td>\n",
       "      <td>27520.000000</td>\n",
       "    </tr>\n",
       "    <tr>\n",
       "      <th>mean</th>\n",
       "      <td>1.766741e+09</td>\n",
       "      <td>1.559302</td>\n",
       "      <td>3.460029</td>\n",
       "      <td>1.011902e+05</td>\n",
       "      <td>6.811913e+04</td>\n",
       "      <td>1.141244e+06</td>\n",
       "      <td>7.216356e+04</td>\n",
       "      <td>52.698332</td>\n",
       "      <td>3.943750</td>\n",
       "      <td>0.172565</td>\n",
       "      <td>...</td>\n",
       "      <td>0.123728</td>\n",
       "      <td>0.923874</td>\n",
       "      <td>0.702253</td>\n",
       "      <td>0.568459</td>\n",
       "      <td>0.080923</td>\n",
       "      <td>1.042914</td>\n",
       "      <td>0.976308</td>\n",
       "      <td>0.088292</td>\n",
       "      <td>0.338673</td>\n",
       "      <td>2944.768155</td>\n",
       "    </tr>\n",
       "    <tr>\n",
       "      <th>std</th>\n",
       "      <td>6.233115e+08</td>\n",
       "      <td>0.982924</td>\n",
       "      <td>1.637127</td>\n",
       "      <td>2.154615e+05</td>\n",
       "      <td>8.350089e+04</td>\n",
       "      <td>2.181797e+06</td>\n",
       "      <td>2.901525e+05</td>\n",
       "      <td>12.948360</td>\n",
       "      <td>2.281196</td>\n",
       "      <td>0.377878</td>\n",
       "      <td>...</td>\n",
       "      <td>0.329277</td>\n",
       "      <td>0.265205</td>\n",
       "      <td>0.457276</td>\n",
       "      <td>0.495300</td>\n",
       "      <td>0.272722</td>\n",
       "      <td>1.093312</td>\n",
       "      <td>1.186772</td>\n",
       "      <td>0.099024</td>\n",
       "      <td>2.478971</td>\n",
       "      <td>1386.178519</td>\n",
       "    </tr>\n",
       "    <tr>\n",
       "      <th>min</th>\n",
       "      <td>2.011000e+08</td>\n",
       "      <td>1.000000</td>\n",
       "      <td>1.000000</td>\n",
       "      <td>-4.950324e+06</td>\n",
       "      <td>7.368000e+02</td>\n",
       "      <td>-2.124020e+05</td>\n",
       "      <td>0.000000e+00</td>\n",
       "      <td>16.000000</td>\n",
       "      <td>1.000000</td>\n",
       "      <td>0.000000</td>\n",
       "      <td>...</td>\n",
       "      <td>0.000000</td>\n",
       "      <td>0.000000</td>\n",
       "      <td>0.000000</td>\n",
       "      <td>0.000000</td>\n",
       "      <td>0.000000</td>\n",
       "      <td>0.000000</td>\n",
       "      <td>0.000000</td>\n",
       "      <td>0.001606</td>\n",
       "      <td>0.000000</td>\n",
       "      <td>256.000000</td>\n",
       "    </tr>\n",
       "    <tr>\n",
       "      <th>25%</th>\n",
       "      <td>2.013010e+09</td>\n",
       "      <td>1.000000</td>\n",
       "      <td>2.000000</td>\n",
       "      <td>2.593070e+04</td>\n",
       "      <td>2.793850e+04</td>\n",
       "      <td>1.390455e+05</td>\n",
       "      <td>0.000000e+00</td>\n",
       "      <td>44.000000</td>\n",
       "      <td>2.000000</td>\n",
       "      <td>0.000000</td>\n",
       "      <td>...</td>\n",
       "      <td>0.000000</td>\n",
       "      <td>1.000000</td>\n",
       "      <td>0.000000</td>\n",
       "      <td>0.000000</td>\n",
       "      <td>0.000000</td>\n",
       "      <td>0.000000</td>\n",
       "      <td>0.000000</td>\n",
       "      <td>0.035234</td>\n",
       "      <td>0.000000</td>\n",
       "      <td>1936.000000</td>\n",
       "    </tr>\n",
       "    <tr>\n",
       "      <th>50%</th>\n",
       "      <td>2.015004e+09</td>\n",
       "      <td>1.000000</td>\n",
       "      <td>3.000000</td>\n",
       "      <td>6.110460e+04</td>\n",
       "      <td>4.890800e+04</td>\n",
       "      <td>4.281965e+05</td>\n",
       "      <td>0.000000e+00</td>\n",
       "      <td>53.000000</td>\n",
       "      <td>3.000000</td>\n",
       "      <td>0.000000</td>\n",
       "      <td>...</td>\n",
       "      <td>0.000000</td>\n",
       "      <td>1.000000</td>\n",
       "      <td>1.000000</td>\n",
       "      <td>1.000000</td>\n",
       "      <td>0.000000</td>\n",
       "      <td>1.000000</td>\n",
       "      <td>1.000000</td>\n",
       "      <td>0.059904</td>\n",
       "      <td>0.000000</td>\n",
       "      <td>2809.000000</td>\n",
       "    </tr>\n",
       "    <tr>\n",
       "      <th>75%</th>\n",
       "      <td>2.017004e+09</td>\n",
       "      <td>2.000000</td>\n",
       "      <td>4.000000</td>\n",
       "      <td>1.138700e+05</td>\n",
       "      <td>8.096000e+04</td>\n",
       "      <td>1.141810e+06</td>\n",
       "      <td>3.280625e+04</td>\n",
       "      <td>62.000000</td>\n",
       "      <td>5.000000</td>\n",
       "      <td>0.000000</td>\n",
       "      <td>...</td>\n",
       "      <td>0.000000</td>\n",
       "      <td>1.000000</td>\n",
       "      <td>1.000000</td>\n",
       "      <td>1.000000</td>\n",
       "      <td>0.000000</td>\n",
       "      <td>2.000000</td>\n",
       "      <td>2.000000</td>\n",
       "      <td>0.098834</td>\n",
       "      <td>0.000000</td>\n",
       "      <td>3844.000000</td>\n",
       "    </tr>\n",
       "    <tr>\n",
       "      <th>max</th>\n",
       "      <td>2.017040e+09</td>\n",
       "      <td>20.000000</td>\n",
       "      <td>9.000000</td>\n",
       "      <td>8.497832e+06</td>\n",
       "      <td>3.434645e+06</td>\n",
       "      <td>6.394004e+07</td>\n",
       "      <td>1.690000e+07</td>\n",
       "      <td>117.000000</td>\n",
       "      <td>30.000000</td>\n",
       "      <td>1.000000</td>\n",
       "      <td>...</td>\n",
       "      <td>1.000000</td>\n",
       "      <td>1.000000</td>\n",
       "      <td>1.000000</td>\n",
       "      <td>1.000000</td>\n",
       "      <td>1.000000</td>\n",
       "      <td>4.000000</td>\n",
       "      <td>4.000000</td>\n",
       "      <td>0.491327</td>\n",
       "      <td>72.723495</td>\n",
       "      <td>13689.000000</td>\n",
       "    </tr>\n",
       "  </tbody>\n",
       "</table>\n",
       "<p>8 rows × 22 columns</p>\n",
       "</div>"
      ],
      "text/plain": [
       "               hhid         pline  education_level  total_income  \\\n",
       "count  2.752000e+04  27520.000000     27520.000000  2.752000e+04   \n",
       "mean   1.766741e+09      1.559302         3.460029  1.011902e+05   \n",
       "std    6.233115e+08      0.982924         1.637127  2.154615e+05   \n",
       "min    2.011000e+08      1.000000         1.000000 -4.950324e+06   \n",
       "25%    2.013010e+09      1.000000         2.000000  2.593070e+04   \n",
       "50%    2.015004e+09      1.000000         3.000000  6.110460e+04   \n",
       "75%    2.017004e+09      2.000000         4.000000  1.138700e+05   \n",
       "max    2.017040e+09     20.000000         9.000000  8.497832e+06   \n",
       "\n",
       "       total_consump   total_asset    total_debt           age  \\\n",
       "count   2.752000e+04  2.752000e+04  2.752000e+04  27520.000000   \n",
       "mean    6.811913e+04  1.141244e+06  7.216356e+04     52.698332   \n",
       "std     8.350089e+04  2.181797e+06  2.901525e+05     12.948360   \n",
       "min     7.368000e+02 -2.124020e+05  0.000000e+00     16.000000   \n",
       "25%     2.793850e+04  1.390455e+05  0.000000e+00     44.000000   \n",
       "50%     4.890800e+04  4.281965e+05  0.000000e+00     53.000000   \n",
       "75%     8.096000e+04  1.141810e+06  3.280625e+04     62.000000   \n",
       "max     3.434645e+06  6.394004e+07  1.690000e+07    117.000000   \n",
       "\n",
       "       family_member_number        gender  ...  unemployment     own_house  \\\n",
       "count          27520.000000  27520.000000  ...  27520.000000  27520.000000   \n",
       "mean               3.943750      0.172565  ...      0.123728      0.923874   \n",
       "std                2.281196      0.377878  ...      0.329277      0.265205   \n",
       "min                1.000000      0.000000  ...      0.000000      0.000000   \n",
       "25%                2.000000      0.000000  ...      0.000000      1.000000   \n",
       "50%                3.000000      0.000000  ...      0.000000      1.000000   \n",
       "75%                5.000000      0.000000  ...      0.000000      1.000000   \n",
       "max               30.000000      1.000000  ...      1.000000      1.000000   \n",
       "\n",
       "          happiness  rural_household_registration  credit_constraints  \\\n",
       "count  27520.000000                  27520.000000        27520.000000   \n",
       "mean       0.702253                      0.568459            0.080923   \n",
       "std        0.457276                      0.495300            0.272722   \n",
       "min        0.000000                      0.000000            0.000000   \n",
       "25%        0.000000                      0.000000            0.000000   \n",
       "50%        1.000000                      1.000000            0.000000   \n",
       "75%        1.000000                      1.000000            0.000000   \n",
       "max        1.000000                      1.000000            1.000000   \n",
       "\n",
       "       econ_fin_info_concern  risk_preference  bank_density  \\\n",
       "count           27520.000000     27520.000000  27520.000000   \n",
       "mean                1.042914         0.976308      0.088292   \n",
       "std                 1.093312         1.186772      0.099024   \n",
       "min                 0.000000         0.000000      0.001606   \n",
       "25%                 0.000000         0.000000      0.035234   \n",
       "50%                 1.000000         1.000000      0.059904   \n",
       "75%                 2.000000         2.000000      0.098834   \n",
       "max                 4.000000         4.000000      0.491327   \n",
       "\n",
       "       share_of_stock_asset          age2  \n",
       "count          27519.000000  27520.000000  \n",
       "mean               0.338673   2944.768155  \n",
       "std                2.478971   1386.178519  \n",
       "min                0.000000    256.000000  \n",
       "25%                0.000000   1936.000000  \n",
       "50%                0.000000   2809.000000  \n",
       "75%                0.000000   3844.000000  \n",
       "max               72.723495  13689.000000  \n",
       "\n",
       "[8 rows x 22 columns]"
      ]
     },
     "execution_count": 208,
     "metadata": {},
     "output_type": "execute_result"
    }
   ],
   "source": [
    "data.describe()"
   ]
  },
  {
   "cell_type": "code",
   "execution_count": 209,
   "id": "f9602f87",
   "metadata": {},
   "outputs": [],
   "source": [
    "#Delete the unreasonable data of stock asset proportion greater than 100\n",
    "data = data.drop(data[data['share_of_stock_asset'] > 100].index)"
   ]
  },
  {
   "cell_type": "code",
   "execution_count": 210,
   "id": "90c53450",
   "metadata": {},
   "outputs": [
    {
     "data": {
      "text/plain": [
       "27520"
      ]
     },
     "execution_count": 210,
     "metadata": {},
     "output_type": "execute_result"
    }
   ],
   "source": [
    "len(data)"
   ]
  },
  {
   "cell_type": "code",
   "execution_count": 211,
   "id": "b75e0644",
   "metadata": {},
   "outputs": [],
   "source": [
    "#Export data\n",
    "data.to_csv(inputdir + 'processed_chfs_data.csv', index=False)"
   ]
  }
 ],
 "metadata": {
  "kernelspec": {
   "display_name": "Python 3 (ipykernel)",
   "language": "python",
   "name": "python3"
  },
  "language_info": {
   "codemirror_mode": {
    "name": "ipython",
    "version": 3
   },
   "file_extension": ".py",
   "mimetype": "text/x-python",
   "name": "python",
   "nbconvert_exporter": "python",
   "pygments_lexer": "ipython3",
   "version": "3.8.3"
  }
 },
 "nbformat": 4,
 "nbformat_minor": 5
}
