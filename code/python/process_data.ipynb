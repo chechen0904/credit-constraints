{
 "cells": [
  {
   "cell_type": "code",
   "execution_count": 33,
   "id": "368dbda7",
   "metadata": {},
   "outputs": [],
   "source": [
    "import pandas as pd\n",
    "import numpy as np\n",
    "import seaborn as sns"
   ]
  },
  {
   "cell_type": "code",
   "execution_count": 34,
   "id": "1e8ae6ce",
   "metadata": {},
   "outputs": [],
   "source": [
    "inputdir = \"../../data/derived/\"\n",
    "inputdir_for_iv = \"../../data/raw/\""
   ]
  },
  {
   "cell_type": "code",
   "execution_count": 35,
   "id": "9f0a13d8",
   "metadata": {},
   "outputs": [],
   "source": [
    "#Import the data\n",
    "data17 = pd.read_csv(inputdir + \"chfs2017data.csv\")\n",
    "data15 = pd.read_csv(inputdir + \"chfs2015data.csv\")\n",
    "data13 = pd.read_csv(inputdir + \"chfs2013data.csv\")\n",
    "data11 = pd.read_csv(inputdir + \"chfs2011data.csv\")\n",
    "bank_density_data = pd.read_csv(inputdir_for_iv + \"Bank_density_data.csv\")"
   ]
  },
  {
   "cell_type": "code",
   "execution_count": 36,
   "id": "96d7f0af",
   "metadata": {},
   "outputs": [
    {
     "data": {
      "text/html": [
       "<div>\n",
       "<style scoped>\n",
       "    .dataframe tbody tr th:only-of-type {\n",
       "        vertical-align: middle;\n",
       "    }\n",
       "\n",
       "    .dataframe tbody tr th {\n",
       "        vertical-align: top;\n",
       "    }\n",
       "\n",
       "    .dataframe thead th {\n",
       "        text-align: right;\n",
       "    }\n",
       "</style>\n",
       "<table border=\"1\" class=\"dataframe\">\n",
       "  <thead>\n",
       "    <tr style=\"text-align: right;\">\n",
       "      <th></th>\n",
       "      <th>hhid</th>\n",
       "      <th>hhid_2011</th>\n",
       "      <th>hhid_2013</th>\n",
       "      <th>hhid_2015</th>\n",
       "      <th>hhid_2017</th>\n",
       "      <th>stock_investment</th>\n",
       "      <th>stock_investment_scope</th>\n",
       "      <th>pline</th>\n",
       "      <th>hhead</th>\n",
       "      <th>education_level</th>\n",
       "      <th>...</th>\n",
       "      <th>married</th>\n",
       "      <th>stock_account</th>\n",
       "      <th>health</th>\n",
       "      <th>unemployment</th>\n",
       "      <th>own_house</th>\n",
       "      <th>happiness</th>\n",
       "      <th>rural_household_registration</th>\n",
       "      <th>credit_constraints</th>\n",
       "      <th>financial_literacy</th>\n",
       "      <th>risk_preference</th>\n",
       "    </tr>\n",
       "  </thead>\n",
       "  <tbody>\n",
       "    <tr>\n",
       "      <th>0</th>\n",
       "      <td>2017000001</td>\n",
       "      <td>NaN</td>\n",
       "      <td>NaN</td>\n",
       "      <td>NaN</td>\n",
       "      <td>2017000001</td>\n",
       "      <td>NaN</td>\n",
       "      <td>NaN</td>\n",
       "      <td>1</td>\n",
       "      <td>NaN</td>\n",
       "      <td>1.0</td>\n",
       "      <td>...</td>\n",
       "      <td>1</td>\n",
       "      <td>0.0</td>\n",
       "      <td>3.0</td>\n",
       "      <td>0</td>\n",
       "      <td>1</td>\n",
       "      <td>1.0</td>\n",
       "      <td>1</td>\n",
       "      <td>0</td>\n",
       "      <td>1.0</td>\n",
       "      <td>1.0</td>\n",
       "    </tr>\n",
       "    <tr>\n",
       "      <th>1</th>\n",
       "      <td>2017000001</td>\n",
       "      <td>NaN</td>\n",
       "      <td>NaN</td>\n",
       "      <td>NaN</td>\n",
       "      <td>2017000001</td>\n",
       "      <td>NaN</td>\n",
       "      <td>NaN</td>\n",
       "      <td>2</td>\n",
       "      <td>1.0</td>\n",
       "      <td>1.0</td>\n",
       "      <td>...</td>\n",
       "      <td>1</td>\n",
       "      <td>0.0</td>\n",
       "      <td>3.0</td>\n",
       "      <td>0</td>\n",
       "      <td>1</td>\n",
       "      <td>1.0</td>\n",
       "      <td>1</td>\n",
       "      <td>0</td>\n",
       "      <td>1.0</td>\n",
       "      <td>1.0</td>\n",
       "    </tr>\n",
       "    <tr>\n",
       "      <th>2</th>\n",
       "      <td>2013013417</td>\n",
       "      <td>NaN</td>\n",
       "      <td>2.013013e+09</td>\n",
       "      <td>2.015018e+09</td>\n",
       "      <td>2017000002</td>\n",
       "      <td>NaN</td>\n",
       "      <td>NaN</td>\n",
       "      <td>2</td>\n",
       "      <td>NaN</td>\n",
       "      <td>2.0</td>\n",
       "      <td>...</td>\n",
       "      <td>1</td>\n",
       "      <td>0.0</td>\n",
       "      <td>2.0</td>\n",
       "      <td>0</td>\n",
       "      <td>1</td>\n",
       "      <td>0.0</td>\n",
       "      <td>0</td>\n",
       "      <td>0</td>\n",
       "      <td>NaN</td>\n",
       "      <td>NaN</td>\n",
       "    </tr>\n",
       "    <tr>\n",
       "      <th>3</th>\n",
       "      <td>2013013417</td>\n",
       "      <td>NaN</td>\n",
       "      <td>2.013013e+09</td>\n",
       "      <td>2.015018e+09</td>\n",
       "      <td>2017000002</td>\n",
       "      <td>NaN</td>\n",
       "      <td>NaN</td>\n",
       "      <td>4</td>\n",
       "      <td>NaN</td>\n",
       "      <td>5.0</td>\n",
       "      <td>...</td>\n",
       "      <td>0</td>\n",
       "      <td>0.0</td>\n",
       "      <td>4.0</td>\n",
       "      <td>0</td>\n",
       "      <td>1</td>\n",
       "      <td>0.0</td>\n",
       "      <td>0</td>\n",
       "      <td>0</td>\n",
       "      <td>NaN</td>\n",
       "      <td>NaN</td>\n",
       "    </tr>\n",
       "    <tr>\n",
       "      <th>4</th>\n",
       "      <td>2013013417</td>\n",
       "      <td>NaN</td>\n",
       "      <td>2.013013e+09</td>\n",
       "      <td>2.015018e+09</td>\n",
       "      <td>2017000002</td>\n",
       "      <td>NaN</td>\n",
       "      <td>NaN</td>\n",
       "      <td>1</td>\n",
       "      <td>1.0</td>\n",
       "      <td>3.0</td>\n",
       "      <td>...</td>\n",
       "      <td>1</td>\n",
       "      <td>0.0</td>\n",
       "      <td>1.0</td>\n",
       "      <td>0</td>\n",
       "      <td>1</td>\n",
       "      <td>0.0</td>\n",
       "      <td>0</td>\n",
       "      <td>0</td>\n",
       "      <td>NaN</td>\n",
       "      <td>NaN</td>\n",
       "    </tr>\n",
       "  </tbody>\n",
       "</table>\n",
       "<p>5 rows × 28 columns</p>\n",
       "</div>"
      ],
      "text/plain": [
       "         hhid  hhid_2011     hhid_2013     hhid_2015   hhid_2017  \\\n",
       "0  2017000001        NaN           NaN           NaN  2017000001   \n",
       "1  2017000001        NaN           NaN           NaN  2017000001   \n",
       "2  2013013417        NaN  2.013013e+09  2.015018e+09  2017000002   \n",
       "3  2013013417        NaN  2.013013e+09  2.015018e+09  2017000002   \n",
       "4  2013013417        NaN  2.013013e+09  2.015018e+09  2017000002   \n",
       "\n",
       "  stock_investment stock_investment_scope  pline  hhead  education_level  ...  \\\n",
       "0              NaN                    NaN      1    NaN              1.0  ...   \n",
       "1              NaN                    NaN      2    1.0              1.0  ...   \n",
       "2              NaN                    NaN      2    NaN              2.0  ...   \n",
       "3              NaN                    NaN      4    NaN              5.0  ...   \n",
       "4              NaN                    NaN      1    1.0              3.0  ...   \n",
       "\n",
       "   married  stock_account  health  unemployment  own_house  happiness  \\\n",
       "0        1            0.0     3.0             0          1        1.0   \n",
       "1        1            0.0     3.0             0          1        1.0   \n",
       "2        1            0.0     2.0             0          1        0.0   \n",
       "3        0            0.0     4.0             0          1        0.0   \n",
       "4        1            0.0     1.0             0          1        0.0   \n",
       "\n",
       "   rural_household_registration  credit_constraints  financial_literacy  \\\n",
       "0                             1                   0                 1.0   \n",
       "1                             1                   0                 1.0   \n",
       "2                             0                   0                 NaN   \n",
       "3                             0                   0                 NaN   \n",
       "4                             0                   0                 NaN   \n",
       "\n",
       "   risk_preference  \n",
       "0              1.0  \n",
       "1              1.0  \n",
       "2              NaN  \n",
       "3              NaN  \n",
       "4              NaN  \n",
       "\n",
       "[5 rows x 28 columns]"
      ]
     },
     "execution_count": 36,
     "metadata": {},
     "output_type": "execute_result"
    }
   ],
   "source": [
    "data17.head()"
   ]
  },
  {
   "cell_type": "markdown",
   "id": "dfc5c8a7",
   "metadata": {},
   "source": [
    "# Data cleaning"
   ]
  },
  {
   "cell_type": "code",
   "execution_count": 37,
   "id": "6084eefa",
   "metadata": {},
   "outputs": [
    {
     "data": {
      "text/plain": [
       "<AxesSubplot:>"
      ]
     },
     "execution_count": 37,
     "metadata": {},
     "output_type": "execute_result"
    },
    {
     "data": {
      "image/png": "[encoded data removed]",
      "text/plain": [
       "<Figure size 432x288 with 1 Axes>"
      ]
     },
     "metadata": {
      "needs_background": "light"
     },
     "output_type": "display_data"
    }
   ],
   "source": [
    "#Data visualization for the missing values\n",
    "sns.heatmap(data17.isnull(), yticklabels=False, cbar=False, cmap='BuPu_r')"
   ]
  },
  {
   "cell_type": "code",
   "execution_count": 38,
   "id": "294b52d5",
   "metadata": {},
   "outputs": [
    {
     "data": {
      "text/plain": [
       "hhid                                 0\n",
       "hhid_2011                       110864\n",
       "hhid_2013                        70872\n",
       "hhid_2015                        38868\n",
       "hhid_2017                            0\n",
       "stock_investment                120378\n",
       "stock_investment_scope          126351\n",
       "pline                                0\n",
       "hhead                            87001\n",
       "education_level                  17948\n",
       "prov_code                            0\n",
       "total_income                         0\n",
       "total_consump                        0\n",
       "total_asset                          0\n",
       "total_debt                       18867\n",
       "age                                 47\n",
       "family_member_number                11\n",
       "gender                               8\n",
       "married                              0\n",
       "stock_account                      385\n",
       "health                              88\n",
       "unemployment                         0\n",
       "own_house                            0\n",
       "happiness                         1415\n",
       "rural_household_registration         0\n",
       "credit_constraints                   0\n",
       "financial_literacy               88124\n",
       "risk_preference                  95371\n",
       "dtype: int64"
      ]
     },
     "execution_count": 38,
     "metadata": {},
     "output_type": "execute_result"
    }
   ],
   "source": [
    "data17.isna().sum()"
   ]
  },
  {
   "cell_type": "code",
   "execution_count": 39,
   "id": "8e027c66",
   "metadata": {},
   "outputs": [
    {
     "data": {
      "text/plain": [
       "127012"
      ]
     },
     "execution_count": 39,
     "metadata": {},
     "output_type": "execute_result"
    }
   ],
   "source": [
    "#Row numbers for chfs 2017 data\n",
    "data17.shape[0]"
   ]
  },
  {
   "cell_type": "markdown",
   "id": "36336b17",
   "metadata": {},
   "source": [
    "**Deal with missing values of stock-related variables**"
   ]
  },
  {
   "cell_type": "code",
   "execution_count": 40,
   "id": "acd67d6f",
   "metadata": {},
   "outputs": [],
   "source": [
    "data17[\"stock_investment\"] = np.where(data17[\"stock_account\"] == 0, 0, data17[\"stock_investment\"])"
   ]
  },
  {
   "cell_type": "code",
   "execution_count": 41,
   "id": "0dce804e",
   "metadata": {},
   "outputs": [],
   "source": [
    "data17[\"stock_investment\"] = np.where((data17[\"stock_investment\"] == \".d\") | \n",
    "                                      (data17[\"stock_investment\"] == \".r\") |\n",
    "                                      (data17[\"stock_investment\"] == \".n\"), \n",
    "                                      \".\", data17[\"stock_investment\"])\n",
    "data17[\"stock_investment\"] = np.where(data17[\"stock_investment\"] == \".\", -1, data17[\"stock_investment\"])\n",
    "data17[\"stock_investment\"] = data17[\"stock_investment\"].astype(float)"
   ]
  },
  {
   "cell_type": "code",
   "execution_count": 42,
   "id": "ca82831f",
   "metadata": {},
   "outputs": [],
   "source": [
    "data17[\"stock_investment_scope\"] = np.where(data17[\"stock_investment\"] == 0, \n",
    "                                            0, data17[\"stock_investment_scope\"])\n",
    "data17[\"stock_investment_scope\"] = np.where((data17[\"stock_investment\"] > 0) & \n",
    "                                            (data17[\"stock_investment\"] < 10000), \n",
    "                                            1, data17[\"stock_investment_scope\"])\n",
    "data17[\"stock_investment_scope\"] = np.where((data17[\"stock_investment\"] >= 10000) & \n",
    "                                            (data17[\"stock_investment\"] < 30000),\n",
    "                                            2, data17[\"stock_investment_scope\"])\n",
    "data17[\"stock_investment_scope\"] = np.where((data17[\"stock_investment\"] >= 30000) & \n",
    "                                            (data17[\"stock_investment\"] < 50000),\n",
    "                                            3, data17[\"stock_investment_scope\"])\n",
    "data17[\"stock_investment_scope\"] = np.where((data17[\"stock_investment\"] >= 50000) & \n",
    "                                            (data17[\"stock_investment\"] < 70000),\n",
    "                                            4, data17[\"stock_investment_scope\"])\n",
    "data17[\"stock_investment_scope\"] = np.where((data17[\"stock_investment\"] >= 70000) & \n",
    "                                            (data17[\"stock_investment\"] < 100000),\n",
    "                                            5, data17[\"stock_investment_scope\"])\n",
    "data17[\"stock_investment_scope\"] = np.where((data17[\"stock_investment\"] >= 100000) & \n",
    "                                            (data17[\"stock_investment\"] < 300000),\n",
    "                                            6, data17[\"stock_investment_scope\"])\n",
    "data17[\"stock_investment_scope\"] = np.where((data17[\"stock_investment\"] >= 300000) & \n",
    "                                            (data17[\"stock_investment\"] < 500000),\n",
    "                                            7, data17[\"stock_investment_scope\"])\n",
    "data17[\"stock_investment_scope\"] = np.where((data17[\"stock_investment\"] >= 500000) & \n",
    "                                            (data17[\"stock_investment\"] < 1000000),\n",
    "                                            8, data17[\"stock_investment_scope\"])\n",
    "data17[\"stock_investment_scope\"] = np.where((data17[\"stock_investment\"] >= 1000000) & \n",
    "                                            (data17[\"stock_investment\"] < 5000000),\n",
    "                                            9, data17[\"stock_investment_scope\"])\n",
    "data17[\"stock_investment_scope\"] = np.where((data17[\"stock_investment\"] >= 5000000) & \n",
    "                                            (data17[\"stock_investment\"] < 10000000),\n",
    "                                            10, data17[\"stock_investment_scope\"])\n",
    "data17[\"stock_investment_scope\"] = np.where(data17[\"stock_investment\"] >= 10000000,\n",
    "                                            11, data17[\"stock_investment_scope\"])"
   ]
  },
  {
   "cell_type": "code",
   "execution_count": 43,
   "id": "f909e4c6",
   "metadata": {},
   "outputs": [],
   "source": [
    "#Delete unneeded variables\n",
    "del data17[\"stock_account\"]\n",
    "del data17[\"stock_investment\"]"
   ]
  },
  {
   "cell_type": "code",
   "execution_count": 44,
   "id": "23cee5bd",
   "metadata": {},
   "outputs": [],
   "source": [
    "#Rename the following variables\n",
    "data17.rename(columns = {'stock_investment_scope':'stock_investment'}, inplace = True)"
   ]
  },
  {
   "cell_type": "code",
   "execution_count": 45,
   "id": "604aa7eb",
   "metadata": {},
   "outputs": [],
   "source": [
    "#Since my research question is focused on the household level, I only need one data per household.\n",
    "#That is, the data of the head of the household.\n",
    "data17 = data17.dropna(subset = ['hhead'])\n",
    "del data17['hhead']"
   ]
  },
  {
   "cell_type": "code",
   "execution_count": 46,
   "id": "becf8b29",
   "metadata": {},
   "outputs": [
    {
     "data": {
      "text/html": [
       "<div>\n",
       "<style scoped>\n",
       "    .dataframe tbody tr th:only-of-type {\n",
       "        vertical-align: middle;\n",
       "    }\n",
       "\n",
       "    .dataframe tbody tr th {\n",
       "        vertical-align: top;\n",
       "    }\n",
       "\n",
       "    .dataframe thead th {\n",
       "        text-align: right;\n",
       "    }\n",
       "</style>\n",
       "<table border=\"1\" class=\"dataframe\">\n",
       "  <thead>\n",
       "    <tr style=\"text-align: right;\">\n",
       "      <th></th>\n",
       "      <th>hhid_2015</th>\n",
       "      <th>financial_literacy_2015</th>\n",
       "      <th>risk_preference_2015</th>\n",
       "    </tr>\n",
       "  </thead>\n",
       "  <tbody>\n",
       "    <tr>\n",
       "      <th>0</th>\n",
       "      <td>2015000001</td>\n",
       "      <td>1.0</td>\n",
       "      <td>0.0</td>\n",
       "    </tr>\n",
       "    <tr>\n",
       "      <th>1</th>\n",
       "      <td>2015000002</td>\n",
       "      <td>3.0</td>\n",
       "      <td>2.0</td>\n",
       "    </tr>\n",
       "    <tr>\n",
       "      <th>2</th>\n",
       "      <td>2015000003</td>\n",
       "      <td>1.0</td>\n",
       "      <td>0.0</td>\n",
       "    </tr>\n",
       "    <tr>\n",
       "      <th>3</th>\n",
       "      <td>2015000004</td>\n",
       "      <td>3.0</td>\n",
       "      <td>4.0</td>\n",
       "    </tr>\n",
       "    <tr>\n",
       "      <th>4</th>\n",
       "      <td>2015000005</td>\n",
       "      <td>0.0</td>\n",
       "      <td>0.0</td>\n",
       "    </tr>\n",
       "  </tbody>\n",
       "</table>\n",
       "</div>"
      ],
      "text/plain": [
       "    hhid_2015  financial_literacy_2015  risk_preference_2015\n",
       "0  2015000001                      1.0                   0.0\n",
       "1  2015000002                      3.0                   2.0\n",
       "2  2015000003                      1.0                   0.0\n",
       "3  2015000004                      3.0                   4.0\n",
       "4  2015000005                      0.0                   0.0"
      ]
     },
     "execution_count": 46,
     "metadata": {},
     "output_type": "execute_result"
    }
   ],
   "source": [
    "data15.head()"
   ]
  },
  {
   "cell_type": "code",
   "execution_count": 47,
   "id": "e4ad96a5",
   "metadata": {},
   "outputs": [
    {
     "data": {
      "text/html": [
       "<div>\n",
       "<style scoped>\n",
       "    .dataframe tbody tr th:only-of-type {\n",
       "        vertical-align: middle;\n",
       "    }\n",
       "\n",
       "    .dataframe tbody tr th {\n",
       "        vertical-align: top;\n",
       "    }\n",
       "\n",
       "    .dataframe thead th {\n",
       "        text-align: right;\n",
       "    }\n",
       "</style>\n",
       "<table border=\"1\" class=\"dataframe\">\n",
       "  <thead>\n",
       "    <tr style=\"text-align: right;\">\n",
       "      <th></th>\n",
       "      <th>hhid_2013</th>\n",
       "      <th>financial_literacy_2013</th>\n",
       "      <th>risk_preference_2013</th>\n",
       "    </tr>\n",
       "  </thead>\n",
       "  <tbody>\n",
       "    <tr>\n",
       "      <th>0</th>\n",
       "      <td>2013000001</td>\n",
       "      <td>1.0</td>\n",
       "      <td>1.0</td>\n",
       "    </tr>\n",
       "    <tr>\n",
       "      <th>1</th>\n",
       "      <td>2013000002</td>\n",
       "      <td>2.0</td>\n",
       "      <td>1.0</td>\n",
       "    </tr>\n",
       "    <tr>\n",
       "      <th>2</th>\n",
       "      <td>2013000003</td>\n",
       "      <td>2.0</td>\n",
       "      <td>0.0</td>\n",
       "    </tr>\n",
       "    <tr>\n",
       "      <th>3</th>\n",
       "      <td>2013000004</td>\n",
       "      <td>3.0</td>\n",
       "      <td>0.0</td>\n",
       "    </tr>\n",
       "    <tr>\n",
       "      <th>4</th>\n",
       "      <td>2013000005</td>\n",
       "      <td>2.0</td>\n",
       "      <td>2.0</td>\n",
       "    </tr>\n",
       "  </tbody>\n",
       "</table>\n",
       "</div>"
      ],
      "text/plain": [
       "    hhid_2013  financial_literacy_2013  risk_preference_2013\n",
       "0  2013000001                      1.0                   1.0\n",
       "1  2013000002                      2.0                   1.0\n",
       "2  2013000003                      2.0                   0.0\n",
       "3  2013000004                      3.0                   0.0\n",
       "4  2013000005                      2.0                   2.0"
      ]
     },
     "execution_count": 47,
     "metadata": {},
     "output_type": "execute_result"
    }
   ],
   "source": [
    "data13.head()"
   ]
  },
  {
   "cell_type": "code",
   "execution_count": 48,
   "id": "4dd6d212",
   "metadata": {},
   "outputs": [
    {
     "data": {
      "text/html": [
       "<div>\n",
       "<style scoped>\n",
       "    .dataframe tbody tr th:only-of-type {\n",
       "        vertical-align: middle;\n",
       "    }\n",
       "\n",
       "    .dataframe tbody tr th {\n",
       "        vertical-align: top;\n",
       "    }\n",
       "\n",
       "    .dataframe thead th {\n",
       "        text-align: right;\n",
       "    }\n",
       "</style>\n",
       "<table border=\"1\" class=\"dataframe\">\n",
       "  <thead>\n",
       "    <tr style=\"text-align: right;\">\n",
       "      <th></th>\n",
       "      <th>hhid_2011</th>\n",
       "      <th>risk_preference_2011</th>\n",
       "    </tr>\n",
       "  </thead>\n",
       "  <tbody>\n",
       "    <tr>\n",
       "      <th>0</th>\n",
       "      <td>201100001</td>\n",
       "      <td>0.0</td>\n",
       "    </tr>\n",
       "    <tr>\n",
       "      <th>1</th>\n",
       "      <td>201100002</td>\n",
       "      <td>0.0</td>\n",
       "    </tr>\n",
       "    <tr>\n",
       "      <th>2</th>\n",
       "      <td>201100003</td>\n",
       "      <td>0.0</td>\n",
       "    </tr>\n",
       "    <tr>\n",
       "      <th>3</th>\n",
       "      <td>201100004</td>\n",
       "      <td>0.0</td>\n",
       "    </tr>\n",
       "    <tr>\n",
       "      <th>4</th>\n",
       "      <td>201100005</td>\n",
       "      <td>0.0</td>\n",
       "    </tr>\n",
       "  </tbody>\n",
       "</table>\n",
       "</div>"
      ],
      "text/plain": [
       "   hhid_2011  risk_preference_2011\n",
       "0  201100001                   0.0\n",
       "1  201100002                   0.0\n",
       "2  201100003                   0.0\n",
       "3  201100004                   0.0\n",
       "4  201100005                   0.0"
      ]
     },
     "execution_count": 48,
     "metadata": {},
     "output_type": "execute_result"
    }
   ],
   "source": [
    "data11.head()"
   ]
  },
  {
   "cell_type": "code",
   "execution_count": 49,
   "id": "d7d3df3c",
   "metadata": {},
   "outputs": [],
   "source": [
    "data17['hhid_2015'] = np.where(data17[\"hhid_2015\"].isnull() == True, -1, data17[\"hhid_2015\"])\n",
    "data17['hhid_2013'] = np.where(data17[\"hhid_2013\"].isnull() == True, -1, data17[\"hhid_2013\"])\n",
    "data17['hhid_2011'] = np.where(data17[\"hhid_2011\"].isnull() == True, -1, data17[\"hhid_2011\"])\n",
    "data17['hhid_2015'] = data17['hhid_2015'].astype(int)\n",
    "data17['hhid_2013'] = data17['hhid_2013'].astype(int)\n",
    "data17['hhid_2011'] = data17['hhid_2011'].astype(int)"
   ]
  },
  {
   "cell_type": "markdown",
   "id": "f92c2d97",
   "metadata": {},
   "source": [
    "You can observe a large number of missing values in `financial_literacy` and `risk_preference` in data17 because only new respondents were interviewed in these two related questions in the 2017 survey. Therefore, I need to merge the previous data and fill in the missing values."
   ]
  },
  {
   "cell_type": "code",
   "execution_count": 50,
   "id": "61cdeb46",
   "metadata": {},
   "outputs": [],
   "source": [
    "data1 = pd.merge(data17, data15, on = 'hhid_2015', how = 'outer')\n",
    "data2 = pd.merge(data1, data13, on = 'hhid_2013', how = 'outer')\n",
    "data3 = pd.merge(data2, data11, on = 'hhid_2011', how = 'outer')\n",
    "#Merge the csv file which contains the instrumental variable I needed\n",
    "data = pd.merge(data3, bank_density_data, on = 'prov_code', how = 'outer')\n",
    "#The merge method I used produces a lot of na values, remove them.\n",
    "data = data.dropna(subset = ['hhid'])\n",
    "#The merge method I used also produces a lot of duplicate values, so I need to remove these duplicates.\n",
    "data = data.drop_duplicates(subset = ['hhid'], keep = 'first')"
   ]
  },
  {
   "cell_type": "code",
   "execution_count": 51,
   "id": "53060413",
   "metadata": {},
   "outputs": [],
   "source": [
    "data['financial_literacy'] = np.where(data[\"financial_literacy\"].isnull() == True, \n",
    "                                      data[\"financial_literacy_2015\"], data[\"financial_literacy\"])\n",
    "data['financial_literacy'] = np.where(data[\"financial_literacy\"].isnull() == True, \n",
    "                                      data[\"financial_literacy_2013\"], data[\"financial_literacy\"])"
   ]
  },
  {
   "cell_type": "code",
   "execution_count": 52,
   "id": "41162e47",
   "metadata": {},
   "outputs": [],
   "source": [
    "data['risk_preference'] = np.where(data[\"risk_preference\"].isnull() == True, data[\"risk_preference_2015\"], \n",
    "                                   data[\"risk_preference\"])\n",
    "data['risk_preference'] = np.where(data[\"risk_preference\"].isnull() == True, data[\"risk_preference_2013\"], \n",
    "                                   data[\"risk_preference\"])\n",
    "data['risk_preference'] = np.where(data[\"risk_preference\"].isnull() == True, data[\"risk_preference_2011\"], \n",
    "                                   data[\"risk_preference\"])"
   ]
  },
  {
   "cell_type": "code",
   "execution_count": 53,
   "id": "e24d3520",
   "metadata": {},
   "outputs": [],
   "source": [
    "#Delete unneeded variables\n",
    "del data[\"hhid_2017\"]\n",
    "del data[\"hhid_2015\"]\n",
    "del data[\"hhid_2013\"]\n",
    "del data[\"hhid_2011\"]\n",
    "del data[\"financial_literacy_2015\"]\n",
    "del data[\"financial_literacy_2013\"]\n",
    "del data[\"risk_preference_2015\"]\n",
    "del data[\"risk_preference_2013\"]\n",
    "del data[\"risk_preference_2011\"]\n",
    "del data[\"prov_code\"]\n",
    "del data[\"bank_number\"]\n",
    "del data[\"prov_area\"]"
   ]
  },
  {
   "cell_type": "code",
   "execution_count": 54,
   "id": "0b5b29ee",
   "metadata": {},
   "outputs": [
    {
     "data": {
      "text/plain": [
       "hhid                               0\n",
       "stock_investment                1264\n",
       "pline                              0\n",
       "education_level                   53\n",
       "total_income                       0\n",
       "total_consump                      0\n",
       "total_asset                        0\n",
       "total_debt                      8337\n",
       "age                               11\n",
       "family_member_number               3\n",
       "gender                             1\n",
       "married                            0\n",
       "health                             9\n",
       "unemployment                       0\n",
       "own_house                          0\n",
       "happiness                        458\n",
       "rural_household_registration       0\n",
       "credit_constraints                 0\n",
       "financial_literacy                46\n",
       "risk_preference                 3692\n",
       "bank_density                       0\n",
       "dtype: int64"
      ]
     },
     "execution_count": 54,
     "metadata": {},
     "output_type": "execute_result"
    }
   ],
   "source": [
    "data.isna().sum()"
   ]
  },
  {
   "cell_type": "code",
   "execution_count": 55,
   "id": "7aa445d2",
   "metadata": {},
   "outputs": [
    {
     "data": {
      "text/plain": [
       "<AxesSubplot:>"
      ]
     },
     "execution_count": 55,
     "metadata": {},
     "output_type": "execute_result"
    },
    {
     "data": {
      "image/png": "[encoded data removed]",
      "text/plain": [
       "<Figure size 432x288 with 1 Axes>"
      ]
     },
     "metadata": {
      "needs_background": "light"
     },
     "output_type": "display_data"
    }
   ],
   "source": [
    "#Data visualization for the missing values\n",
    "sns.heatmap(data.isnull(), yticklabels=False, cbar=False, cmap='BuPu_r')"
   ]
  },
  {
   "cell_type": "code",
   "execution_count": 56,
   "id": "e823f9f5",
   "metadata": {},
   "outputs": [],
   "source": [
    "#Delete rows with too many missing values\n",
    "data = data.dropna(subset = ['total_debt'])\n",
    "data = data.dropna(subset = ['risk_preference'])\n",
    "data = data.dropna(subset = ['stock_investment'])\n",
    "data = data.dropna(subset = ['happiness'])"
   ]
  },
  {
   "cell_type": "code",
   "execution_count": 57,
   "id": "42e5b56a",
   "metadata": {},
   "outputs": [
    {
     "data": {
      "text/plain": [
       "hhid                             0\n",
       "stock_investment                 0\n",
       "pline                            0\n",
       "education_level                 37\n",
       "total_income                     0\n",
       "total_consump                    0\n",
       "total_asset                      0\n",
       "total_debt                       0\n",
       "age                              7\n",
       "family_member_number             3\n",
       "gender                           0\n",
       "married                          0\n",
       "health                           7\n",
       "unemployment                     0\n",
       "own_house                        0\n",
       "happiness                        0\n",
       "rural_household_registration     0\n",
       "credit_constraints               0\n",
       "financial_literacy              11\n",
       "risk_preference                  0\n",
       "bank_density                     0\n",
       "dtype: int64"
      ]
     },
     "execution_count": 57,
     "metadata": {},
     "output_type": "execute_result"
    }
   ],
   "source": [
    "data.isna().sum()"
   ]
  },
  {
   "cell_type": "code",
   "execution_count": 58,
   "id": "9cfb4279",
   "metadata": {},
   "outputs": [],
   "source": [
    "#Continue processing the missing values\n",
    "data['education_level'] = data['education_level'].fillna(data['education_level'].median())\n",
    "data['health'] = data['health'].fillna(data['health'].median())\n",
    "data['family_member_number'] = data['family_member_number'].fillna(data['family_member_number'].median())\n",
    "data['age'] = data['age'].fillna(data['age'].mean())\n",
    "data['financial_literacy'] = data['financial_literacy'].fillna(data['financial_literacy'].median())"
   ]
  },
  {
   "cell_type": "code",
   "execution_count": 59,
   "id": "dfc9a492",
   "metadata": {},
   "outputs": [],
   "source": [
    "#The following variables contain `.d` | `.r` | `.e` in their values, remove them\n",
    "data = data.drop(data[data['stock_investment'] == '.d'].index)\n",
    "data = data.drop(data[data['stock_investment'] == '.r'].index)\n",
    "data = data.drop(data[data['stock_investment'] == '.e'].index)"
   ]
  },
  {
   "cell_type": "markdown",
   "id": "1e2c7ffb",
   "metadata": {},
   "source": [
    "In fact, there is no restriction on the age of the head of the household, but since my research question requires the head of the household to be a person of `full civil capacity`, therefore I have set the age of the household head to be greater than or equal to `16` years old.\n",
    "\n",
    "In addition, the number of data where the head of the household is less than 16 years old is very, very small and therefore deleted these data has little influence."
   ]
  },
  {
   "cell_type": "code",
   "execution_count": 60,
   "id": "ab4f1f95",
   "metadata": {},
   "outputs": [],
   "source": [
    "data = data.drop(data[data['age'] < 16].index)"
   ]
  },
  {
   "cell_type": "code",
   "execution_count": 61,
   "id": "4040feaf",
   "metadata": {},
   "outputs": [
    {
     "data": {
      "text/plain": [
       "<AxesSubplot:>"
      ]
     },
     "execution_count": 61,
     "metadata": {},
     "output_type": "execute_result"
    },
    {
     "data": {
      "image/png": "[encoded data removed]",
      "text/plain": [
       "<Figure size 432x288 with 1 Axes>"
      ]
     },
     "metadata": {
      "needs_background": "light"
     },
     "output_type": "display_data"
    }
   ],
   "source": [
    "#All missing values have been processed\n",
    "sns.heatmap(data.isnull(), yticklabels=False, cbar=False, cmap='BuPu_r')"
   ]
  },
  {
   "cell_type": "code",
   "execution_count": 62,
   "id": "2bc30432",
   "metadata": {},
   "outputs": [
    {
     "data": {
      "text/html": [
       "<div>\n",
       "<style scoped>\n",
       "    .dataframe tbody tr th:only-of-type {\n",
       "        vertical-align: middle;\n",
       "    }\n",
       "\n",
       "    .dataframe tbody tr th {\n",
       "        vertical-align: top;\n",
       "    }\n",
       "\n",
       "    .dataframe thead th {\n",
       "        text-align: right;\n",
       "    }\n",
       "</style>\n",
       "<table border=\"1\" class=\"dataframe\">\n",
       "  <thead>\n",
       "    <tr style=\"text-align: right;\">\n",
       "      <th></th>\n",
       "      <th>hhid</th>\n",
       "      <th>pline</th>\n",
       "      <th>education_level</th>\n",
       "      <th>total_income</th>\n",
       "      <th>total_consump</th>\n",
       "      <th>total_asset</th>\n",
       "      <th>total_debt</th>\n",
       "      <th>age</th>\n",
       "      <th>family_member_number</th>\n",
       "      <th>gender</th>\n",
       "      <th>married</th>\n",
       "      <th>health</th>\n",
       "      <th>unemployment</th>\n",
       "      <th>own_house</th>\n",
       "      <th>happiness</th>\n",
       "      <th>rural_household_registration</th>\n",
       "      <th>credit_constraints</th>\n",
       "      <th>financial_literacy</th>\n",
       "      <th>risk_preference</th>\n",
       "      <th>bank_density</th>\n",
       "    </tr>\n",
       "  </thead>\n",
       "  <tbody>\n",
       "    <tr>\n",
       "      <th>count</th>\n",
       "      <td>2.768900e+04</td>\n",
       "      <td>27689.000000</td>\n",
       "      <td>27689.000000</td>\n",
       "      <td>2.768900e+04</td>\n",
       "      <td>2.768900e+04</td>\n",
       "      <td>2.768900e+04</td>\n",
       "      <td>2.768900e+04</td>\n",
       "      <td>27689.000000</td>\n",
       "      <td>27689.000000</td>\n",
       "      <td>27689.000000</td>\n",
       "      <td>27689.000000</td>\n",
       "      <td>27689.000000</td>\n",
       "      <td>27689.000000</td>\n",
       "      <td>27689.000000</td>\n",
       "      <td>27689.000000</td>\n",
       "      <td>27689.000000</td>\n",
       "      <td>27689.000000</td>\n",
       "      <td>27689.000000</td>\n",
       "      <td>27689.000000</td>\n",
       "      <td>27689.000000</td>\n",
       "    </tr>\n",
       "    <tr>\n",
       "      <th>mean</th>\n",
       "      <td>1.767211e+09</td>\n",
       "      <td>1.559825</td>\n",
       "      <td>3.470801</td>\n",
       "      <td>1.019783e+05</td>\n",
       "      <td>6.854870e+04</td>\n",
       "      <td>1.157961e+06</td>\n",
       "      <td>7.340514e+04</td>\n",
       "      <td>52.673261</td>\n",
       "      <td>3.940771</td>\n",
       "      <td>0.172993</td>\n",
       "      <td>0.889270</td>\n",
       "      <td>2.448987</td>\n",
       "      <td>0.123190</td>\n",
       "      <td>0.923869</td>\n",
       "      <td>0.702373</td>\n",
       "      <td>0.565820</td>\n",
       "      <td>0.080501</td>\n",
       "      <td>1.046878</td>\n",
       "      <td>1.263895</td>\n",
       "      <td>0.088717</td>\n",
       "    </tr>\n",
       "    <tr>\n",
       "      <th>std</th>\n",
       "      <td>6.228196e+08</td>\n",
       "      <td>0.982863</td>\n",
       "      <td>1.642893</td>\n",
       "      <td>2.183073e+05</td>\n",
       "      <td>8.416080e+04</td>\n",
       "      <td>2.225233e+06</td>\n",
       "      <td>3.154981e+05</td>\n",
       "      <td>12.944040</td>\n",
       "      <td>2.278903</td>\n",
       "      <td>0.378248</td>\n",
       "      <td>0.313803</td>\n",
       "      <td>1.004436</td>\n",
       "      <td>0.328661</td>\n",
       "      <td>0.265213</td>\n",
       "      <td>0.457223</td>\n",
       "      <td>0.495658</td>\n",
       "      <td>0.272073</td>\n",
       "      <td>1.095141</td>\n",
       "      <td>1.322749</td>\n",
       "      <td>0.099593</td>\n",
       "    </tr>\n",
       "    <tr>\n",
       "      <th>min</th>\n",
       "      <td>2.011000e+08</td>\n",
       "      <td>1.000000</td>\n",
       "      <td>1.000000</td>\n",
       "      <td>-4.950324e+06</td>\n",
       "      <td>7.368000e+02</td>\n",
       "      <td>-2.124020e+05</td>\n",
       "      <td>0.000000e+00</td>\n",
       "      <td>16.000000</td>\n",
       "      <td>1.000000</td>\n",
       "      <td>0.000000</td>\n",
       "      <td>0.000000</td>\n",
       "      <td>0.000000</td>\n",
       "      <td>0.000000</td>\n",
       "      <td>0.000000</td>\n",
       "      <td>0.000000</td>\n",
       "      <td>0.000000</td>\n",
       "      <td>0.000000</td>\n",
       "      <td>0.000000</td>\n",
       "      <td>0.000000</td>\n",
       "      <td>0.001606</td>\n",
       "    </tr>\n",
       "    <tr>\n",
       "      <th>25%</th>\n",
       "      <td>2.013010e+09</td>\n",
       "      <td>1.000000</td>\n",
       "      <td>2.000000</td>\n",
       "      <td>2.601750e+04</td>\n",
       "      <td>2.804000e+04</td>\n",
       "      <td>1.404100e+05</td>\n",
       "      <td>0.000000e+00</td>\n",
       "      <td>44.000000</td>\n",
       "      <td>2.000000</td>\n",
       "      <td>0.000000</td>\n",
       "      <td>1.000000</td>\n",
       "      <td>2.000000</td>\n",
       "      <td>0.000000</td>\n",
       "      <td>1.000000</td>\n",
       "      <td>0.000000</td>\n",
       "      <td>0.000000</td>\n",
       "      <td>0.000000</td>\n",
       "      <td>0.000000</td>\n",
       "      <td>0.000000</td>\n",
       "      <td>0.035234</td>\n",
       "    </tr>\n",
       "    <tr>\n",
       "      <th>50%</th>\n",
       "      <td>2.015004e+09</td>\n",
       "      <td>1.000000</td>\n",
       "      <td>3.000000</td>\n",
       "      <td>6.147100e+04</td>\n",
       "      <td>4.909000e+04</td>\n",
       "      <td>4.327330e+05</td>\n",
       "      <td>0.000000e+00</td>\n",
       "      <td>52.655574</td>\n",
       "      <td>3.000000</td>\n",
       "      <td>0.000000</td>\n",
       "      <td>1.000000</td>\n",
       "      <td>3.000000</td>\n",
       "      <td>0.000000</td>\n",
       "      <td>1.000000</td>\n",
       "      <td>1.000000</td>\n",
       "      <td>1.000000</td>\n",
       "      <td>0.000000</td>\n",
       "      <td>1.000000</td>\n",
       "      <td>1.000000</td>\n",
       "      <td>0.059904</td>\n",
       "    </tr>\n",
       "    <tr>\n",
       "      <th>75%</th>\n",
       "      <td>2.017005e+09</td>\n",
       "      <td>2.000000</td>\n",
       "      <td>4.000000</td>\n",
       "      <td>1.146338e+05</td>\n",
       "      <td>8.127600e+04</td>\n",
       "      <td>1.155093e+06</td>\n",
       "      <td>3.300000e+04</td>\n",
       "      <td>62.000000</td>\n",
       "      <td>5.000000</td>\n",
       "      <td>0.000000</td>\n",
       "      <td>1.000000</td>\n",
       "      <td>3.000000</td>\n",
       "      <td>0.000000</td>\n",
       "      <td>1.000000</td>\n",
       "      <td>1.000000</td>\n",
       "      <td>1.000000</td>\n",
       "      <td>0.000000</td>\n",
       "      <td>2.000000</td>\n",
       "      <td>2.000000</td>\n",
       "      <td>0.098834</td>\n",
       "    </tr>\n",
       "    <tr>\n",
       "      <th>max</th>\n",
       "      <td>2.017040e+09</td>\n",
       "      <td>20.000000</td>\n",
       "      <td>9.000000</td>\n",
       "      <td>8.497832e+06</td>\n",
       "      <td>3.434645e+06</td>\n",
       "      <td>6.394004e+07</td>\n",
       "      <td>2.023763e+07</td>\n",
       "      <td>117.000000</td>\n",
       "      <td>30.000000</td>\n",
       "      <td>1.000000</td>\n",
       "      <td>1.000000</td>\n",
       "      <td>4.000000</td>\n",
       "      <td>1.000000</td>\n",
       "      <td>1.000000</td>\n",
       "      <td>1.000000</td>\n",
       "      <td>1.000000</td>\n",
       "      <td>1.000000</td>\n",
       "      <td>4.000000</td>\n",
       "      <td>5.000000</td>\n",
       "      <td>0.491327</td>\n",
       "    </tr>\n",
       "  </tbody>\n",
       "</table>\n",
       "</div>"
      ],
      "text/plain": [
       "               hhid         pline  education_level  total_income  \\\n",
       "count  2.768900e+04  27689.000000     27689.000000  2.768900e+04   \n",
       "mean   1.767211e+09      1.559825         3.470801  1.019783e+05   \n",
       "std    6.228196e+08      0.982863         1.642893  2.183073e+05   \n",
       "min    2.011000e+08      1.000000         1.000000 -4.950324e+06   \n",
       "25%    2.013010e+09      1.000000         2.000000  2.601750e+04   \n",
       "50%    2.015004e+09      1.000000         3.000000  6.147100e+04   \n",
       "75%    2.017005e+09      2.000000         4.000000  1.146338e+05   \n",
       "max    2.017040e+09     20.000000         9.000000  8.497832e+06   \n",
       "\n",
       "       total_consump   total_asset    total_debt           age  \\\n",
       "count   2.768900e+04  2.768900e+04  2.768900e+04  27689.000000   \n",
       "mean    6.854870e+04  1.157961e+06  7.340514e+04     52.673261   \n",
       "std     8.416080e+04  2.225233e+06  3.154981e+05     12.944040   \n",
       "min     7.368000e+02 -2.124020e+05  0.000000e+00     16.000000   \n",
       "25%     2.804000e+04  1.404100e+05  0.000000e+00     44.000000   \n",
       "50%     4.909000e+04  4.327330e+05  0.000000e+00     52.655574   \n",
       "75%     8.127600e+04  1.155093e+06  3.300000e+04     62.000000   \n",
       "max     3.434645e+06  6.394004e+07  2.023763e+07    117.000000   \n",
       "\n",
       "       family_member_number        gender       married        health  \\\n",
       "count          27689.000000  27689.000000  27689.000000  27689.000000   \n",
       "mean               3.940771      0.172993      0.889270      2.448987   \n",
       "std                2.278903      0.378248      0.313803      1.004436   \n",
       "min                1.000000      0.000000      0.000000      0.000000   \n",
       "25%                2.000000      0.000000      1.000000      2.000000   \n",
       "50%                3.000000      0.000000      1.000000      3.000000   \n",
       "75%                5.000000      0.000000      1.000000      3.000000   \n",
       "max               30.000000      1.000000      1.000000      4.000000   \n",
       "\n",
       "       unemployment     own_house     happiness  rural_household_registration  \\\n",
       "count  27689.000000  27689.000000  27689.000000                  27689.000000   \n",
       "mean       0.123190      0.923869      0.702373                      0.565820   \n",
       "std        0.328661      0.265213      0.457223                      0.495658   \n",
       "min        0.000000      0.000000      0.000000                      0.000000   \n",
       "25%        0.000000      1.000000      0.000000                      0.000000   \n",
       "50%        0.000000      1.000000      1.000000                      1.000000   \n",
       "75%        0.000000      1.000000      1.000000                      1.000000   \n",
       "max        1.000000      1.000000      1.000000                      1.000000   \n",
       "\n",
       "       credit_constraints  financial_literacy  risk_preference  bank_density  \n",
       "count        27689.000000        27689.000000     27689.000000  27689.000000  \n",
       "mean             0.080501            1.046878         1.263895      0.088717  \n",
       "std              0.272073            1.095141         1.322749      0.099593  \n",
       "min              0.000000            0.000000         0.000000      0.001606  \n",
       "25%              0.000000            0.000000         0.000000      0.035234  \n",
       "50%              0.000000            1.000000         1.000000      0.059904  \n",
       "75%              0.000000            2.000000         2.000000      0.098834  \n",
       "max              1.000000            4.000000         5.000000      0.491327  "
      ]
     },
     "execution_count": 62,
     "metadata": {},
     "output_type": "execute_result"
    }
   ],
   "source": [
    "data.describe()"
   ]
  },
  {
   "cell_type": "code",
   "execution_count": 63,
   "id": "a2538910",
   "metadata": {},
   "outputs": [
    {
     "data": {
      "text/plain": [
       "27689"
      ]
     },
     "execution_count": 63,
     "metadata": {},
     "output_type": "execute_result"
    }
   ],
   "source": [
    "len(data)"
   ]
  },
  {
   "cell_type": "code",
   "execution_count": 64,
   "id": "9e2ed6aa",
   "metadata": {},
   "outputs": [],
   "source": [
    "#Export data\n",
    "data.to_csv(inputdir + 'processed_chfs_data.csv', index=False)"
   ]
  }
 ],
 "metadata": {
  "kernelspec": {
   "display_name": "Python 3 (ipykernel)",
   "language": "python",
   "name": "python3"
  },
  "language_info": {
   "codemirror_mode": {
    "name": "ipython",
    "version": 3
   },
   "file_extension": ".py",
   "mimetype": "text/x-python",
   "name": "python",
   "nbconvert_exporter": "python",
   "pygments_lexer": "ipython3",
   "version": "3.8.3"
  }
 },
 "nbformat": 4,
 "nbformat_minor": 5
}
