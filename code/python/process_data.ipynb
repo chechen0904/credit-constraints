{
 "cells": [
  {
   "cell_type": "code",
   "execution_count": 1,
   "id": "a1ef2045",
   "metadata": {},
   "outputs": [],
   "source": [
    "import pandas as pd\n",
    "import numpy as np\n",
    "import seaborn as sns"
   ]
  },
  {
   "cell_type": "code",
   "execution_count": 2,
   "id": "3f7df421",
   "metadata": {},
   "outputs": [],
   "source": [
    "inputdir = \"../../data/derived/\""
   ]
  },
  {
   "cell_type": "code",
   "execution_count": 3,
   "id": "2f8d0932",
   "metadata": {},
   "outputs": [],
   "source": [
    "#Import the data\n",
    "data17 = pd.read_csv(inputdir + \"chfs2017data.csv\")\n",
    "data15 = pd.read_csv(inputdir + \"chfs2015data.csv\")\n",
    "data13 = pd.read_csv(inputdir + \"chfs2013data.csv\")\n",
    "data11 = pd.read_csv(inputdir + \"chfs2011data.csv\")"
   ]
  },
  {
   "cell_type": "code",
   "execution_count": 4,
   "id": "a47e4736",
   "metadata": {},
   "outputs": [
    {
     "data": {
      "text/html": [
       "<div>\n",
       "<style scoped>\n",
       "    .dataframe tbody tr th:only-of-type {\n",
       "        vertical-align: middle;\n",
       "    }\n",
       "\n",
       "    .dataframe tbody tr th {\n",
       "        vertical-align: top;\n",
       "    }\n",
       "\n",
       "    .dataframe thead th {\n",
       "        text-align: right;\n",
       "    }\n",
       "</style>\n",
       "<table border=\"1\" class=\"dataframe\">\n",
       "  <thead>\n",
       "    <tr style=\"text-align: right;\">\n",
       "      <th></th>\n",
       "      <th>hhid</th>\n",
       "      <th>hhid_2011</th>\n",
       "      <th>hhid_2013</th>\n",
       "      <th>hhid_2015</th>\n",
       "      <th>hhid_2017</th>\n",
       "      <th>stock_investment</th>\n",
       "      <th>stock_investment_scope</th>\n",
       "      <th>pline</th>\n",
       "      <th>hhead</th>\n",
       "      <th>education_level</th>\n",
       "      <th>...</th>\n",
       "      <th>married</th>\n",
       "      <th>stock_account</th>\n",
       "      <th>health</th>\n",
       "      <th>own_house</th>\n",
       "      <th>happiness</th>\n",
       "      <th>rural_household_registration</th>\n",
       "      <th>credit_constraints</th>\n",
       "      <th>financial_literacy</th>\n",
       "      <th>risk_preference</th>\n",
       "      <th>IV</th>\n",
       "    </tr>\n",
       "  </thead>\n",
       "  <tbody>\n",
       "    <tr>\n",
       "      <th>0</th>\n",
       "      <td>201103890</td>\n",
       "      <td>201103890.0</td>\n",
       "      <td>2.013012e+09</td>\n",
       "      <td>2.015016e+09</td>\n",
       "      <td>2017012829</td>\n",
       "      <td>NaN</td>\n",
       "      <td>NaN</td>\n",
       "      <td>1</td>\n",
       "      <td>NaN</td>\n",
       "      <td>1.0</td>\n",
       "      <td>...</td>\n",
       "      <td>1</td>\n",
       "      <td>0.0</td>\n",
       "      <td>1.0</td>\n",
       "      <td>1</td>\n",
       "      <td>1.0</td>\n",
       "      <td>1</td>\n",
       "      <td>0</td>\n",
       "      <td>NaN</td>\n",
       "      <td>NaN</td>\n",
       "      <td>0.083333</td>\n",
       "    </tr>\n",
       "    <tr>\n",
       "      <th>1</th>\n",
       "      <td>2017023389</td>\n",
       "      <td>NaN</td>\n",
       "      <td>NaN</td>\n",
       "      <td>NaN</td>\n",
       "      <td>2017023389</td>\n",
       "      <td>NaN</td>\n",
       "      <td>NaN</td>\n",
       "      <td>4</td>\n",
       "      <td>NaN</td>\n",
       "      <td>7.0</td>\n",
       "      <td>...</td>\n",
       "      <td>0</td>\n",
       "      <td>0.0</td>\n",
       "      <td>4.0</td>\n",
       "      <td>1</td>\n",
       "      <td>1.0</td>\n",
       "      <td>1</td>\n",
       "      <td>0</td>\n",
       "      <td>3.0</td>\n",
       "      <td>2.0</td>\n",
       "      <td>0.083333</td>\n",
       "    </tr>\n",
       "    <tr>\n",
       "      <th>2</th>\n",
       "      <td>201103892</td>\n",
       "      <td>201103892.0</td>\n",
       "      <td>2.013012e+09</td>\n",
       "      <td>2.015016e+09</td>\n",
       "      <td>2017016487</td>\n",
       "      <td>NaN</td>\n",
       "      <td>NaN</td>\n",
       "      <td>3</td>\n",
       "      <td>NaN</td>\n",
       "      <td>6.0</td>\n",
       "      <td>...</td>\n",
       "      <td>0</td>\n",
       "      <td>0.0</td>\n",
       "      <td>1.0</td>\n",
       "      <td>1</td>\n",
       "      <td>1.0</td>\n",
       "      <td>1</td>\n",
       "      <td>0</td>\n",
       "      <td>NaN</td>\n",
       "      <td>NaN</td>\n",
       "      <td>0.083333</td>\n",
       "    </tr>\n",
       "    <tr>\n",
       "      <th>3</th>\n",
       "      <td>201103892</td>\n",
       "      <td>201103892.0</td>\n",
       "      <td>2.013012e+09</td>\n",
       "      <td>2.015016e+09</td>\n",
       "      <td>2017016487</td>\n",
       "      <td>NaN</td>\n",
       "      <td>NaN</td>\n",
       "      <td>1</td>\n",
       "      <td>1.0</td>\n",
       "      <td>2.0</td>\n",
       "      <td>...</td>\n",
       "      <td>1</td>\n",
       "      <td>0.0</td>\n",
       "      <td>3.0</td>\n",
       "      <td>1</td>\n",
       "      <td>1.0</td>\n",
       "      <td>1</td>\n",
       "      <td>0</td>\n",
       "      <td>NaN</td>\n",
       "      <td>NaN</td>\n",
       "      <td>0.083333</td>\n",
       "    </tr>\n",
       "    <tr>\n",
       "      <th>4</th>\n",
       "      <td>2013011929</td>\n",
       "      <td>NaN</td>\n",
       "      <td>2.013012e+09</td>\n",
       "      <td>2.015016e+09</td>\n",
       "      <td>2017007331</td>\n",
       "      <td>NaN</td>\n",
       "      <td>NaN</td>\n",
       "      <td>1</td>\n",
       "      <td>1.0</td>\n",
       "      <td>3.0</td>\n",
       "      <td>...</td>\n",
       "      <td>1</td>\n",
       "      <td>0.0</td>\n",
       "      <td>0.0</td>\n",
       "      <td>1</td>\n",
       "      <td>1.0</td>\n",
       "      <td>1</td>\n",
       "      <td>1</td>\n",
       "      <td>NaN</td>\n",
       "      <td>NaN</td>\n",
       "      <td>0.079861</td>\n",
       "    </tr>\n",
       "  </tbody>\n",
       "</table>\n",
       "<p>5 rows × 27 columns</p>\n",
       "</div>"
      ],
      "text/plain": [
       "         hhid    hhid_2011     hhid_2013     hhid_2015   hhid_2017  \\\n",
       "0   201103890  201103890.0  2.013012e+09  2.015016e+09  2017012829   \n",
       "1  2017023389          NaN           NaN           NaN  2017023389   \n",
       "2   201103892  201103892.0  2.013012e+09  2.015016e+09  2017016487   \n",
       "3   201103892  201103892.0  2.013012e+09  2.015016e+09  2017016487   \n",
       "4  2013011929          NaN  2.013012e+09  2.015016e+09  2017007331   \n",
       "\n",
       "  stock_investment stock_investment_scope  pline  hhead  education_level  ...  \\\n",
       "0              NaN                    NaN      1    NaN              1.0  ...   \n",
       "1              NaN                    NaN      4    NaN              7.0  ...   \n",
       "2              NaN                    NaN      3    NaN              6.0  ...   \n",
       "3              NaN                    NaN      1    1.0              2.0  ...   \n",
       "4              NaN                    NaN      1    1.0              3.0  ...   \n",
       "\n",
       "   married  stock_account  health  own_house  happiness  \\\n",
       "0        1            0.0     1.0          1        1.0   \n",
       "1        0            0.0     4.0          1        1.0   \n",
       "2        0            0.0     1.0          1        1.0   \n",
       "3        1            0.0     3.0          1        1.0   \n",
       "4        1            0.0     0.0          1        1.0   \n",
       "\n",
       "   rural_household_registration  credit_constraints  financial_literacy  \\\n",
       "0                             1                   0                 NaN   \n",
       "1                             1                   0                 3.0   \n",
       "2                             1                   0                 NaN   \n",
       "3                             1                   0                 NaN   \n",
       "4                             1                   1                 NaN   \n",
       "\n",
       "   risk_preference        IV  \n",
       "0              NaN  0.083333  \n",
       "1              2.0  0.083333  \n",
       "2              NaN  0.083333  \n",
       "3              NaN  0.083333  \n",
       "4              NaN  0.079861  \n",
       "\n",
       "[5 rows x 27 columns]"
      ]
     },
     "execution_count": 4,
     "metadata": {},
     "output_type": "execute_result"
    }
   ],
   "source": [
    "data17.head()"
   ]
  },
  {
   "cell_type": "markdown",
   "id": "9391aebd",
   "metadata": {},
   "source": [
    "# Data cleaning"
   ]
  },
  {
   "cell_type": "code",
   "execution_count": 5,
   "id": "8e249bcf",
   "metadata": {},
   "outputs": [
    {
     "data": {
      "text/plain": [
       "<AxesSubplot:>"
      ]
     },
     "execution_count": 5,
     "metadata": {},
     "output_type": "execute_result"
    },
    {
     "data": {
      "image/png": "[encoded data removed]",
      "text/plain": [
       "<Figure size 432x288 with 1 Axes>"
      ]
     },
     "metadata": {
      "needs_background": "light"
     },
     "output_type": "display_data"
    }
   ],
   "source": [
    "#Data visualization for the missing values\n",
    "sns.heatmap(data17.isnull(), yticklabels=False, cbar=False, cmap='BuPu_r')"
   ]
  },
  {
   "cell_type": "code",
   "execution_count": 6,
   "id": "bf3451f3",
   "metadata": {},
   "outputs": [
    {
     "data": {
      "text/plain": [
       "hhid                                 0\n",
       "hhid_2011                       110864\n",
       "hhid_2013                        70872\n",
       "hhid_2015                        38868\n",
       "hhid_2017                            0\n",
       "stock_investment                120378\n",
       "stock_investment_scope          126351\n",
       "pline                                0\n",
       "hhead                            87001\n",
       "education_level                  17948\n",
       "total_income                         0\n",
       "total_consump                        0\n",
       "total_asset                          0\n",
       "total_debt                       18867\n",
       "age                                 47\n",
       "family_member_number                11\n",
       "gender                               8\n",
       "married                              0\n",
       "stock_account                      385\n",
       "health                              88\n",
       "own_house                            0\n",
       "happiness                         1415\n",
       "rural_household_registration         0\n",
       "credit_constraints                   0\n",
       "financial_literacy               88124\n",
       "risk_preference                  95371\n",
       "IV                                   0\n",
       "dtype: int64"
      ]
     },
     "execution_count": 6,
     "metadata": {},
     "output_type": "execute_result"
    }
   ],
   "source": [
    "data17.isna().sum()"
   ]
  },
  {
   "cell_type": "code",
   "execution_count": 7,
   "id": "7985aedf",
   "metadata": {},
   "outputs": [
    {
     "data": {
      "text/plain": [
       "127012"
      ]
     },
     "execution_count": 7,
     "metadata": {},
     "output_type": "execute_result"
    }
   ],
   "source": [
    "#Row numbers for chfs 2017 data\n",
    "data17.shape[0]"
   ]
  },
  {
   "cell_type": "markdown",
   "id": "b1e1054e",
   "metadata": {},
   "source": [
    "**Deal with missing values of stock-related variables**"
   ]
  },
  {
   "cell_type": "code",
   "execution_count": 8,
   "id": "c3ca74b6",
   "metadata": {},
   "outputs": [],
   "source": [
    "data17[\"stock_investment\"] = np.where(data17[\"stock_account\"] == 0, 0, data17[\"stock_investment\"])"
   ]
  },
  {
   "cell_type": "code",
   "execution_count": 9,
   "id": "d6768b22",
   "metadata": {},
   "outputs": [],
   "source": [
    "data17[\"stock_investment\"] = np.where((data17[\"stock_investment\"] == \".d\") | \n",
    "                                      (data17[\"stock_investment\"] == \".r\") |\n",
    "                                      (data17[\"stock_investment\"] == \".n\"), \n",
    "                                      \".\", data17[\"stock_investment\"])\n",
    "data17[\"stock_investment\"] = np.where(data17[\"stock_investment\"] == \".\", -1, data17[\"stock_investment\"])\n",
    "data17[\"stock_investment\"] = data17[\"stock_investment\"].astype(float)"
   ]
  },
  {
   "cell_type": "code",
   "execution_count": 10,
   "id": "60c6b208",
   "metadata": {},
   "outputs": [],
   "source": [
    "data17[\"stock_investment_scope\"] = np.where(data17[\"stock_investment\"] == 0, \n",
    "                                            0, data17[\"stock_investment_scope\"])\n",
    "data17[\"stock_investment_scope\"] = np.where((data17[\"stock_investment\"] > 0) & \n",
    "                                            (data17[\"stock_investment\"] < 10000), \n",
    "                                            1, data17[\"stock_investment_scope\"])\n",
    "data17[\"stock_investment_scope\"] = np.where((data17[\"stock_investment\"] >= 10000) & \n",
    "                                            (data17[\"stock_investment\"] < 30000),\n",
    "                                            2, data17[\"stock_investment_scope\"])\n",
    "data17[\"stock_investment_scope\"] = np.where((data17[\"stock_investment\"] >= 30000) & \n",
    "                                            (data17[\"stock_investment\"] < 50000),\n",
    "                                            3, data17[\"stock_investment_scope\"])\n",
    "data17[\"stock_investment_scope\"] = np.where((data17[\"stock_investment\"] >= 50000) & \n",
    "                                            (data17[\"stock_investment\"] < 70000),\n",
    "                                            4, data17[\"stock_investment_scope\"])\n",
    "data17[\"stock_investment_scope\"] = np.where((data17[\"stock_investment\"] >= 70000) & \n",
    "                                            (data17[\"stock_investment\"] < 100000),\n",
    "                                            5, data17[\"stock_investment_scope\"])\n",
    "data17[\"stock_investment_scope\"] = np.where((data17[\"stock_investment\"] >= 100000) & \n",
    "                                            (data17[\"stock_investment\"] < 300000),\n",
    "                                            6, data17[\"stock_investment_scope\"])\n",
    "data17[\"stock_investment_scope\"] = np.where((data17[\"stock_investment\"] >= 300000) & \n",
    "                                            (data17[\"stock_investment\"] < 500000),\n",
    "                                            7, data17[\"stock_investment_scope\"])\n",
    "data17[\"stock_investment_scope\"] = np.where((data17[\"stock_investment\"] >= 500000) & \n",
    "                                            (data17[\"stock_investment\"] < 1000000),\n",
    "                                            8, data17[\"stock_investment_scope\"])\n",
    "data17[\"stock_investment_scope\"] = np.where((data17[\"stock_investment\"] >= 1000000) & \n",
    "                                            (data17[\"stock_investment\"] < 5000000),\n",
    "                                            9, data17[\"stock_investment_scope\"])\n",
    "data17[\"stock_investment_scope\"] = np.where((data17[\"stock_investment\"] >= 5000000) & \n",
    "                                            (data17[\"stock_investment\"] < 10000000),\n",
    "                                            10, data17[\"stock_investment_scope\"])\n",
    "data17[\"stock_investment_scope\"] = np.where(data17[\"stock_investment\"] >= 10000000,\n",
    "                                            11, data17[\"stock_investment_scope\"])"
   ]
  },
  {
   "cell_type": "code",
   "execution_count": 11,
   "id": "81f16fee",
   "metadata": {},
   "outputs": [],
   "source": [
    "#Delete unneeded variables\n",
    "del data17[\"stock_account\"]\n",
    "del data17[\"stock_investment\"]"
   ]
  },
  {
   "cell_type": "code",
   "execution_count": 12,
   "id": "6a770ad6",
   "metadata": {},
   "outputs": [],
   "source": [
    "#Rename the following variables\n",
    "data17.rename(columns = {'stock_investment_scope':'stock_investment'}, inplace = True)"
   ]
  },
  {
   "cell_type": "code",
   "execution_count": 13,
   "id": "340cd172",
   "metadata": {},
   "outputs": [],
   "source": [
    "#Since my research question is focused on the household level, I only need one data per household.\n",
    "#That is, the data of the head of the household.\n",
    "data17 = data17.dropna(subset = ['hhead'])\n",
    "del data17['hhead']"
   ]
  },
  {
   "cell_type": "code",
   "execution_count": 14,
   "id": "2aa7439f",
   "metadata": {},
   "outputs": [
    {
     "data": {
      "text/html": [
       "<div>\n",
       "<style scoped>\n",
       "    .dataframe tbody tr th:only-of-type {\n",
       "        vertical-align: middle;\n",
       "    }\n",
       "\n",
       "    .dataframe tbody tr th {\n",
       "        vertical-align: top;\n",
       "    }\n",
       "\n",
       "    .dataframe thead th {\n",
       "        text-align: right;\n",
       "    }\n",
       "</style>\n",
       "<table border=\"1\" class=\"dataframe\">\n",
       "  <thead>\n",
       "    <tr style=\"text-align: right;\">\n",
       "      <th></th>\n",
       "      <th>hhid_2015</th>\n",
       "      <th>financial_literacy_2015</th>\n",
       "      <th>risk_preference_2015</th>\n",
       "    </tr>\n",
       "  </thead>\n",
       "  <tbody>\n",
       "    <tr>\n",
       "      <th>0</th>\n",
       "      <td>2015000001</td>\n",
       "      <td>1.0</td>\n",
       "      <td>0.0</td>\n",
       "    </tr>\n",
       "    <tr>\n",
       "      <th>1</th>\n",
       "      <td>2015000002</td>\n",
       "      <td>3.0</td>\n",
       "      <td>2.0</td>\n",
       "    </tr>\n",
       "    <tr>\n",
       "      <th>2</th>\n",
       "      <td>2015000003</td>\n",
       "      <td>1.0</td>\n",
       "      <td>0.0</td>\n",
       "    </tr>\n",
       "    <tr>\n",
       "      <th>3</th>\n",
       "      <td>2015000004</td>\n",
       "      <td>3.0</td>\n",
       "      <td>4.0</td>\n",
       "    </tr>\n",
       "    <tr>\n",
       "      <th>4</th>\n",
       "      <td>2015000005</td>\n",
       "      <td>0.0</td>\n",
       "      <td>0.0</td>\n",
       "    </tr>\n",
       "  </tbody>\n",
       "</table>\n",
       "</div>"
      ],
      "text/plain": [
       "    hhid_2015  financial_literacy_2015  risk_preference_2015\n",
       "0  2015000001                      1.0                   0.0\n",
       "1  2015000002                      3.0                   2.0\n",
       "2  2015000003                      1.0                   0.0\n",
       "3  2015000004                      3.0                   4.0\n",
       "4  2015000005                      0.0                   0.0"
      ]
     },
     "execution_count": 14,
     "metadata": {},
     "output_type": "execute_result"
    }
   ],
   "source": [
    "data15.head()"
   ]
  },
  {
   "cell_type": "code",
   "execution_count": 15,
   "id": "1825a8d8",
   "metadata": {},
   "outputs": [
    {
     "data": {
      "text/html": [
       "<div>\n",
       "<style scoped>\n",
       "    .dataframe tbody tr th:only-of-type {\n",
       "        vertical-align: middle;\n",
       "    }\n",
       "\n",
       "    .dataframe tbody tr th {\n",
       "        vertical-align: top;\n",
       "    }\n",
       "\n",
       "    .dataframe thead th {\n",
       "        text-align: right;\n",
       "    }\n",
       "</style>\n",
       "<table border=\"1\" class=\"dataframe\">\n",
       "  <thead>\n",
       "    <tr style=\"text-align: right;\">\n",
       "      <th></th>\n",
       "      <th>hhid_2013</th>\n",
       "      <th>financial_literacy_2013</th>\n",
       "      <th>risk_preference_2013</th>\n",
       "    </tr>\n",
       "  </thead>\n",
       "  <tbody>\n",
       "    <tr>\n",
       "      <th>0</th>\n",
       "      <td>2013000001</td>\n",
       "      <td>1.0</td>\n",
       "      <td>1.0</td>\n",
       "    </tr>\n",
       "    <tr>\n",
       "      <th>1</th>\n",
       "      <td>2013000002</td>\n",
       "      <td>2.0</td>\n",
       "      <td>1.0</td>\n",
       "    </tr>\n",
       "    <tr>\n",
       "      <th>2</th>\n",
       "      <td>2013000003</td>\n",
       "      <td>2.0</td>\n",
       "      <td>0.0</td>\n",
       "    </tr>\n",
       "    <tr>\n",
       "      <th>3</th>\n",
       "      <td>2013000004</td>\n",
       "      <td>3.0</td>\n",
       "      <td>0.0</td>\n",
       "    </tr>\n",
       "    <tr>\n",
       "      <th>4</th>\n",
       "      <td>2013000005</td>\n",
       "      <td>2.0</td>\n",
       "      <td>2.0</td>\n",
       "    </tr>\n",
       "  </tbody>\n",
       "</table>\n",
       "</div>"
      ],
      "text/plain": [
       "    hhid_2013  financial_literacy_2013  risk_preference_2013\n",
       "0  2013000001                      1.0                   1.0\n",
       "1  2013000002                      2.0                   1.0\n",
       "2  2013000003                      2.0                   0.0\n",
       "3  2013000004                      3.0                   0.0\n",
       "4  2013000005                      2.0                   2.0"
      ]
     },
     "execution_count": 15,
     "metadata": {},
     "output_type": "execute_result"
    }
   ],
   "source": [
    "data13.head()"
   ]
  },
  {
   "cell_type": "code",
   "execution_count": 16,
   "id": "36027538",
   "metadata": {},
   "outputs": [
    {
     "data": {
      "text/html": [
       "<div>\n",
       "<style scoped>\n",
       "    .dataframe tbody tr th:only-of-type {\n",
       "        vertical-align: middle;\n",
       "    }\n",
       "\n",
       "    .dataframe tbody tr th {\n",
       "        vertical-align: top;\n",
       "    }\n",
       "\n",
       "    .dataframe thead th {\n",
       "        text-align: right;\n",
       "    }\n",
       "</style>\n",
       "<table border=\"1\" class=\"dataframe\">\n",
       "  <thead>\n",
       "    <tr style=\"text-align: right;\">\n",
       "      <th></th>\n",
       "      <th>hhid_2011</th>\n",
       "      <th>risk_preference_2011</th>\n",
       "    </tr>\n",
       "  </thead>\n",
       "  <tbody>\n",
       "    <tr>\n",
       "      <th>0</th>\n",
       "      <td>201100001</td>\n",
       "      <td>0.0</td>\n",
       "    </tr>\n",
       "    <tr>\n",
       "      <th>1</th>\n",
       "      <td>201100002</td>\n",
       "      <td>0.0</td>\n",
       "    </tr>\n",
       "    <tr>\n",
       "      <th>2</th>\n",
       "      <td>201100003</td>\n",
       "      <td>0.0</td>\n",
       "    </tr>\n",
       "    <tr>\n",
       "      <th>3</th>\n",
       "      <td>201100004</td>\n",
       "      <td>0.0</td>\n",
       "    </tr>\n",
       "    <tr>\n",
       "      <th>4</th>\n",
       "      <td>201100005</td>\n",
       "      <td>0.0</td>\n",
       "    </tr>\n",
       "  </tbody>\n",
       "</table>\n",
       "</div>"
      ],
      "text/plain": [
       "   hhid_2011  risk_preference_2011\n",
       "0  201100001                   0.0\n",
       "1  201100002                   0.0\n",
       "2  201100003                   0.0\n",
       "3  201100004                   0.0\n",
       "4  201100005                   0.0"
      ]
     },
     "execution_count": 16,
     "metadata": {},
     "output_type": "execute_result"
    }
   ],
   "source": [
    "data11.head()"
   ]
  },
  {
   "cell_type": "code",
   "execution_count": 17,
   "id": "81a63233",
   "metadata": {},
   "outputs": [],
   "source": [
    "data17['hhid_2015'] = np.where(data17[\"hhid_2015\"].isnull() == True, -1, data17[\"hhid_2015\"])\n",
    "data17['hhid_2013'] = np.where(data17[\"hhid_2013\"].isnull() == True, -1, data17[\"hhid_2013\"])\n",
    "data17['hhid_2011'] = np.where(data17[\"hhid_2011\"].isnull() == True, -1, data17[\"hhid_2011\"])\n",
    "data17['hhid_2015'] = data17['hhid_2015'].astype(int)\n",
    "data17['hhid_2013'] = data17['hhid_2013'].astype(int)\n",
    "data17['hhid_2011'] = data17['hhid_2011'].astype(int)"
   ]
  },
  {
   "cell_type": "markdown",
   "id": "ce09e2ae",
   "metadata": {},
   "source": [
    "You can observe a large number of missing values in `financial_literacy` and `risk_preference` in data17 because only new respondents were interviewed in these two related questions in the 2017 survey. Therefore, I need to merge the previous data and fill in the missing values."
   ]
  },
  {
   "cell_type": "code",
   "execution_count": 18,
   "id": "0632dce1",
   "metadata": {},
   "outputs": [],
   "source": [
    "data1 = pd.merge(data17, data15, on = 'hhid_2015', how = 'outer')\n",
    "data2 = pd.merge(data1, data13, on = 'hhid_2013', how = 'outer')\n",
    "data = pd.merge(data2, data11, on = 'hhid_2011', how = 'outer')\n",
    "#The merge method I used produces a lot of na values, remove them.\n",
    "data = data.dropna(subset = ['hhid'])\n",
    "#The merge method I used also produces a lot of duplicate values, so I need to remove these duplicates.\n",
    "data = data.drop_duplicates(subset = ['hhid'], keep = 'first')"
   ]
  },
  {
   "cell_type": "code",
   "execution_count": 19,
   "id": "8dbc3416",
   "metadata": {},
   "outputs": [],
   "source": [
    "data['financial_literacy'] = np.where(data[\"financial_literacy\"].isnull() == True, \n",
    "                                      data[\"financial_literacy_2015\"], data[\"financial_literacy\"])\n",
    "data['financial_literacy'] = np.where(data[\"financial_literacy\"].isnull() == True, \n",
    "                                      data[\"financial_literacy_2013\"], data[\"financial_literacy\"])"
   ]
  },
  {
   "cell_type": "code",
   "execution_count": 20,
   "id": "5114551e",
   "metadata": {},
   "outputs": [],
   "source": [
    "data['risk_preference'] = np.where(data[\"risk_preference\"].isnull() == True, data[\"risk_preference_2015\"], \n",
    "                                   data[\"risk_preference\"])\n",
    "data['risk_preference'] = np.where(data[\"risk_preference\"].isnull() == True, data[\"risk_preference_2013\"], \n",
    "                                   data[\"risk_preference\"])\n",
    "data['risk_preference'] = np.where(data[\"risk_preference\"].isnull() == True, data[\"risk_preference_2011\"], \n",
    "                                   data[\"risk_preference\"])"
   ]
  },
  {
   "cell_type": "code",
   "execution_count": 21,
   "id": "07baea1c",
   "metadata": {},
   "outputs": [],
   "source": [
    "#Delete unneeded variables\n",
    "del data[\"hhid_2017\"]\n",
    "del data[\"hhid_2015\"]\n",
    "del data[\"hhid_2013\"]\n",
    "del data[\"hhid_2011\"]\n",
    "del data[\"financial_literacy_2015\"]\n",
    "del data[\"financial_literacy_2013\"]\n",
    "del data[\"risk_preference_2015\"]\n",
    "del data[\"risk_preference_2013\"]\n",
    "del data[\"risk_preference_2011\"]"
   ]
  },
  {
   "cell_type": "code",
   "execution_count": 22,
   "id": "77ef8da0",
   "metadata": {},
   "outputs": [
    {
     "data": {
      "text/plain": [
       "hhid                               0\n",
       "stock_investment                1264\n",
       "pline                              0\n",
       "education_level                   53\n",
       "total_income                       0\n",
       "total_consump                      0\n",
       "total_asset                        0\n",
       "total_debt                      8337\n",
       "age                               11\n",
       "family_member_number               3\n",
       "gender                             1\n",
       "married                            0\n",
       "health                             9\n",
       "own_house                          0\n",
       "happiness                        458\n",
       "rural_household_registration       0\n",
       "credit_constraints                 0\n",
       "financial_literacy                46\n",
       "risk_preference                 3692\n",
       "IV                                 0\n",
       "dtype: int64"
      ]
     },
     "execution_count": 22,
     "metadata": {},
     "output_type": "execute_result"
    }
   ],
   "source": [
    "data.isna().sum()"
   ]
  },
  {
   "cell_type": "code",
   "execution_count": 23,
   "id": "714477be",
   "metadata": {},
   "outputs": [
    {
     "data": {
      "text/plain": [
       "<AxesSubplot:>"
      ]
     },
     "execution_count": 23,
     "metadata": {},
     "output_type": "execute_result"
    },
    {
     "data": {
      "image/png": "[encoded data removed]",
      "text/plain": [
       "<Figure size 432x288 with 1 Axes>"
      ]
     },
     "metadata": {
      "needs_background": "light"
     },
     "output_type": "display_data"
    }
   ],
   "source": [
    "#Data visualization for the missing values\n",
    "sns.heatmap(data.isnull(), yticklabels=False, cbar=False, cmap='BuPu_r')"
   ]
  },
  {
   "cell_type": "code",
   "execution_count": 24,
   "id": "1b430200",
   "metadata": {},
   "outputs": [],
   "source": [
    "#Delete rows with too many missing values\n",
    "data = data.dropna(subset = ['total_debt'])\n",
    "data = data.dropna(subset = ['risk_preference'])\n",
    "data = data.dropna(subset = ['stock_investment'])\n",
    "data = data.dropna(subset = ['happiness'])"
   ]
  },
  {
   "cell_type": "code",
   "execution_count": 25,
   "id": "a8c843d6",
   "metadata": {},
   "outputs": [
    {
     "data": {
      "text/plain": [
       "hhid                             0\n",
       "stock_investment                 0\n",
       "pline                            0\n",
       "education_level                 37\n",
       "total_income                     0\n",
       "total_consump                    0\n",
       "total_asset                      0\n",
       "total_debt                       0\n",
       "age                              7\n",
       "family_member_number             3\n",
       "gender                           0\n",
       "married                          0\n",
       "health                           7\n",
       "own_house                        0\n",
       "happiness                        0\n",
       "rural_household_registration     0\n",
       "credit_constraints               0\n",
       "financial_literacy              11\n",
       "risk_preference                  0\n",
       "IV                               0\n",
       "dtype: int64"
      ]
     },
     "execution_count": 25,
     "metadata": {},
     "output_type": "execute_result"
    }
   ],
   "source": [
    "data.isna().sum()"
   ]
  },
  {
   "cell_type": "code",
   "execution_count": 26,
   "id": "57e70578",
   "metadata": {},
   "outputs": [],
   "source": [
    "#Continue processing the missing values\n",
    "data['education_level'] = data['education_level'].fillna(data['education_level'].median())\n",
    "data['health'] = data['health'].fillna(data['health'].median())\n",
    "data['family_member_number'] = data['family_member_number'].fillna(data['family_member_number'].median())\n",
    "data['age'] = data['age'].fillna(data['age'].mean())\n",
    "data['financial_literacy'] = data['financial_literacy'].fillna(data['financial_literacy'].median())"
   ]
  },
  {
   "cell_type": "code",
   "execution_count": 27,
   "id": "0b5c3b35",
   "metadata": {},
   "outputs": [],
   "source": [
    "#The following variables contain `.d` | `.r` | `.e` in their values, remove them\n",
    "data = data.drop(data[data['stock_investment'] == '.d'].index)\n",
    "data = data.drop(data[data['stock_investment'] == '.r'].index)\n",
    "data = data.drop(data[data['stock_investment'] == '.e'].index)"
   ]
  },
  {
   "cell_type": "code",
   "execution_count": 28,
   "id": "88373ab0",
   "metadata": {},
   "outputs": [
    {
     "data": {
      "text/plain": [
       "<AxesSubplot:>"
      ]
     },
     "execution_count": 28,
     "metadata": {},
     "output_type": "execute_result"
    },
    {
     "data": {
      "image/png": "[encoded data removed]",
      "text/plain": [
       "<Figure size 432x288 with 1 Axes>"
      ]
     },
     "metadata": {
      "needs_background": "light"
     },
     "output_type": "display_data"
    }
   ],
   "source": [
    "#All missing values have been processed\n",
    "sns.heatmap(data.isnull(), yticklabels=False, cbar=False, cmap='BuPu_r')"
   ]
  },
  {
   "cell_type": "code",
   "execution_count": 29,
   "id": "61b1db3a",
   "metadata": {},
   "outputs": [
    {
     "data": {
      "text/html": [
       "<div>\n",
       "<style scoped>\n",
       "    .dataframe tbody tr th:only-of-type {\n",
       "        vertical-align: middle;\n",
       "    }\n",
       "\n",
       "    .dataframe tbody tr th {\n",
       "        vertical-align: top;\n",
       "    }\n",
       "\n",
       "    .dataframe thead th {\n",
       "        text-align: right;\n",
       "    }\n",
       "</style>\n",
       "<table border=\"1\" class=\"dataframe\">\n",
       "  <thead>\n",
       "    <tr style=\"text-align: right;\">\n",
       "      <th></th>\n",
       "      <th>hhid</th>\n",
       "      <th>pline</th>\n",
       "      <th>education_level</th>\n",
       "      <th>total_income</th>\n",
       "      <th>total_consump</th>\n",
       "      <th>total_asset</th>\n",
       "      <th>total_debt</th>\n",
       "      <th>age</th>\n",
       "      <th>family_member_number</th>\n",
       "      <th>gender</th>\n",
       "      <th>married</th>\n",
       "      <th>health</th>\n",
       "      <th>own_house</th>\n",
       "      <th>happiness</th>\n",
       "      <th>rural_household_registration</th>\n",
       "      <th>credit_constraints</th>\n",
       "      <th>financial_literacy</th>\n",
       "      <th>risk_preference</th>\n",
       "      <th>IV</th>\n",
       "    </tr>\n",
       "  </thead>\n",
       "  <tbody>\n",
       "    <tr>\n",
       "      <th>count</th>\n",
       "      <td>2.769800e+04</td>\n",
       "      <td>27698.000000</td>\n",
       "      <td>27698.000000</td>\n",
       "      <td>2.769800e+04</td>\n",
       "      <td>2.769800e+04</td>\n",
       "      <td>2.769800e+04</td>\n",
       "      <td>2.769800e+04</td>\n",
       "      <td>27698.000000</td>\n",
       "      <td>27698.000000</td>\n",
       "      <td>27698.000000</td>\n",
       "      <td>27698.000000</td>\n",
       "      <td>27698.000000</td>\n",
       "      <td>27698.000000</td>\n",
       "      <td>27698.000000</td>\n",
       "      <td>27698.000000</td>\n",
       "      <td>27698.000000</td>\n",
       "      <td>27698.000000</td>\n",
       "      <td>27698.000000</td>\n",
       "      <td>27698.000000</td>\n",
       "    </tr>\n",
       "    <tr>\n",
       "      <th>mean</th>\n",
       "      <td>1.767226e+09</td>\n",
       "      <td>1.560582</td>\n",
       "      <td>3.470648</td>\n",
       "      <td>1.019716e+05</td>\n",
       "      <td>6.854908e+04</td>\n",
       "      <td>1.157742e+06</td>\n",
       "      <td>7.339570e+04</td>\n",
       "      <td>52.659034</td>\n",
       "      <td>3.941584</td>\n",
       "      <td>0.173081</td>\n",
       "      <td>0.889017</td>\n",
       "      <td>2.449202</td>\n",
       "      <td>0.923893</td>\n",
       "      <td>0.702433</td>\n",
       "      <td>0.565745</td>\n",
       "      <td>0.080475</td>\n",
       "      <td>1.046682</td>\n",
       "      <td>1.263737</td>\n",
       "      <td>0.078927</td>\n",
       "    </tr>\n",
       "    <tr>\n",
       "      <th>std</th>\n",
       "      <td>6.228038e+08</td>\n",
       "      <td>0.984129</td>\n",
       "      <td>1.642670</td>\n",
       "      <td>2.182731e+05</td>\n",
       "      <td>8.415257e+04</td>\n",
       "      <td>2.224913e+06</td>\n",
       "      <td>3.154492e+05</td>\n",
       "      <td>12.966156</td>\n",
       "      <td>2.279821</td>\n",
       "      <td>0.378324</td>\n",
       "      <td>0.314116</td>\n",
       "      <td>1.004360</td>\n",
       "      <td>0.265173</td>\n",
       "      <td>0.457196</td>\n",
       "      <td>0.495668</td>\n",
       "      <td>0.272032</td>\n",
       "      <td>1.095086</td>\n",
       "      <td>1.322639</td>\n",
       "      <td>0.065657</td>\n",
       "    </tr>\n",
       "    <tr>\n",
       "      <th>min</th>\n",
       "      <td>2.011000e+08</td>\n",
       "      <td>1.000000</td>\n",
       "      <td>1.000000</td>\n",
       "      <td>-4.950324e+06</td>\n",
       "      <td>7.368000e+02</td>\n",
       "      <td>-2.124020e+05</td>\n",
       "      <td>0.000000e+00</td>\n",
       "      <td>3.000000</td>\n",
       "      <td>1.000000</td>\n",
       "      <td>0.000000</td>\n",
       "      <td>0.000000</td>\n",
       "      <td>0.000000</td>\n",
       "      <td>0.000000</td>\n",
       "      <td>0.000000</td>\n",
       "      <td>0.000000</td>\n",
       "      <td>0.000000</td>\n",
       "      <td>0.000000</td>\n",
       "      <td>0.000000</td>\n",
       "      <td>0.000000</td>\n",
       "    </tr>\n",
       "    <tr>\n",
       "      <th>25%</th>\n",
       "      <td>2.013010e+09</td>\n",
       "      <td>1.000000</td>\n",
       "      <td>2.000000</td>\n",
       "      <td>2.602125e+04</td>\n",
       "      <td>2.803400e+04</td>\n",
       "      <td>1.404178e+05</td>\n",
       "      <td>0.000000e+00</td>\n",
       "      <td>44.000000</td>\n",
       "      <td>2.000000</td>\n",
       "      <td>0.000000</td>\n",
       "      <td>1.000000</td>\n",
       "      <td>2.000000</td>\n",
       "      <td>1.000000</td>\n",
       "      <td>0.000000</td>\n",
       "      <td>0.000000</td>\n",
       "      <td>0.000000</td>\n",
       "      <td>0.000000</td>\n",
       "      <td>0.000000</td>\n",
       "      <td>0.028090</td>\n",
       "    </tr>\n",
       "    <tr>\n",
       "      <th>50%</th>\n",
       "      <td>2.015004e+09</td>\n",
       "      <td>1.000000</td>\n",
       "      <td>3.000000</td>\n",
       "      <td>6.147750e+04</td>\n",
       "      <td>4.909000e+04</td>\n",
       "      <td>4.329470e+05</td>\n",
       "      <td>0.000000e+00</td>\n",
       "      <td>52.000000</td>\n",
       "      <td>3.000000</td>\n",
       "      <td>0.000000</td>\n",
       "      <td>1.000000</td>\n",
       "      <td>3.000000</td>\n",
       "      <td>1.000000</td>\n",
       "      <td>1.000000</td>\n",
       "      <td>1.000000</td>\n",
       "      <td>0.000000</td>\n",
       "      <td>1.000000</td>\n",
       "      <td>1.000000</td>\n",
       "      <td>0.057252</td>\n",
       "    </tr>\n",
       "    <tr>\n",
       "      <th>75%</th>\n",
       "      <td>2.017005e+09</td>\n",
       "      <td>2.000000</td>\n",
       "      <td>4.000000</td>\n",
       "      <td>1.146328e+05</td>\n",
       "      <td>8.127675e+04</td>\n",
       "      <td>1.154978e+06</td>\n",
       "      <td>3.300000e+04</td>\n",
       "      <td>62.000000</td>\n",
       "      <td>5.000000</td>\n",
       "      <td>0.000000</td>\n",
       "      <td>1.000000</td>\n",
       "      <td>3.000000</td>\n",
       "      <td>1.000000</td>\n",
       "      <td>1.000000</td>\n",
       "      <td>1.000000</td>\n",
       "      <td>0.000000</td>\n",
       "      <td>2.000000</td>\n",
       "      <td>2.000000</td>\n",
       "      <td>0.107612</td>\n",
       "    </tr>\n",
       "    <tr>\n",
       "      <th>max</th>\n",
       "      <td>2.017040e+09</td>\n",
       "      <td>20.000000</td>\n",
       "      <td>9.000000</td>\n",
       "      <td>8.497832e+06</td>\n",
       "      <td>3.434645e+06</td>\n",
       "      <td>6.394004e+07</td>\n",
       "      <td>2.023763e+07</td>\n",
       "      <td>117.000000</td>\n",
       "      <td>30.000000</td>\n",
       "      <td>1.000000</td>\n",
       "      <td>1.000000</td>\n",
       "      <td>4.000000</td>\n",
       "      <td>1.000000</td>\n",
       "      <td>1.000000</td>\n",
       "      <td>1.000000</td>\n",
       "      <td>1.000000</td>\n",
       "      <td>4.000000</td>\n",
       "      <td>5.000000</td>\n",
       "      <td>0.330909</td>\n",
       "    </tr>\n",
       "  </tbody>\n",
       "</table>\n",
       "</div>"
      ],
      "text/plain": [
       "               hhid         pline  education_level  total_income  \\\n",
       "count  2.769800e+04  27698.000000     27698.000000  2.769800e+04   \n",
       "mean   1.767226e+09      1.560582         3.470648  1.019716e+05   \n",
       "std    6.228038e+08      0.984129         1.642670  2.182731e+05   \n",
       "min    2.011000e+08      1.000000         1.000000 -4.950324e+06   \n",
       "25%    2.013010e+09      1.000000         2.000000  2.602125e+04   \n",
       "50%    2.015004e+09      1.000000         3.000000  6.147750e+04   \n",
       "75%    2.017005e+09      2.000000         4.000000  1.146328e+05   \n",
       "max    2.017040e+09     20.000000         9.000000  8.497832e+06   \n",
       "\n",
       "       total_consump   total_asset    total_debt           age  \\\n",
       "count   2.769800e+04  2.769800e+04  2.769800e+04  27698.000000   \n",
       "mean    6.854908e+04  1.157742e+06  7.339570e+04     52.659034   \n",
       "std     8.415257e+04  2.224913e+06  3.154492e+05     12.966156   \n",
       "min     7.368000e+02 -2.124020e+05  0.000000e+00      3.000000   \n",
       "25%     2.803400e+04  1.404178e+05  0.000000e+00     44.000000   \n",
       "50%     4.909000e+04  4.329470e+05  0.000000e+00     52.000000   \n",
       "75%     8.127675e+04  1.154978e+06  3.300000e+04     62.000000   \n",
       "max     3.434645e+06  6.394004e+07  2.023763e+07    117.000000   \n",
       "\n",
       "       family_member_number        gender       married        health  \\\n",
       "count          27698.000000  27698.000000  27698.000000  27698.000000   \n",
       "mean               3.941584      0.173081      0.889017      2.449202   \n",
       "std                2.279821      0.378324      0.314116      1.004360   \n",
       "min                1.000000      0.000000      0.000000      0.000000   \n",
       "25%                2.000000      0.000000      1.000000      2.000000   \n",
       "50%                3.000000      0.000000      1.000000      3.000000   \n",
       "75%                5.000000      0.000000      1.000000      3.000000   \n",
       "max               30.000000      1.000000      1.000000      4.000000   \n",
       "\n",
       "          own_house     happiness  rural_household_registration  \\\n",
       "count  27698.000000  27698.000000                  27698.000000   \n",
       "mean       0.923893      0.702433                      0.565745   \n",
       "std        0.265173      0.457196                      0.495668   \n",
       "min        0.000000      0.000000                      0.000000   \n",
       "25%        1.000000      0.000000                      0.000000   \n",
       "50%        1.000000      1.000000                      1.000000   \n",
       "75%        1.000000      1.000000                      1.000000   \n",
       "max        1.000000      1.000000                      1.000000   \n",
       "\n",
       "       credit_constraints  financial_literacy  risk_preference            IV  \n",
       "count        27698.000000        27698.000000     27698.000000  27698.000000  \n",
       "mean             0.080475            1.046682         1.263737      0.078927  \n",
       "std              0.272032            1.095086         1.322639      0.065657  \n",
       "min              0.000000            0.000000         0.000000      0.000000  \n",
       "25%              0.000000            0.000000         0.000000      0.028090  \n",
       "50%              0.000000            1.000000         1.000000      0.057252  \n",
       "75%              0.000000            2.000000         2.000000      0.107612  \n",
       "max              1.000000            4.000000         5.000000      0.330909  "
      ]
     },
     "execution_count": 29,
     "metadata": {},
     "output_type": "execute_result"
    }
   ],
   "source": [
    "data.describe()"
   ]
  },
  {
   "cell_type": "code",
   "execution_count": 30,
   "id": "83164e98",
   "metadata": {},
   "outputs": [
    {
     "data": {
      "text/plain": [
       "27698"
      ]
     },
     "execution_count": 30,
     "metadata": {},
     "output_type": "execute_result"
    }
   ],
   "source": [
    "len(data)"
   ]
  },
  {
   "cell_type": "code",
   "execution_count": 31,
   "id": "55cacb02",
   "metadata": {},
   "outputs": [],
   "source": [
    "#Export data\n",
    "data.to_csv(inputdir + 'processed_chfs_data.csv', index=False)"
   ]
  }
 ],
 "metadata": {
  "kernelspec": {
   "display_name": "Python 3 (ipykernel)",
   "language": "python",
   "name": "python3"
  },
  "language_info": {
   "codemirror_mode": {
    "name": "ipython",
    "version": 3
   },
   "file_extension": ".py",
   "mimetype": "text/x-python",
   "name": "python",
   "nbconvert_exporter": "python",
   "pygments_lexer": "ipython3",
   "version": "3.8.3"
  }
 },
 "nbformat": 4,
 "nbformat_minor": 5
}
