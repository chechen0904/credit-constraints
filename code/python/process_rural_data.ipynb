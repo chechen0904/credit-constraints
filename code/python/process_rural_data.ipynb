{
 "cells": [
  {
   "cell_type": "code",
   "execution_count": 79,
   "id": "0b2a1e82",
   "metadata": {},
   "outputs": [],
   "source": [
    "import pandas as pd\n",
    "import numpy as np\n",
    "import seaborn as sns"
   ]
  },
  {
   "cell_type": "code",
   "execution_count": 80,
   "id": "8be1de11",
   "metadata": {},
   "outputs": [],
   "source": [
    "inputdir = \"../../data/derived/\""
   ]
  },
  {
   "cell_type": "code",
   "execution_count": 81,
   "id": "acfe7de3",
   "metadata": {},
   "outputs": [],
   "source": [
    "#Import the data\n",
    "data17 = pd.read_csv(inputdir + \"chfs2017data.csv\")\n",
    "data15 = pd.read_csv(inputdir + \"chfs2015data.csv\")\n",
    "data13 = pd.read_csv(inputdir + \"chfs2013data.csv\")\n",
    "data11 = pd.read_csv(inputdir + \"chfs2011data.csv\")"
   ]
  },
  {
   "cell_type": "code",
   "execution_count": 82,
   "id": "85eb4f3d",
   "metadata": {},
   "outputs": [
    {
     "data": {
      "text/html": [
       "<div>\n",
       "<style scoped>\n",
       "    .dataframe tbody tr th:only-of-type {\n",
       "        vertical-align: middle;\n",
       "    }\n",
       "\n",
       "    .dataframe tbody tr th {\n",
       "        vertical-align: top;\n",
       "    }\n",
       "\n",
       "    .dataframe thead th {\n",
       "        text-align: right;\n",
       "    }\n",
       "</style>\n",
       "<table border=\"1\" class=\"dataframe\">\n",
       "  <thead>\n",
       "    <tr style=\"text-align: right;\">\n",
       "      <th></th>\n",
       "      <th>hhid</th>\n",
       "      <th>hhid_2011</th>\n",
       "      <th>hhid_2013</th>\n",
       "      <th>hhid_2015</th>\n",
       "      <th>hhid_2017</th>\n",
       "      <th>distance</th>\n",
       "      <th>stock_account_cash_balance</th>\n",
       "      <th>stock_account_cash_balance_scope</th>\n",
       "      <th>stock_numbers</th>\n",
       "      <th>stock_values</th>\n",
       "      <th>...</th>\n",
       "      <th>married</th>\n",
       "      <th>stock_account</th>\n",
       "      <th>health</th>\n",
       "      <th>own_house</th>\n",
       "      <th>happiness</th>\n",
       "      <th>rural_household_registration</th>\n",
       "      <th>credit_constraints</th>\n",
       "      <th>financial_literacy</th>\n",
       "      <th>risk_preference</th>\n",
       "      <th>business_insurances</th>\n",
       "    </tr>\n",
       "  </thead>\n",
       "  <tbody>\n",
       "    <tr>\n",
       "      <th>0</th>\n",
       "      <td>2017000001</td>\n",
       "      <td>.</td>\n",
       "      <td>.</td>\n",
       "      <td>.</td>\n",
       "      <td>2017000001</td>\n",
       "      <td>1</td>\n",
       "      <td>NaN</td>\n",
       "      <td>NaN</td>\n",
       "      <td>NaN</td>\n",
       "      <td>NaN</td>\n",
       "      <td>...</td>\n",
       "      <td>1</td>\n",
       "      <td>0.0</td>\n",
       "      <td>3.0</td>\n",
       "      <td>1</td>\n",
       "      <td>1.0</td>\n",
       "      <td>1</td>\n",
       "      <td>0</td>\n",
       "      <td>1.0</td>\n",
       "      <td>1.0</td>\n",
       "      <td>0.0</td>\n",
       "    </tr>\n",
       "    <tr>\n",
       "      <th>1</th>\n",
       "      <td>2017000001</td>\n",
       "      <td>.</td>\n",
       "      <td>.</td>\n",
       "      <td>.</td>\n",
       "      <td>2017000001</td>\n",
       "      <td>1</td>\n",
       "      <td>NaN</td>\n",
       "      <td>NaN</td>\n",
       "      <td>NaN</td>\n",
       "      <td>NaN</td>\n",
       "      <td>...</td>\n",
       "      <td>1</td>\n",
       "      <td>0.0</td>\n",
       "      <td>3.0</td>\n",
       "      <td>1</td>\n",
       "      <td>1.0</td>\n",
       "      <td>1</td>\n",
       "      <td>0</td>\n",
       "      <td>1.0</td>\n",
       "      <td>1.0</td>\n",
       "      <td>0.0</td>\n",
       "    </tr>\n",
       "    <tr>\n",
       "      <th>2</th>\n",
       "      <td>2013013417</td>\n",
       "      <td>.</td>\n",
       "      <td>2013013417</td>\n",
       "      <td>2015018254</td>\n",
       "      <td>2017000002</td>\n",
       "      <td>NaN</td>\n",
       "      <td>NaN</td>\n",
       "      <td>NaN</td>\n",
       "      <td>NaN</td>\n",
       "      <td>NaN</td>\n",
       "      <td>...</td>\n",
       "      <td>0</td>\n",
       "      <td>0.0</td>\n",
       "      <td>2.0</td>\n",
       "      <td>1</td>\n",
       "      <td>0.0</td>\n",
       "      <td>0</td>\n",
       "      <td>0</td>\n",
       "      <td>NaN</td>\n",
       "      <td>NaN</td>\n",
       "      <td>0.0</td>\n",
       "    </tr>\n",
       "    <tr>\n",
       "      <th>3</th>\n",
       "      <td>2013013417</td>\n",
       "      <td>.</td>\n",
       "      <td>2013013417</td>\n",
       "      <td>2015018254</td>\n",
       "      <td>2017000002</td>\n",
       "      <td>NaN</td>\n",
       "      <td>NaN</td>\n",
       "      <td>NaN</td>\n",
       "      <td>NaN</td>\n",
       "      <td>NaN</td>\n",
       "      <td>...</td>\n",
       "      <td>1</td>\n",
       "      <td>0.0</td>\n",
       "      <td>1.0</td>\n",
       "      <td>1</td>\n",
       "      <td>0.0</td>\n",
       "      <td>0</td>\n",
       "      <td>0</td>\n",
       "      <td>NaN</td>\n",
       "      <td>NaN</td>\n",
       "      <td>0.0</td>\n",
       "    </tr>\n",
       "    <tr>\n",
       "      <th>4</th>\n",
       "      <td>2013013417</td>\n",
       "      <td>.</td>\n",
       "      <td>2013013417</td>\n",
       "      <td>2015018254</td>\n",
       "      <td>2017000002</td>\n",
       "      <td>NaN</td>\n",
       "      <td>NaN</td>\n",
       "      <td>NaN</td>\n",
       "      <td>NaN</td>\n",
       "      <td>NaN</td>\n",
       "      <td>...</td>\n",
       "      <td>1</td>\n",
       "      <td>0.0</td>\n",
       "      <td>2.0</td>\n",
       "      <td>1</td>\n",
       "      <td>0.0</td>\n",
       "      <td>0</td>\n",
       "      <td>0</td>\n",
       "      <td>NaN</td>\n",
       "      <td>NaN</td>\n",
       "      <td>0.0</td>\n",
       "    </tr>\n",
       "  </tbody>\n",
       "</table>\n",
       "<p>5 rows × 35 columns</p>\n",
       "</div>"
      ],
      "text/plain": [
       "         hhid hhid_2011   hhid_2013   hhid_2015   hhid_2017 distance  \\\n",
       "0  2017000001         .           .           .  2017000001        1   \n",
       "1  2017000001         .           .           .  2017000001        1   \n",
       "2  2013013417         .  2013013417  2015018254  2017000002      NaN   \n",
       "3  2013013417         .  2013013417  2015018254  2017000002      NaN   \n",
       "4  2013013417         .  2013013417  2015018254  2017000002      NaN   \n",
       "\n",
       "  stock_account_cash_balance stock_account_cash_balance_scope stock_numbers  \\\n",
       "0                        NaN                              NaN           NaN   \n",
       "1                        NaN                              NaN           NaN   \n",
       "2                        NaN                              NaN           NaN   \n",
       "3                        NaN                              NaN           NaN   \n",
       "4                        NaN                              NaN           NaN   \n",
       "\n",
       "  stock_values  ... married stock_account health  own_house  happiness  \\\n",
       "0          NaN  ...       1           0.0    3.0          1        1.0   \n",
       "1          NaN  ...       1           0.0    3.0          1        1.0   \n",
       "2          NaN  ...       0           0.0    2.0          1        0.0   \n",
       "3          NaN  ...       1           0.0    1.0          1        0.0   \n",
       "4          NaN  ...       1           0.0    2.0          1        0.0   \n",
       "\n",
       "   rural_household_registration  credit_constraints  financial_literacy  \\\n",
       "0                             1                   0                 1.0   \n",
       "1                             1                   0                 1.0   \n",
       "2                             0                   0                 NaN   \n",
       "3                             0                   0                 NaN   \n",
       "4                             0                   0                 NaN   \n",
       "\n",
       "   risk_preference  business_insurances  \n",
       "0              1.0                  0.0  \n",
       "1              1.0                  0.0  \n",
       "2              NaN                  0.0  \n",
       "3              NaN                  0.0  \n",
       "4              NaN                  0.0  \n",
       "\n",
       "[5 rows x 35 columns]"
      ]
     },
     "execution_count": 82,
     "metadata": {},
     "output_type": "execute_result"
    }
   ],
   "source": [
    "data17.head()"
   ]
  },
  {
   "cell_type": "markdown",
   "id": "4e8f15e0",
   "metadata": {},
   "source": [
    "# Data cleaning"
   ]
  },
  {
   "cell_type": "code",
   "execution_count": 83,
   "id": "39f9b950",
   "metadata": {},
   "outputs": [
    {
     "data": {
      "text/plain": [
       "<AxesSubplot:>"
      ]
     },
     "execution_count": 83,
     "metadata": {},
     "output_type": "execute_result"
    },
    {
     "data": {
      "image/png": "[encoded data removed]",
      "text/plain": [
       "<Figure size 432x288 with 1 Axes>"
      ]
     },
     "metadata": {
      "needs_background": "light"
     },
     "output_type": "display_data"
    }
   ],
   "source": [
    "#Data visualization for the missing values\n",
    "sns.heatmap(data17.isnull(), yticklabels=False, cbar=False, cmap='BuPu_r')"
   ]
  },
  {
   "cell_type": "code",
   "execution_count": 84,
   "id": "d1fb3876",
   "metadata": {},
   "outputs": [
    {
     "data": {
      "text/plain": [
       "hhid                                     0\n",
       "hhid_2011                                0\n",
       "hhid_2013                                0\n",
       "hhid_2015                                0\n",
       "hhid_2017                                0\n",
       "distance                             82002\n",
       "stock_account_cash_balance          117596\n",
       "stock_account_cash_balance_scope    125547\n",
       "stock_numbers                       117596\n",
       "stock_values                        120378\n",
       "stock_values_scope                  126087\n",
       "stock_investment                    120378\n",
       "stock_investment_scope              126351\n",
       "pline                                    0\n",
       "hhead                                87001\n",
       "education_level                      17948\n",
       "total_income                             0\n",
       "total_consump                            0\n",
       "total_asset                              0\n",
       "total_debt                           18867\n",
       "age                                     47\n",
       "age2                                    47\n",
       "family_member_number                    11\n",
       "siblings                            113647\n",
       "gender                                   8\n",
       "married                                  0\n",
       "stock_account                          385\n",
       "health                                  88\n",
       "own_house                                0\n",
       "happiness                             1415\n",
       "rural_household_registration             0\n",
       "credit_constraints                       0\n",
       "financial_literacy                   88124\n",
       "risk_preference                      95371\n",
       "business_insurances                      7\n",
       "dtype: int64"
      ]
     },
     "execution_count": 84,
     "metadata": {},
     "output_type": "execute_result"
    }
   ],
   "source": [
    "data17.isna().sum()"
   ]
  },
  {
   "cell_type": "markdown",
   "id": "a5485ab8",
   "metadata": {},
   "source": [
    "**Deal with missing values of stock-related variables**"
   ]
  },
  {
   "cell_type": "code",
   "execution_count": 85,
   "id": "9a932b17",
   "metadata": {},
   "outputs": [],
   "source": [
    "data17[\"stock_account_cash_balance\"] = np.where(data17[\"stock_account\"] == 0, 0, data17[\"stock_account_cash_balance\"])\n",
    "data17[\"stock_numbers\"] = np.where(data17[\"stock_account\"] == 0, 0, data17[\"stock_numbers\"])\n",
    "data17[\"stock_values\"] = np.where(data17[\"stock_account\"] == 0, 0, data17[\"stock_values\"])\n",
    "data17[\"stock_investment\"] = np.where(data17[\"stock_account\"] == 0, 0, data17[\"stock_investment\"])"
   ]
  },
  {
   "cell_type": "code",
   "execution_count": 86,
   "id": "0fb392ed",
   "metadata": {},
   "outputs": [],
   "source": [
    "data17[\"stock_account_cash_balance\"] = np.where((data17[\"stock_account_cash_balance\"] == \".d\") | \n",
    "                                                (data17[\"stock_account_cash_balance\"] == \".r\") |\n",
    "                                                (data17[\"stock_account_cash_balance\"] == \".n\"),\n",
    "                                                \".\", data17[\"stock_account_cash_balance\"])\n",
    "data17[\"stock_account_cash_balance\"] = np.where(data17[\"stock_account_cash_balance\"] == \".\", -1, \n",
    "                                                data17[\"stock_account_cash_balance\"])\n",
    "data17[\"stock_account_cash_balance\"] = data17[\"stock_account_cash_balance\"].astype(float)"
   ]
  },
  {
   "cell_type": "code",
   "execution_count": 87,
   "id": "f2fdad26",
   "metadata": {},
   "outputs": [],
   "source": [
    "data17[\"stock_account_cash_balance_scope\"] = np.where(data17[\"stock_account_cash_balance\"] == 0,\n",
    "                                                     0, data17[\"stock_account_cash_balance_scope\"])\n",
    "data17[\"stock_account_cash_balance_scope\"] = np.where((data17[\"stock_account_cash_balance\"] > 0) & \n",
    "                                                      (data17[\"stock_account_cash_balance\"] < 10000),\n",
    "                                                     1, data17[\"stock_account_cash_balance_scope\"])\n",
    "data17[\"stock_account_cash_balance_scope\"] = np.where((data17[\"stock_account_cash_balance\"] >= 10000) & \n",
    "                                                      (data17[\"stock_account_cash_balance\"] < 30000),\n",
    "                                                     2, data17[\"stock_account_cash_balance_scope\"])\n",
    "data17[\"stock_account_cash_balance_scope\"] = np.where((data17[\"stock_account_cash_balance\"] >= 30000) & \n",
    "                                                      (data17[\"stock_account_cash_balance\"] < 50000),\n",
    "                                                     3, data17[\"stock_account_cash_balance_scope\"])\n",
    "data17[\"stock_account_cash_balance_scope\"] = np.where((data17[\"stock_account_cash_balance\"] >= 50000) & \n",
    "                                                      (data17[\"stock_account_cash_balance\"] < 70000),\n",
    "                                                     4, data17[\"stock_account_cash_balance_scope\"])\n",
    "data17[\"stock_account_cash_balance_scope\"] = np.where((data17[\"stock_account_cash_balance\"] >= 70000) & \n",
    "                                                      (data17[\"stock_account_cash_balance\"] < 100000),\n",
    "                                                     5, data17[\"stock_account_cash_balance_scope\"])\n",
    "data17[\"stock_account_cash_balance_scope\"] = np.where((data17[\"stock_account_cash_balance\"] >= 100000) & \n",
    "                                                      (data17[\"stock_account_cash_balance\"] < 300000),\n",
    "                                                     6, data17[\"stock_account_cash_balance_scope\"])\n",
    "data17[\"stock_account_cash_balance_scope\"] = np.where((data17[\"stock_account_cash_balance\"] >= 300000) & \n",
    "                                                      (data17[\"stock_account_cash_balance\"] < 500000),\n",
    "                                                     7, data17[\"stock_account_cash_balance_scope\"])\n",
    "data17[\"stock_account_cash_balance_scope\"] = np.where((data17[\"stock_account_cash_balance\"] >= 500000) & \n",
    "                                                      (data17[\"stock_account_cash_balance\"] < 1000000),\n",
    "                                                     8, data17[\"stock_account_cash_balance_scope\"])\n",
    "data17[\"stock_account_cash_balance_scope\"] = np.where((data17[\"stock_account_cash_balance\"] >= 1000000) & \n",
    "                                                      (data17[\"stock_account_cash_balance\"] < 5000000),\n",
    "                                                     9, data17[\"stock_account_cash_balance_scope\"])\n",
    "data17[\"stock_account_cash_balance_scope\"] = np.where((data17[\"stock_account_cash_balance\"] >= 5000000) & \n",
    "                                                      (data17[\"stock_account_cash_balance\"] < 10000000),\n",
    "                                                     10, data17[\"stock_account_cash_balance_scope\"])\n",
    "data17[\"stock_account_cash_balance_scope\"] = np.where(data17[\"stock_account_cash_balance\"] >= 10000000,\n",
    "                                                     11, data17[\"stock_account_cash_balance_scope\"])"
   ]
  },
  {
   "cell_type": "code",
   "execution_count": 88,
   "id": "30d62a3b",
   "metadata": {},
   "outputs": [],
   "source": [
    "data17[\"stock_values\"] = np.where((data17[\"stock_values\"] == \".d\") | \n",
    "                                  (data17[\"stock_values\"] == \".r\") |\n",
    "                                  (data17[\"stock_values\"] == \".n\"), \n",
    "                                  \".\", data17[\"stock_values\"])\n",
    "data17[\"stock_values\"] = np.where(data17[\"stock_values\"] == \".\", -1, data17[\"stock_values\"])\n",
    "data17[\"stock_values\"] = data17[\"stock_values\"].astype(float)"
   ]
  },
  {
   "cell_type": "code",
   "execution_count": 89,
   "id": "2c7b781f",
   "metadata": {},
   "outputs": [],
   "source": [
    "data17[\"stock_values_scope\"] = np.where(data17[\"stock_values\"] == 0, \n",
    "                                        0, data17[\"stock_values_scope\"])\n",
    "data17[\"stock_values_scope\"] = np.where((data17[\"stock_values\"] >= 0) & \n",
    "                                        (data17[\"stock_values\"] < 10000), \n",
    "                                        1, data17[\"stock_values_scope\"])\n",
    "data17[\"stock_values_scope\"] = np.where((data17[\"stock_values\"] >= 10000) & \n",
    "                                        (data17[\"stock_values\"] < 30000),\n",
    "                                        2, data17[\"stock_values_scope\"])\n",
    "data17[\"stock_values_scope\"] = np.where((data17[\"stock_values\"] >= 30000) & \n",
    "                                        (data17[\"stock_values\"] < 50000),\n",
    "                                        3, data17[\"stock_values_scope\"])\n",
    "data17[\"stock_values_scope\"] = np.where((data17[\"stock_values\"] >= 50000) & \n",
    "                                        (data17[\"stock_values\"] < 70000),\n",
    "                                        4, data17[\"stock_values_scope\"])\n",
    "data17[\"stock_values_scope\"] = np.where((data17[\"stock_values\"] >= 70000) & \n",
    "                                        (data17[\"stock_values\"] < 100000),\n",
    "                                        5, data17[\"stock_values_scope\"])\n",
    "data17[\"stock_values_scope\"] = np.where((data17[\"stock_values\"] >= 100000) & \n",
    "                                        (data17[\"stock_values\"] < 300000),\n",
    "                                        6, data17[\"stock_values_scope\"])\n",
    "data17[\"stock_values_scope\"] = np.where((data17[\"stock_values\"] >= 300000) & \n",
    "                                        (data17[\"stock_values\"] < 500000),\n",
    "                                        7, data17[\"stock_values_scope\"])\n",
    "data17[\"stock_values_scope\"] = np.where((data17[\"stock_values\"] >= 500000) & \n",
    "                                        (data17[\"stock_values\"] < 1000000),\n",
    "                                        8, data17[\"stock_values_scope\"])\n",
    "data17[\"stock_values_scope\"] = np.where((data17[\"stock_values\"] >= 1000000) & \n",
    "                                        (data17[\"stock_values\"] < 5000000),\n",
    "                                        9, data17[\"stock_values_scope\"])\n",
    "data17[\"stock_values_scope\"] = np.where((data17[\"stock_values\"] >= 5000000) & \n",
    "                                        (data17[\"stock_values\"] < 10000000),\n",
    "                                        10, data17[\"stock_values_scope\"])\n",
    "data17[\"stock_values_scope\"] = np.where(data17[\"stock_values\"] >= 10000000,\n",
    "                                        11, data17[\"stock_values_scope\"])"
   ]
  },
  {
   "cell_type": "code",
   "execution_count": 90,
   "id": "72403103",
   "metadata": {},
   "outputs": [],
   "source": [
    "data17[\"stock_investment\"] = np.where((data17[\"stock_investment\"] == \".d\") | \n",
    "                                      (data17[\"stock_investment\"] == \".r\") |\n",
    "                                      (data17[\"stock_investment\"] == \".n\"), \n",
    "                                      \".\", data17[\"stock_investment\"])\n",
    "data17[\"stock_investment\"] = np.where(data17[\"stock_investment\"] == \".\", -1, data17[\"stock_investment\"])\n",
    "data17[\"stock_investment\"] = data17[\"stock_investment\"].astype(float)"
   ]
  },
  {
   "cell_type": "code",
   "execution_count": 91,
   "id": "a87b1284",
   "metadata": {},
   "outputs": [],
   "source": [
    "data17[\"stock_investment_scope\"] = np.where(data17[\"stock_investment\"] == 0, \n",
    "                                            0, data17[\"stock_investment_scope\"])\n",
    "data17[\"stock_investment_scope\"] = np.where((data17[\"stock_investment\"] >= 0) & \n",
    "                                            (data17[\"stock_investment\"] < 10000), \n",
    "                                            1, data17[\"stock_investment_scope\"])\n",
    "data17[\"stock_investment_scope\"] = np.where((data17[\"stock_investment\"] >= 10000) & \n",
    "                                            (data17[\"stock_investment\"] < 30000),\n",
    "                                            2, data17[\"stock_investment_scope\"])\n",
    "data17[\"stock_investment_scope\"] = np.where((data17[\"stock_investment\"] >= 30000) & \n",
    "                                            (data17[\"stock_investment\"] < 50000),\n",
    "                                            3, data17[\"stock_investment_scope\"])\n",
    "data17[\"stock_investment_scope\"] = np.where((data17[\"stock_investment\"] >= 50000) & \n",
    "                                            (data17[\"stock_investment\"] < 70000),\n",
    "                                            4, data17[\"stock_investment_scope\"])\n",
    "data17[\"stock_investment_scope\"] = np.where((data17[\"stock_investment\"] >= 70000) & \n",
    "                                            (data17[\"stock_investment\"] < 100000),\n",
    "                                            5, data17[\"stock_investment_scope\"])\n",
    "data17[\"stock_investment_scope\"] = np.where((data17[\"stock_investment\"] >= 100000) & \n",
    "                                            (data17[\"stock_investment\"] < 300000),\n",
    "                                            6, data17[\"stock_investment_scope\"])\n",
    "data17[\"stock_investment_scope\"] = np.where((data17[\"stock_investment\"] >= 300000) & \n",
    "                                            (data17[\"stock_investment\"] < 500000),\n",
    "                                            7, data17[\"stock_investment_scope\"])\n",
    "data17[\"stock_investment_scope\"] = np.where((data17[\"stock_investment\"] >= 500000) & \n",
    "                                            (data17[\"stock_investment\"] < 1000000),\n",
    "                                            8, data17[\"stock_investment_scope\"])\n",
    "data17[\"stock_investment_scope\"] = np.where((data17[\"stock_investment\"] >= 1000000) & \n",
    "                                            (data17[\"stock_investment\"] < 5000000),\n",
    "                                            9, data17[\"stock_investment_scope\"])\n",
    "data17[\"stock_investment_scope\"] = np.where((data17[\"stock_investment\"] >= 5000000) & \n",
    "                                            (data17[\"stock_investment\"] < 10000000),\n",
    "                                            10, data17[\"stock_investment_scope\"])\n",
    "data17[\"stock_investment_scope\"] = np.where(data17[\"stock_investment\"] >= 10000000,\n",
    "                                            11, data17[\"stock_investment_scope\"])"
   ]
  },
  {
   "cell_type": "code",
   "execution_count": 92,
   "id": "e822dc19",
   "metadata": {},
   "outputs": [],
   "source": [
    "#Delete unneeded variables\n",
    "del data17[\"stock_account_cash_balance\"]\n",
    "del data17[\"stock_values\"]\n",
    "del data17[\"stock_investment\"]"
   ]
  },
  {
   "cell_type": "code",
   "execution_count": 93,
   "id": "c35f9ce9",
   "metadata": {},
   "outputs": [],
   "source": [
    "#Rename the following variables\n",
    "data17. rename(columns = {'stock_account_cash_balance_scope':'stock_account_cash_balance', \n",
    "                          'stock_values_scope':'stock_values',\n",
    "                          'stock_investment_scope':'stock_investment'}, inplace = True)"
   ]
  },
  {
   "cell_type": "code",
   "execution_count": 94,
   "id": "e6c20774",
   "metadata": {},
   "outputs": [],
   "source": [
    "#Since my research question is focused on the household level, I only need one data per household.\n",
    "#That is, the data of the head of the household.\n",
    "data17 = data17.dropna(subset = ['hhead'])\n",
    "del data17['hhead']"
   ]
  },
  {
   "cell_type": "code",
   "execution_count": 95,
   "id": "eac2dd0b",
   "metadata": {},
   "outputs": [
    {
     "data": {
      "text/html": [
       "<div>\n",
       "<style scoped>\n",
       "    .dataframe tbody tr th:only-of-type {\n",
       "        vertical-align: middle;\n",
       "    }\n",
       "\n",
       "    .dataframe tbody tr th {\n",
       "        vertical-align: top;\n",
       "    }\n",
       "\n",
       "    .dataframe thead th {\n",
       "        text-align: right;\n",
       "    }\n",
       "</style>\n",
       "<table border=\"1\" class=\"dataframe\">\n",
       "  <thead>\n",
       "    <tr style=\"text-align: right;\">\n",
       "      <th></th>\n",
       "      <th>hhid_2015</th>\n",
       "      <th>financial_literacy_2015</th>\n",
       "      <th>risk_preference_2015</th>\n",
       "    </tr>\n",
       "  </thead>\n",
       "  <tbody>\n",
       "    <tr>\n",
       "      <th>0</th>\n",
       "      <td>2015000001</td>\n",
       "      <td>1.0</td>\n",
       "      <td>0.0</td>\n",
       "    </tr>\n",
       "    <tr>\n",
       "      <th>1</th>\n",
       "      <td>2015000002</td>\n",
       "      <td>3.0</td>\n",
       "      <td>2.0</td>\n",
       "    </tr>\n",
       "    <tr>\n",
       "      <th>2</th>\n",
       "      <td>2015000003</td>\n",
       "      <td>1.0</td>\n",
       "      <td>0.0</td>\n",
       "    </tr>\n",
       "    <tr>\n",
       "      <th>3</th>\n",
       "      <td>2015000004</td>\n",
       "      <td>3.0</td>\n",
       "      <td>4.0</td>\n",
       "    </tr>\n",
       "    <tr>\n",
       "      <th>4</th>\n",
       "      <td>2015000005</td>\n",
       "      <td>0.0</td>\n",
       "      <td>0.0</td>\n",
       "    </tr>\n",
       "  </tbody>\n",
       "</table>\n",
       "</div>"
      ],
      "text/plain": [
       "    hhid_2015  financial_literacy_2015  risk_preference_2015\n",
       "0  2015000001                      1.0                   0.0\n",
       "1  2015000002                      3.0                   2.0\n",
       "2  2015000003                      1.0                   0.0\n",
       "3  2015000004                      3.0                   4.0\n",
       "4  2015000005                      0.0                   0.0"
      ]
     },
     "execution_count": 95,
     "metadata": {},
     "output_type": "execute_result"
    }
   ],
   "source": [
    "data15.head()"
   ]
  },
  {
   "cell_type": "code",
   "execution_count": 96,
   "id": "7d1ece7e",
   "metadata": {},
   "outputs": [
    {
     "data": {
      "text/html": [
       "<div>\n",
       "<style scoped>\n",
       "    .dataframe tbody tr th:only-of-type {\n",
       "        vertical-align: middle;\n",
       "    }\n",
       "\n",
       "    .dataframe tbody tr th {\n",
       "        vertical-align: top;\n",
       "    }\n",
       "\n",
       "    .dataframe thead th {\n",
       "        text-align: right;\n",
       "    }\n",
       "</style>\n",
       "<table border=\"1\" class=\"dataframe\">\n",
       "  <thead>\n",
       "    <tr style=\"text-align: right;\">\n",
       "      <th></th>\n",
       "      <th>hhid_2013</th>\n",
       "      <th>financial_literacy_2013</th>\n",
       "      <th>risk_preference_2013</th>\n",
       "    </tr>\n",
       "  </thead>\n",
       "  <tbody>\n",
       "    <tr>\n",
       "      <th>0</th>\n",
       "      <td>2013000001</td>\n",
       "      <td>1.0</td>\n",
       "      <td>1.0</td>\n",
       "    </tr>\n",
       "    <tr>\n",
       "      <th>1</th>\n",
       "      <td>2013000002</td>\n",
       "      <td>2.0</td>\n",
       "      <td>1.0</td>\n",
       "    </tr>\n",
       "    <tr>\n",
       "      <th>2</th>\n",
       "      <td>2013000003</td>\n",
       "      <td>2.0</td>\n",
       "      <td>0.0</td>\n",
       "    </tr>\n",
       "    <tr>\n",
       "      <th>3</th>\n",
       "      <td>2013000004</td>\n",
       "      <td>3.0</td>\n",
       "      <td>0.0</td>\n",
       "    </tr>\n",
       "    <tr>\n",
       "      <th>4</th>\n",
       "      <td>2013000005</td>\n",
       "      <td>2.0</td>\n",
       "      <td>2.0</td>\n",
       "    </tr>\n",
       "  </tbody>\n",
       "</table>\n",
       "</div>"
      ],
      "text/plain": [
       "    hhid_2013  financial_literacy_2013  risk_preference_2013\n",
       "0  2013000001                      1.0                   1.0\n",
       "1  2013000002                      2.0                   1.0\n",
       "2  2013000003                      2.0                   0.0\n",
       "3  2013000004                      3.0                   0.0\n",
       "4  2013000005                      2.0                   2.0"
      ]
     },
     "execution_count": 96,
     "metadata": {},
     "output_type": "execute_result"
    }
   ],
   "source": [
    "data13.head()"
   ]
  },
  {
   "cell_type": "code",
   "execution_count": 97,
   "id": "5088e8dd",
   "metadata": {},
   "outputs": [
    {
     "data": {
      "text/html": [
       "<div>\n",
       "<style scoped>\n",
       "    .dataframe tbody tr th:only-of-type {\n",
       "        vertical-align: middle;\n",
       "    }\n",
       "\n",
       "    .dataframe tbody tr th {\n",
       "        vertical-align: top;\n",
       "    }\n",
       "\n",
       "    .dataframe thead th {\n",
       "        text-align: right;\n",
       "    }\n",
       "</style>\n",
       "<table border=\"1\" class=\"dataframe\">\n",
       "  <thead>\n",
       "    <tr style=\"text-align: right;\">\n",
       "      <th></th>\n",
       "      <th>hhid_2011</th>\n",
       "      <th>risk_preference_2011</th>\n",
       "    </tr>\n",
       "  </thead>\n",
       "  <tbody>\n",
       "    <tr>\n",
       "      <th>0</th>\n",
       "      <td>201100001</td>\n",
       "      <td>0.0</td>\n",
       "    </tr>\n",
       "    <tr>\n",
       "      <th>1</th>\n",
       "      <td>201100002</td>\n",
       "      <td>0.0</td>\n",
       "    </tr>\n",
       "    <tr>\n",
       "      <th>2</th>\n",
       "      <td>201100003</td>\n",
       "      <td>0.0</td>\n",
       "    </tr>\n",
       "    <tr>\n",
       "      <th>3</th>\n",
       "      <td>201100004</td>\n",
       "      <td>0.0</td>\n",
       "    </tr>\n",
       "    <tr>\n",
       "      <th>4</th>\n",
       "      <td>201100005</td>\n",
       "      <td>0.0</td>\n",
       "    </tr>\n",
       "  </tbody>\n",
       "</table>\n",
       "</div>"
      ],
      "text/plain": [
       "   hhid_2011  risk_preference_2011\n",
       "0  201100001                   0.0\n",
       "1  201100002                   0.0\n",
       "2  201100003                   0.0\n",
       "3  201100004                   0.0\n",
       "4  201100005                   0.0"
      ]
     },
     "execution_count": 97,
     "metadata": {},
     "output_type": "execute_result"
    }
   ],
   "source": [
    "data11.head()"
   ]
  },
  {
   "cell_type": "code",
   "execution_count": 98,
   "id": "0bdb06cc",
   "metadata": {},
   "outputs": [],
   "source": [
    "data17['hhid_2015'] = np.where(data17[\"hhid_2015\"] == \".\", -1, data17[\"hhid_2015\"])\n",
    "data17['hhid_2013'] = np.where(data17[\"hhid_2013\"] == \".\", -1, data17[\"hhid_2013\"])\n",
    "data17['hhid_2011'] = np.where(data17[\"hhid_2011\"] == \".\", -1, data17[\"hhid_2011\"])\n",
    "data17['hhid_2015'] = data17['hhid_2015'].astype(int)\n",
    "data17['hhid_2013'] = data17['hhid_2013'].astype(int)\n",
    "data17['hhid_2011'] = data17['hhid_2011'].astype(int)"
   ]
  },
  {
   "cell_type": "markdown",
   "id": "2124aa2d",
   "metadata": {},
   "source": [
    "You can observe a large number of missing values in `financial_literacy` and `risk_preference` in data17 because only new respondents were interviewed in these two related questions in the 2017 survey. Therefore, I need to merge the previous data and fill in the missing values."
   ]
  },
  {
   "cell_type": "code",
   "execution_count": 99,
   "id": "ca0f7c7e",
   "metadata": {},
   "outputs": [],
   "source": [
    "data1 = pd.merge(data17, data15, on = 'hhid_2015', how = 'outer')\n",
    "data2 = pd.merge(data1, data13, on = 'hhid_2013', how = 'outer')\n",
    "data = pd.merge(data2, data11, on = 'hhid_2011', how = 'outer')\n",
    "#The merge method I used produces a lot of na values, remove them.\n",
    "data = data.dropna(subset = ['hhid'])\n",
    "#The merge method I used also produces a lot of duplicate values, so I need to remove these duplicates.\n",
    "data = data.drop_duplicates(subset = ['hhid'], keep = 'first')"
   ]
  },
  {
   "cell_type": "code",
   "execution_count": 100,
   "id": "543a20bf",
   "metadata": {},
   "outputs": [],
   "source": [
    "data['financial_literacy'] = np.where(data[\"financial_literacy\"].isnull() == True, \n",
    "                                      data[\"financial_literacy_2015\"], data[\"financial_literacy\"])\n",
    "data['financial_literacy'] = np.where(data[\"financial_literacy\"].isnull() == True, \n",
    "                                      data[\"financial_literacy_2013\"], data[\"financial_literacy\"])"
   ]
  },
  {
   "cell_type": "code",
   "execution_count": 101,
   "id": "1c33d12c",
   "metadata": {},
   "outputs": [],
   "source": [
    "data['risk_preference'] = np.where(data[\"risk_preference\"].isnull() == True, data[\"risk_preference_2015\"], \n",
    "                                   data[\"risk_preference\"])\n",
    "data['risk_preference'] = np.where(data[\"risk_preference\"].isnull() == True, data[\"risk_preference_2013\"], \n",
    "                                   data[\"risk_preference\"])\n",
    "data['risk_preference'] = np.where(data[\"risk_preference\"].isnull() == True, data[\"risk_preference_2011\"], \n",
    "                                   data[\"risk_preference\"])"
   ]
  },
  {
   "cell_type": "code",
   "execution_count": 102,
   "id": "fedaf706",
   "metadata": {},
   "outputs": [],
   "source": [
    "#Delete unneeded variables\n",
    "del data[\"hhid_2017\"]\n",
    "del data[\"hhid_2015\"]\n",
    "del data[\"hhid_2013\"]\n",
    "del data[\"hhid_2011\"]\n",
    "del data[\"financial_literacy_2015\"]\n",
    "del data[\"financial_literacy_2013\"]\n",
    "del data[\"risk_preference_2015\"]\n",
    "del data[\"risk_preference_2013\"]\n",
    "del data[\"risk_preference_2011\"]\n",
    "del data[\"siblings\"]\n",
    "del data[\"business_insurances\"]"
   ]
  },
  {
   "cell_type": "code",
   "execution_count": 103,
   "id": "717cf82c",
   "metadata": {},
   "outputs": [
    {
     "data": {
      "text/plain": [
       "hhid                                0\n",
       "distance                        27321\n",
       "stock_account_cash_balance        369\n",
       "stock_numbers                     360\n",
       "stock_values                     1263\n",
       "stock_investment                 1264\n",
       "pline                               0\n",
       "education_level                    53\n",
       "total_income                        0\n",
       "total_consump                       0\n",
       "total_asset                         0\n",
       "total_debt                       8337\n",
       "age                                11\n",
       "age2                               11\n",
       "family_member_number                3\n",
       "gender                              1\n",
       "married                             0\n",
       "stock_account                      98\n",
       "health                              9\n",
       "own_house                           0\n",
       "happiness                         458\n",
       "rural_household_registration        0\n",
       "credit_constraints                  0\n",
       "financial_literacy                 46\n",
       "risk_preference                  3692\n",
       "dtype: int64"
      ]
     },
     "execution_count": 103,
     "metadata": {},
     "output_type": "execute_result"
    }
   ],
   "source": [
    "data.isna().sum()"
   ]
  },
  {
   "cell_type": "code",
   "execution_count": 104,
   "id": "0b93beaf",
   "metadata": {},
   "outputs": [],
   "source": [
    "#Since my research question is focused on rural households, I do not need data related to urban households.\n",
    "rural_data = data.drop(data[data['rural_household_registration'] == 0].index)\n",
    "del rural_data['rural_household_registration']"
   ]
  },
  {
   "cell_type": "code",
   "execution_count": 105,
   "id": "3099c729",
   "metadata": {},
   "outputs": [
    {
     "data": {
      "text/plain": [
       "<AxesSubplot:>"
      ]
     },
     "execution_count": 105,
     "metadata": {},
     "output_type": "execute_result"
    },
    {
     "data": {
      "image/png": "[encoded data removed]",
      "text/plain": [
       "<Figure size 432x288 with 1 Axes>"
      ]
     },
     "metadata": {
      "needs_background": "light"
     },
     "output_type": "display_data"
    }
   ],
   "source": [
    "#Data visualization for the missing values\n",
    "sns.heatmap(rural_data.isnull(), yticklabels=False, cbar=False, cmap='BuPu_r')"
   ]
  },
  {
   "cell_type": "code",
   "execution_count": 106,
   "id": "90fd6466",
   "metadata": {},
   "outputs": [
    {
     "data": {
      "text/plain": [
       "hhid                             0\n",
       "distance                      9104\n",
       "stock_account_cash_balance      99\n",
       "stock_numbers                   99\n",
       "stock_values                   232\n",
       "stock_investment               232\n",
       "pline                            0\n",
       "education_level                 25\n",
       "total_income                     0\n",
       "total_consump                    0\n",
       "total_asset                      0\n",
       "total_debt                    3172\n",
       "age                              6\n",
       "age2                             6\n",
       "family_member_number             2\n",
       "gender                           0\n",
       "married                          0\n",
       "stock_account                   53\n",
       "health                           3\n",
       "own_house                        0\n",
       "happiness                      313\n",
       "credit_constraints               0\n",
       "financial_literacy              32\n",
       "risk_preference               2257\n",
       "dtype: int64"
      ]
     },
     "execution_count": 106,
     "metadata": {},
     "output_type": "execute_result"
    }
   ],
   "source": [
    "rural_data.isna().sum()"
   ]
  },
  {
   "cell_type": "code",
   "execution_count": 107,
   "id": "8f7a4c3b",
   "metadata": {},
   "outputs": [
    {
     "data": {
      "text/plain": [
       "0     20663\n",
       "1        42\n",
       "2        37\n",
       "4        29\n",
       "6        29\n",
       ".d       18\n",
       "3        15\n",
       "2        12\n",
       "1        10\n",
       "7         7\n",
       "5         6\n",
       "3         5\n",
       "6         4\n",
       "8         3\n",
       "9         3\n",
       "4         3\n",
       ".r        3\n",
       "5         1\n",
       "Name: stock_account_cash_balance, dtype: int64"
      ]
     },
     "execution_count": 107,
     "metadata": {},
     "output_type": "execute_result"
    }
   ],
   "source": [
    "rural_data['stock_account_cash_balance'].value_counts()"
   ]
  },
  {
   "cell_type": "code",
   "execution_count": 108,
   "id": "237100cd",
   "metadata": {},
   "outputs": [],
   "source": [
    "rural_data = rural_data.drop(rural_data[(rural_data['stock_account_cash_balance'] == '.d') | \n",
    "                                       (rural_data['stock_account_cash_balance'] == '.r')].index)"
   ]
  },
  {
   "cell_type": "code",
   "execution_count": 109,
   "id": "824411bb",
   "metadata": {},
   "outputs": [
    {
     "data": {
      "text/plain": [
       "0      20556\n",
       "0         77\n",
       "1         60\n",
       "2         45\n",
       ".d        40\n",
       "3         37\n",
       "4         20\n",
       "5         17\n",
       "6          4\n",
       "8          3\n",
       "13         2\n",
       "30         1\n",
       "12         1\n",
       "300        1\n",
       "999        1\n",
       "100        1\n",
       "700        1\n",
       "7          1\n",
       "15         1\n",
       "Name: stock_numbers, dtype: int64"
      ]
     },
     "execution_count": 109,
     "metadata": {},
     "output_type": "execute_result"
    }
   ],
   "source": [
    "rural_data['stock_numbers'].value_counts()"
   ]
  },
  {
   "cell_type": "code",
   "execution_count": 110,
   "id": "09bd085f",
   "metadata": {},
   "outputs": [],
   "source": [
    "rural_data = rural_data.drop(rural_data[rural_data['stock_numbers'] == '.d'].index)"
   ]
  },
  {
   "cell_type": "code",
   "execution_count": 111,
   "id": "8c1510fc",
   "metadata": {},
   "outputs": [],
   "source": [
    "#Continue processing those missing values\n",
    "rural_data['stock_account_cash_balance'] = rural_data['stock_account_cash_balance'].fillna(rural_data['stock_account_cash_balance'].median())\n",
    "rural_data['stock_numbers'] = rural_data['stock_numbers'].fillna(rural_data['stock_numbers'].median())\n",
    "rural_data['stock_account'] = rural_data['stock_account'].fillna(rural_data['stock_account'].median())\n",
    "rural_data['education_level'] = rural_data['education_level'].fillna(rural_data['education_level'].median())\n",
    "rural_data['health'] = rural_data['health'].fillna(rural_data['health'].median())\n",
    "rural_data['family_member_number'] = rural_data['family_member_number'].fillna(rural_data['family_member_number'].median())\n",
    "rural_data['age'] = rural_data['age'].fillna(rural_data['age'].mean())\n",
    "del rural_data['age2']\n",
    "rural_data['age2'] = rural_data['age']*rural_data['age']\n",
    "rural_data['financial_literacy'] = rural_data['financial_literacy'].fillna(rural_data['financial_literacy'].median())"
   ]
  },
  {
   "cell_type": "code",
   "execution_count": 112,
   "id": "64545164",
   "metadata": {},
   "outputs": [],
   "source": [
    "#Delete rows with too many missing values\n",
    "rural_data = rural_data.dropna(subset = ['distance'])\n",
    "rural_data = rural_data.dropna(subset = ['total_debt'])\n",
    "rural_data = rural_data.dropna(subset = ['risk_preference'])\n",
    "rural_data = rural_data.dropna(subset = ['happiness'])"
   ]
  },
  {
   "cell_type": "code",
   "execution_count": 113,
   "id": "cd9f2c3b",
   "metadata": {},
   "outputs": [
    {
     "data": {
      "text/plain": [
       "hhid                           0\n",
       "distance                       0\n",
       "stock_account_cash_balance     0\n",
       "stock_numbers                  0\n",
       "stock_values                  40\n",
       "stock_investment              40\n",
       "pline                          0\n",
       "education_level                0\n",
       "total_income                   0\n",
       "total_consump                  0\n",
       "total_asset                    0\n",
       "total_debt                     0\n",
       "age                            0\n",
       "family_member_number           0\n",
       "gender                         0\n",
       "married                        0\n",
       "stock_account                  0\n",
       "health                         0\n",
       "own_house                      0\n",
       "happiness                      0\n",
       "credit_constraints             0\n",
       "financial_literacy             0\n",
       "risk_preference                0\n",
       "age2                           0\n",
       "dtype: int64"
      ]
     },
     "execution_count": 113,
     "metadata": {},
     "output_type": "execute_result"
    }
   ],
   "source": [
    "rural_data.isna().sum()"
   ]
  },
  {
   "cell_type": "code",
   "execution_count": 114,
   "id": "872c0ce0",
   "metadata": {},
   "outputs": [],
   "source": [
    "#The following variables contain `.d` in their values, remove them\n",
    "rural_data = rural_data.drop(rural_data[rural_data['stock_values'] == '.d'].index)\n",
    "rural_data = rural_data.drop(rural_data[rural_data['stock_investment'] == '.d'].index)"
   ]
  },
  {
   "cell_type": "code",
   "execution_count": 115,
   "id": "ff8cf3e9",
   "metadata": {},
   "outputs": [],
   "source": [
    "#The following variables have fewer missing values and thus use the median to fill in the missing values\n",
    "rural_data['stock_values'] = rural_data['stock_values'].fillna(rural_data['stock_values'].median())\n",
    "rural_data['stock_investment'] = rural_data['stock_investment'].fillna(rural_data['stock_investment'].median())\n",
    "rural_data['stock_numbers'] = rural_data['stock_numbers'].fillna(rural_data['stock_numbers'].median())\n",
    "rural_data['stock_account'] = rural_data['stock_account'].fillna(rural_data['stock_account'].median())"
   ]
  },
  {
   "cell_type": "code",
   "execution_count": 116,
   "id": "01172a4f",
   "metadata": {},
   "outputs": [
    {
     "data": {
      "text/plain": [
       "<AxesSubplot:>"
      ]
     },
     "execution_count": 116,
     "metadata": {},
     "output_type": "execute_result"
    },
    {
     "data": {
      "image/png": "[encoded data removed]",
      "text/plain": [
       "<Figure size 432x288 with 1 Axes>"
      ]
     },
     "metadata": {
      "needs_background": "light"
     },
     "output_type": "display_data"
    }
   ],
   "source": [
    "#All missing values have been processed\n",
    "sns.heatmap(rural_data.isnull(), yticklabels=False, cbar=False, cmap='BuPu_r')"
   ]
  },
  {
   "cell_type": "code",
   "execution_count": 117,
   "id": "4a911ba3",
   "metadata": {},
   "outputs": [
    {
     "data": {
      "text/html": [
       "<div>\n",
       "<style scoped>\n",
       "    .dataframe tbody tr th:only-of-type {\n",
       "        vertical-align: middle;\n",
       "    }\n",
       "\n",
       "    .dataframe tbody tr th {\n",
       "        vertical-align: top;\n",
       "    }\n",
       "\n",
       "    .dataframe thead th {\n",
       "        text-align: right;\n",
       "    }\n",
       "</style>\n",
       "<table border=\"1\" class=\"dataframe\">\n",
       "  <thead>\n",
       "    <tr style=\"text-align: right;\">\n",
       "      <th></th>\n",
       "      <th>hhid</th>\n",
       "      <th>pline</th>\n",
       "      <th>education_level</th>\n",
       "      <th>total_income</th>\n",
       "      <th>total_consump</th>\n",
       "      <th>total_asset</th>\n",
       "      <th>total_debt</th>\n",
       "      <th>age</th>\n",
       "      <th>family_member_number</th>\n",
       "      <th>gender</th>\n",
       "      <th>married</th>\n",
       "      <th>stock_account</th>\n",
       "      <th>health</th>\n",
       "      <th>own_house</th>\n",
       "      <th>happiness</th>\n",
       "      <th>credit_constraints</th>\n",
       "      <th>financial_literacy</th>\n",
       "      <th>risk_preference</th>\n",
       "      <th>age2</th>\n",
       "    </tr>\n",
       "  </thead>\n",
       "  <tbody>\n",
       "    <tr>\n",
       "      <th>count</th>\n",
       "      <td>8.891000e+03</td>\n",
       "      <td>8891.000000</td>\n",
       "      <td>8891.000000</td>\n",
       "      <td>8.891000e+03</td>\n",
       "      <td>8.891000e+03</td>\n",
       "      <td>8.891000e+03</td>\n",
       "      <td>8.891000e+03</td>\n",
       "      <td>8891.000000</td>\n",
       "      <td>8891.000000</td>\n",
       "      <td>8891.000000</td>\n",
       "      <td>8891.000000</td>\n",
       "      <td>8891.000000</td>\n",
       "      <td>8891.000000</td>\n",
       "      <td>8891.000000</td>\n",
       "      <td>8891.000000</td>\n",
       "      <td>8891.000000</td>\n",
       "      <td>8891.00000</td>\n",
       "      <td>8891.000000</td>\n",
       "      <td>8891.000000</td>\n",
       "    </tr>\n",
       "    <tr>\n",
       "      <th>mean</th>\n",
       "      <td>1.693939e+09</td>\n",
       "      <td>1.617366</td>\n",
       "      <td>2.565066</td>\n",
       "      <td>5.666513e+04</td>\n",
       "      <td>4.359626e+04</td>\n",
       "      <td>4.021093e+05</td>\n",
       "      <td>3.876970e+04</td>\n",
       "      <td>54.925113</td>\n",
       "      <td>4.507479</td>\n",
       "      <td>0.088067</td>\n",
       "      <td>0.905635</td>\n",
       "      <td>0.004386</td>\n",
       "      <td>2.200540</td>\n",
       "      <td>0.967383</td>\n",
       "      <td>0.696772</td>\n",
       "      <td>0.122034</td>\n",
       "      <td>0.88314</td>\n",
       "      <td>0.951412</td>\n",
       "      <td>3146.434106</td>\n",
       "    </tr>\n",
       "    <tr>\n",
       "      <th>std</th>\n",
       "      <td>6.916228e+08</td>\n",
       "      <td>1.165413</td>\n",
       "      <td>0.938437</td>\n",
       "      <td>1.299758e+05</td>\n",
       "      <td>4.977138e+04</td>\n",
       "      <td>1.034757e+06</td>\n",
       "      <td>1.533667e+05</td>\n",
       "      <td>11.387744</td>\n",
       "      <td>2.653229</td>\n",
       "      <td>0.283408</td>\n",
       "      <td>0.292352</td>\n",
       "      <td>0.066089</td>\n",
       "      <td>1.050333</td>\n",
       "      <td>0.177643</td>\n",
       "      <td>0.459679</td>\n",
       "      <td>0.327343</td>\n",
       "      <td>1.07270</td>\n",
       "      <td>1.211355</td>\n",
       "      <td>1268.367343</td>\n",
       "    </tr>\n",
       "    <tr>\n",
       "      <th>min</th>\n",
       "      <td>2.011006e+08</td>\n",
       "      <td>1.000000</td>\n",
       "      <td>1.000000</td>\n",
       "      <td>-1.699793e+06</td>\n",
       "      <td>7.368000e+02</td>\n",
       "      <td>-2.124020e+05</td>\n",
       "      <td>0.000000e+00</td>\n",
       "      <td>4.000000</td>\n",
       "      <td>1.000000</td>\n",
       "      <td>0.000000</td>\n",
       "      <td>0.000000</td>\n",
       "      <td>0.000000</td>\n",
       "      <td>0.000000</td>\n",
       "      <td>0.000000</td>\n",
       "      <td>0.000000</td>\n",
       "      <td>0.000000</td>\n",
       "      <td>0.00000</td>\n",
       "      <td>0.000000</td>\n",
       "      <td>16.000000</td>\n",
       "    </tr>\n",
       "    <tr>\n",
       "      <th>25%</th>\n",
       "      <td>2.013005e+09</td>\n",
       "      <td>1.000000</td>\n",
       "      <td>2.000000</td>\n",
       "      <td>1.156705e+04</td>\n",
       "      <td>1.819150e+04</td>\n",
       "      <td>6.354200e+04</td>\n",
       "      <td>0.000000e+00</td>\n",
       "      <td>47.000000</td>\n",
       "      <td>2.000000</td>\n",
       "      <td>0.000000</td>\n",
       "      <td>1.000000</td>\n",
       "      <td>0.000000</td>\n",
       "      <td>1.000000</td>\n",
       "      <td>1.000000</td>\n",
       "      <td>0.000000</td>\n",
       "      <td>0.000000</td>\n",
       "      <td>0.00000</td>\n",
       "      <td>0.000000</td>\n",
       "      <td>2209.000000</td>\n",
       "    </tr>\n",
       "    <tr>\n",
       "      <th>50%</th>\n",
       "      <td>2.013022e+09</td>\n",
       "      <td>1.000000</td>\n",
       "      <td>3.000000</td>\n",
       "      <td>3.261403e+04</td>\n",
       "      <td>3.152200e+04</td>\n",
       "      <td>1.915540e+05</td>\n",
       "      <td>0.000000e+00</td>\n",
       "      <td>54.000000</td>\n",
       "      <td>4.000000</td>\n",
       "      <td>0.000000</td>\n",
       "      <td>1.000000</td>\n",
       "      <td>0.000000</td>\n",
       "      <td>2.000000</td>\n",
       "      <td>1.000000</td>\n",
       "      <td>1.000000</td>\n",
       "      <td>0.000000</td>\n",
       "      <td>1.00000</td>\n",
       "      <td>1.000000</td>\n",
       "      <td>2916.000000</td>\n",
       "    </tr>\n",
       "    <tr>\n",
       "      <th>75%</th>\n",
       "      <td>2.015020e+09</td>\n",
       "      <td>2.000000</td>\n",
       "      <td>3.000000</td>\n",
       "      <td>6.752000e+04</td>\n",
       "      <td>5.342750e+04</td>\n",
       "      <td>4.284725e+05</td>\n",
       "      <td>3.000000e+04</td>\n",
       "      <td>63.000000</td>\n",
       "      <td>6.000000</td>\n",
       "      <td>0.000000</td>\n",
       "      <td>1.000000</td>\n",
       "      <td>0.000000</td>\n",
       "      <td>3.000000</td>\n",
       "      <td>1.000000</td>\n",
       "      <td>1.000000</td>\n",
       "      <td>0.000000</td>\n",
       "      <td>1.00000</td>\n",
       "      <td>2.000000</td>\n",
       "      <td>3969.000000</td>\n",
       "    </tr>\n",
       "    <tr>\n",
       "      <th>max</th>\n",
       "      <td>2.017040e+09</td>\n",
       "      <td>16.000000</td>\n",
       "      <td>8.000000</td>\n",
       "      <td>5.001535e+06</td>\n",
       "      <td>1.593396e+06</td>\n",
       "      <td>5.622800e+07</td>\n",
       "      <td>7.277052e+06</td>\n",
       "      <td>117.000000</td>\n",
       "      <td>29.000000</td>\n",
       "      <td>1.000000</td>\n",
       "      <td>1.000000</td>\n",
       "      <td>1.000000</td>\n",
       "      <td>4.000000</td>\n",
       "      <td>1.000000</td>\n",
       "      <td>1.000000</td>\n",
       "      <td>1.000000</td>\n",
       "      <td>4.00000</td>\n",
       "      <td>5.000000</td>\n",
       "      <td>13689.000000</td>\n",
       "    </tr>\n",
       "  </tbody>\n",
       "</table>\n",
       "</div>"
      ],
      "text/plain": [
       "               hhid        pline  education_level  total_income  \\\n",
       "count  8.891000e+03  8891.000000      8891.000000  8.891000e+03   \n",
       "mean   1.693939e+09     1.617366         2.565066  5.666513e+04   \n",
       "std    6.916228e+08     1.165413         0.938437  1.299758e+05   \n",
       "min    2.011006e+08     1.000000         1.000000 -1.699793e+06   \n",
       "25%    2.013005e+09     1.000000         2.000000  1.156705e+04   \n",
       "50%    2.013022e+09     1.000000         3.000000  3.261403e+04   \n",
       "75%    2.015020e+09     2.000000         3.000000  6.752000e+04   \n",
       "max    2.017040e+09    16.000000         8.000000  5.001535e+06   \n",
       "\n",
       "       total_consump   total_asset    total_debt          age  \\\n",
       "count   8.891000e+03  8.891000e+03  8.891000e+03  8891.000000   \n",
       "mean    4.359626e+04  4.021093e+05  3.876970e+04    54.925113   \n",
       "std     4.977138e+04  1.034757e+06  1.533667e+05    11.387744   \n",
       "min     7.368000e+02 -2.124020e+05  0.000000e+00     4.000000   \n",
       "25%     1.819150e+04  6.354200e+04  0.000000e+00    47.000000   \n",
       "50%     3.152200e+04  1.915540e+05  0.000000e+00    54.000000   \n",
       "75%     5.342750e+04  4.284725e+05  3.000000e+04    63.000000   \n",
       "max     1.593396e+06  5.622800e+07  7.277052e+06   117.000000   \n",
       "\n",
       "       family_member_number       gender      married  stock_account  \\\n",
       "count           8891.000000  8891.000000  8891.000000    8891.000000   \n",
       "mean               4.507479     0.088067     0.905635       0.004386   \n",
       "std                2.653229     0.283408     0.292352       0.066089   \n",
       "min                1.000000     0.000000     0.000000       0.000000   \n",
       "25%                2.000000     0.000000     1.000000       0.000000   \n",
       "50%                4.000000     0.000000     1.000000       0.000000   \n",
       "75%                6.000000     0.000000     1.000000       0.000000   \n",
       "max               29.000000     1.000000     1.000000       1.000000   \n",
       "\n",
       "            health    own_house    happiness  credit_constraints  \\\n",
       "count  8891.000000  8891.000000  8891.000000         8891.000000   \n",
       "mean      2.200540     0.967383     0.696772            0.122034   \n",
       "std       1.050333     0.177643     0.459679            0.327343   \n",
       "min       0.000000     0.000000     0.000000            0.000000   \n",
       "25%       1.000000     1.000000     0.000000            0.000000   \n",
       "50%       2.000000     1.000000     1.000000            0.000000   \n",
       "75%       3.000000     1.000000     1.000000            0.000000   \n",
       "max       4.000000     1.000000     1.000000            1.000000   \n",
       "\n",
       "       financial_literacy  risk_preference          age2  \n",
       "count          8891.00000      8891.000000   8891.000000  \n",
       "mean              0.88314         0.951412   3146.434106  \n",
       "std               1.07270         1.211355   1268.367343  \n",
       "min               0.00000         0.000000     16.000000  \n",
       "25%               0.00000         0.000000   2209.000000  \n",
       "50%               1.00000         1.000000   2916.000000  \n",
       "75%               1.00000         2.000000   3969.000000  \n",
       "max               4.00000         5.000000  13689.000000  "
      ]
     },
     "execution_count": 117,
     "metadata": {},
     "output_type": "execute_result"
    }
   ],
   "source": [
    "rural_data.describe()"
   ]
  },
  {
   "cell_type": "code",
   "execution_count": 118,
   "id": "fd1d953f",
   "metadata": {},
   "outputs": [
    {
     "data": {
      "text/plain": [
       "8891"
      ]
     },
     "execution_count": 118,
     "metadata": {},
     "output_type": "execute_result"
    }
   ],
   "source": [
    "len(rural_data)"
   ]
  },
  {
   "cell_type": "code",
   "execution_count": 119,
   "id": "7cf9132e",
   "metadata": {},
   "outputs": [],
   "source": [
    "#Export data\n",
    "rural_data.to_csv(inputdir + 'processed_chfs_data.csv', index=False)"
   ]
  }
 ],
 "metadata": {
  "kernelspec": {
   "display_name": "Python 3 (ipykernel)",
   "language": "python",
   "name": "python3"
  },
  "language_info": {
   "codemirror_mode": {
    "name": "ipython",
    "version": 3
   },
   "file_extension": ".py",
   "mimetype": "text/x-python",
   "name": "python",
   "nbconvert_exporter": "python",
   "pygments_lexer": "ipython3",
   "version": "3.8.3"
  }
 },
 "nbformat": 4,
 "nbformat_minor": 5
}
